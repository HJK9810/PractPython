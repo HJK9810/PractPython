{
 "cells": [
  {
   "cell_type": "code",
   "execution_count": 1,
   "id": "09ec0f44",
   "metadata": {},
   "outputs": [],
   "source": [
    " a=[\"a\",\"b\",\"c\",\"d\",\"e\"]"
   ]
  },
  {
   "cell_type": "code",
   "execution_count": 2,
   "id": "ec109008",
   "metadata": {},
   "outputs": [],
   "source": [
    " b={}"
   ]
  },
  {
   "cell_type": "code",
   "execution_count": 3,
   "id": "a45ec387",
   "metadata": {},
   "outputs": [],
   "source": [
    "for i in range (len(a)):\n",
    "    b[i]=a[i] # a는 리스트, b는 딕셔너리"
   ]
  },
  {
   "cell_type": "code",
   "execution_count": 4,
   "id": "01e5e3c2",
   "metadata": {},
   "outputs": [
    {
     "data": {
      "text/plain": [
       "{0: 'a', 1: 'b', 2: 'c', 3: 'd', 4: 'e'}"
      ]
     },
     "execution_count": 4,
     "metadata": {},
     "output_type": "execute_result"
    }
   ],
   "source": [
    "b"
   ]
  },
  {
   "cell_type": "code",
   "execution_count": 5,
   "id": "75e96ba7",
   "metadata": {},
   "outputs": [],
   "source": [
    " a=[\"a\",\"b\",\"c\",\"d\",\"e\"]"
   ]
  },
  {
   "cell_type": "code",
   "execution_count": 6,
   "id": "d7bbeebf",
   "metadata": {},
   "outputs": [],
   "source": [
    " b=enumerate(a) # enumerate() : 요소를 0부터 차례로 숫자 대입"
   ]
  },
  {
   "cell_type": "code",
   "execution_count": 7,
   "id": "6b317a0c",
   "metadata": {},
   "outputs": [
    {
     "data": {
      "text/plain": [
       "<enumerate at 0x1e599bf5240>"
      ]
     },
     "execution_count": 7,
     "metadata": {},
     "output_type": "execute_result"
    }
   ],
   "source": [
    "b"
   ]
  },
  {
   "cell_type": "code",
   "execution_count": 8,
   "id": "b4f80dca",
   "metadata": {},
   "outputs": [],
   "source": [
    " b=dict(enumerate(a)); c=list(enumerate(a)) # b는 딕셔너리, c는 리스트"
   ]
  },
  {
   "cell_type": "code",
   "execution_count": 9,
   "id": "9138903a",
   "metadata": {},
   "outputs": [
    {
     "data": {
      "text/plain": [
       "{0: 'a', 1: 'b', 2: 'c', 3: 'd', 4: 'e'}"
      ]
     },
     "execution_count": 9,
     "metadata": {},
     "output_type": "execute_result"
    }
   ],
   "source": [
    "b"
   ]
  },
  {
   "cell_type": "code",
   "execution_count": 10,
   "id": "f17cbced",
   "metadata": {},
   "outputs": [
    {
     "data": {
      "text/plain": [
       "[(0, 'a'), (1, 'b'), (2, 'c'), (3, 'd'), (4, 'e')]"
      ]
     },
     "execution_count": 10,
     "metadata": {},
     "output_type": "execute_result"
    }
   ],
   "source": [
    "c"
   ]
  },
  {
   "cell_type": "code",
   "execution_count": 11,
   "id": "b31c13b6",
   "metadata": {},
   "outputs": [],
   "source": [
    " a={1,2,3,4,5,6,7,8} #집합a"
   ]
  },
  {
   "cell_type": "code",
   "execution_count": 12,
   "id": "45590443",
   "metadata": {},
   "outputs": [],
   "source": [
    "b={\"a\",\"b\",\"c\",\"d\",\"e\"} #집합b"
   ]
  },
  {
   "cell_type": "code",
   "execution_count": 13,
   "id": "0042d6c1",
   "metadata": {},
   "outputs": [
    {
     "data": {
      "text/plain": [
       "<zip at 0x1e599bec680>"
      ]
     },
     "execution_count": 13,
     "metadata": {},
     "output_type": "execute_result"
    }
   ],
   "source": [
    "zip(a,b) #zip만으로는 단순히 object - 두 컬렉션을 하나씩 대응관계 생성. 단, 서로 개수가 다르면 적은수에 맞춤!"
   ]
  },
  {
   "cell_type": "code",
   "execution_count": 14,
   "id": "93fd5afa",
   "metadata": {},
   "outputs": [],
   "source": [
    "c=dict(zip(a,b));d=list(zip(a,b)) # c는 딕셔너리, d는 리스트 - 튜플을 원소로 가짐"
   ]
  },
  {
   "cell_type": "code",
   "execution_count": 15,
   "id": "5e079589",
   "metadata": {},
   "outputs": [
    {
     "data": {
      "text/plain": [
       "{1: 'e', 2: 'c', 3: 'd', 4: 'a', 5: 'b'}"
      ]
     },
     "execution_count": 15,
     "metadata": {},
     "output_type": "execute_result"
    }
   ],
   "source": [
    "c"
   ]
  },
  {
   "cell_type": "code",
   "execution_count": 16,
   "id": "5ca93154",
   "metadata": {},
   "outputs": [
    {
     "data": {
      "text/plain": [
       "[(1, 'e'), (2, 'c'), (3, 'd'), (4, 'a'), (5, 'b')]"
      ]
     },
     "execution_count": 16,
     "metadata": {},
     "output_type": "execute_result"
    }
   ],
   "source": [
    "d"
   ]
  },
  {
   "cell_type": "code",
   "execution_count": 17,
   "id": "faa24ba1",
   "metadata": {},
   "outputs": [],
   "source": [
    "a=(1,2,3,4,5,6,7,8) #튜플a"
   ]
  },
  {
   "cell_type": "code",
   "execution_count": 18,
   "id": "8f2ad33f",
   "metadata": {},
   "outputs": [],
   "source": [
    "b=[\"a\",\"b\",\"c\",\"d\",\"e\"] #리스트 b"
   ]
  },
  {
   "cell_type": "code",
   "execution_count": 19,
   "id": "e90d83eb",
   "metadata": {},
   "outputs": [],
   "source": [
    " c=dict(zip(a,b));d=list(zip(a,b))"
   ]
  },
  {
   "cell_type": "code",
   "execution_count": 20,
   "id": "5436d76a",
   "metadata": {},
   "outputs": [
    {
     "data": {
      "text/plain": [
       "{1: 'a', 2: 'b', 3: 'c', 4: 'd', 5: 'e'}"
      ]
     },
     "execution_count": 20,
     "metadata": {},
     "output_type": "execute_result"
    }
   ],
   "source": [
    "c"
   ]
  },
  {
   "cell_type": "code",
   "execution_count": 23,
   "id": "26f91b46",
   "metadata": {},
   "outputs": [
    {
     "data": {
      "text/plain": [
       "[(1, 'a'), (2, 'b'), (3, 'c'), (4, 'd'), (5, 'e')]"
      ]
     },
     "execution_count": 23,
     "metadata": {},
     "output_type": "execute_result"
    }
   ],
   "source": [
    "d"
   ]
  },
  {
   "cell_type": "code",
   "execution_count": 1,
   "id": "5fd85010",
   "metadata": {},
   "outputs": [
    {
     "name": "stdout",
     "output_type": "stream",
     "text": [
      "1\n",
      "2\n",
      "3\n",
      "4\n",
      "5\n",
      "6\n"
     ]
    }
   ],
   "source": [
    "def func(x):\n",
    "    return x/2\n",
    "\n",
    "x=(1,2,3,4,5,6)\n",
    "for i in filter(func,x): # filter(함수명, 컬렉션) -> 인자가 하나일때만 사용가능\n",
    "    print(i)"
   ]
  },
  {
   "cell_type": "code",
   "execution_count": 2,
   "id": "bacf7032",
   "metadata": {},
   "outputs": [
    {
     "name": "stdout",
     "output_type": "stream",
     "text": [
      "8\n",
      "10\n",
      "12\n",
      "14\n",
      "16\n",
      "18\n"
     ]
    }
   ],
   "source": [
    "def func(x,y):\n",
    "    return x+y\n",
    "\n",
    "x=(1,2,3,4,5,6)\n",
    "y=(7,8,9,10,11,12)\n",
    "#for i in filter(func,x,y): # filter를 사용시 에러\n",
    "for i in map(func,x,y): # 인자 여러게 전달 => map(함수, 컬렉션인자들)\n",
    "    print(i)"
   ]
  },
  {
   "cell_type": "code",
   "execution_count": 3,
   "id": "a273f68a",
   "metadata": {},
   "outputs": [
    {
     "name": "stdout",
     "output_type": "stream",
     "text": [
      "8\n",
      "10\n",
      "12\n",
      "14\n",
      "16\n",
      "18\n"
     ]
    }
   ],
   "source": [
    "# lambda(함수, 인자들) -> 해당 함수가 간단할경우 한줄에 기입가능\n",
    "x=(1,2,3,4,5,6)\n",
    "y=(7,8,9,10,11,12)\n",
    "for i in map(lambda x,y:x+y, x,y): # lambda 해당함수의 인자:함수내용 -> 함수 내용뒤에 ,가 나올때까지가 함수\n",
    "    print(i)"
   ]
  },
  {
   "cell_type": "code",
   "execution_count": 4,
   "id": "cdd9c240",
   "metadata": {},
   "outputs": [],
   "source": [
    "a=[1,2,3]"
   ]
  },
  {
   "cell_type": "code",
   "execution_count": 5,
   "id": "d5f385bb",
   "metadata": {},
   "outputs": [],
   "source": [
    "b=a # 컬렉션 대입?? -> 값 복사가 아닌 주소복사!!!"
   ]
  },
  {
   "cell_type": "code",
   "execution_count": 6,
   "id": "072cfd0c",
   "metadata": {},
   "outputs": [],
   "source": [
    "b[2]=5"
   ]
  },
  {
   "cell_type": "code",
   "execution_count": 7,
   "id": "e91df117",
   "metadata": {},
   "outputs": [
    {
     "data": {
      "text/plain": [
       "[1, 2, 5]"
      ]
     },
     "execution_count": 7,
     "metadata": {},
     "output_type": "execute_result"
    }
   ],
   "source": [
    "a"
   ]
  },
  {
   "cell_type": "code",
   "execution_count": 8,
   "id": "9b2303c4",
   "metadata": {},
   "outputs": [
    {
     "data": {
      "text/plain": [
       "[1, 2, 5]"
      ]
     },
     "execution_count": 8,
     "metadata": {},
     "output_type": "execute_result"
    }
   ],
   "source": [
    "b"
   ]
  },
  {
   "cell_type": "code",
   "execution_count": 9,
   "id": "429e56c4",
   "metadata": {},
   "outputs": [],
   "source": [
    "b[1] = 3"
   ]
  },
  {
   "cell_type": "code",
   "execution_count": 10,
   "id": "498529ef",
   "metadata": {},
   "outputs": [
    {
     "data": {
      "text/plain": [
       "[1, 3, 5]"
      ]
     },
     "execution_count": 10,
     "metadata": {},
     "output_type": "execute_result"
    }
   ],
   "source": [
    "a"
   ]
  },
  {
   "cell_type": "code",
   "execution_count": 12,
   "id": "13cc2e63",
   "metadata": {},
   "outputs": [],
   "source": [
    "a=[1,2,3] # 복사할곳=복사대상[:] => 값 복사"
   ]
  },
  {
   "cell_type": "code",
   "execution_count": 13,
   "id": "a9cb2f9d",
   "metadata": {},
   "outputs": [],
   "source": [
    "b=a[:]"
   ]
  },
  {
   "cell_type": "code",
   "execution_count": 14,
   "id": "04347980",
   "metadata": {},
   "outputs": [],
   "source": [
    "b[2]=5"
   ]
  },
  {
   "cell_type": "code",
   "execution_count": 15,
   "id": "ec27e4ec",
   "metadata": {},
   "outputs": [
    {
     "data": {
      "text/plain": [
       "[1, 2, 3]"
      ]
     },
     "execution_count": 15,
     "metadata": {},
     "output_type": "execute_result"
    }
   ],
   "source": [
    "a"
   ]
  },
  {
   "cell_type": "code",
   "execution_count": 16,
   "id": "f7ecafdd",
   "metadata": {},
   "outputs": [
    {
     "data": {
      "text/plain": [
       "[1, 2, 5]"
      ]
     },
     "execution_count": 16,
     "metadata": {},
     "output_type": "execute_result"
    }
   ],
   "source": [
    "b"
   ]
  },
  {
   "cell_type": "code",
   "execution_count": 17,
   "id": "d5f7192d",
   "metadata": {},
   "outputs": [],
   "source": [
    "a=[1,2,3] # 복사할곳=복사대상.copy() => 옅은복사"
   ]
  },
  {
   "cell_type": "code",
   "execution_count": 18,
   "id": "51d9b2f8",
   "metadata": {},
   "outputs": [],
   "source": [
    "b=a.copy()"
   ]
  },
  {
   "cell_type": "code",
   "execution_count": 20,
   "id": "c0f1c401",
   "metadata": {},
   "outputs": [],
   "source": [
    "b[2]=5"
   ]
  },
  {
   "cell_type": "code",
   "execution_count": 21,
   "id": "4ec54f1d",
   "metadata": {},
   "outputs": [
    {
     "data": {
      "text/plain": [
       "[1, 2, 3]"
      ]
     },
     "execution_count": 21,
     "metadata": {},
     "output_type": "execute_result"
    }
   ],
   "source": [
    "a"
   ]
  },
  {
   "cell_type": "code",
   "execution_count": 22,
   "id": "11dc4bf2",
   "metadata": {},
   "outputs": [
    {
     "data": {
      "text/plain": [
       "[1, 2, 5]"
      ]
     },
     "execution_count": 22,
     "metadata": {},
     "output_type": "execute_result"
    }
   ],
   "source": [
    "b"
   ]
  },
  {
   "cell_type": "code",
   "execution_count": 23,
   "id": "785865c2",
   "metadata": {},
   "outputs": [],
   "source": [
    "a=[[1,2],3,4]"
   ]
  },
  {
   "cell_type": "code",
   "execution_count": 24,
   "id": "6c519cf0",
   "metadata": {},
   "outputs": [],
   "source": [
    "b=a.copy()"
   ]
  },
  {
   "cell_type": "code",
   "execution_count": 27,
   "id": "3e4e75c3",
   "metadata": {},
   "outputs": [],
   "source": [
    "b[0][1]=3"
   ]
  },
  {
   "cell_type": "code",
   "execution_count": 28,
   "id": "a0c8286e",
   "metadata": {},
   "outputs": [
    {
     "data": {
      "text/plain": [
       "[[1, 3], 3, 4]"
      ]
     },
     "execution_count": 28,
     "metadata": {},
     "output_type": "execute_result"
    }
   ],
   "source": [
    "b"
   ]
  },
  {
   "cell_type": "code",
   "execution_count": 29,
   "id": "eb5ee1e4",
   "metadata": {},
   "outputs": [
    {
     "data": {
      "text/plain": [
       "[[1, 3], 3, 4]"
      ]
     },
     "execution_count": 29,
     "metadata": {},
     "output_type": "execute_result"
    }
   ],
   "source": [
    "a # 컬렉션 안에 컬렉션은 copy만으로 2레벨 리스트까지 복사 X"
   ]
  },
  {
   "cell_type": "code",
   "execution_count": 30,
   "id": "eaf9adbe",
   "metadata": {},
   "outputs": [],
   "source": [
    "a=[[1,2],3,4]"
   ]
  },
  {
   "cell_type": "code",
   "execution_count": 31,
   "id": "ba1ff4f2",
   "metadata": {},
   "outputs": [],
   "source": [
    " b=a[:]"
   ]
  },
  {
   "cell_type": "code",
   "execution_count": 32,
   "id": "e46aeb70",
   "metadata": {},
   "outputs": [
    {
     "data": {
      "text/plain": [
       "[[1, 2], 3, 4]"
      ]
     },
     "execution_count": 32,
     "metadata": {},
     "output_type": "execute_result"
    }
   ],
   "source": [
    "b"
   ]
  },
  {
   "cell_type": "code",
   "execution_count": 33,
   "id": "9e166f8c",
   "metadata": {},
   "outputs": [],
   "source": [
    " b[0][1]=3"
   ]
  },
  {
   "cell_type": "code",
   "execution_count": 34,
   "id": "46253356",
   "metadata": {},
   "outputs": [
    {
     "data": {
      "text/plain": [
       "[[1, 3], 3, 4]"
      ]
     },
     "execution_count": 34,
     "metadata": {},
     "output_type": "execute_result"
    }
   ],
   "source": [
    "a # b=a[:]도 마찬가지"
   ]
  },
  {
   "cell_type": "code",
   "execution_count": 35,
   "id": "c42bede8",
   "metadata": {},
   "outputs": [
    {
     "name": "stdout",
     "output_type": "stream",
     "text": [
      "[[1, 2], 3, 4] [[1, 3], 3, 4]\n"
     ]
    }
   ],
   "source": [
    "import copy as c # deepcopy를 쓰기위해 선언\n",
    "\n",
    "a=[[1,2],3,4]\n",
    "b=c.deepcopy(a) # 아래 레벨까지 모두 복사하기 위해서는 deepcopy 필수!!\n",
    "b[0][1]=3\n",
    "print(a,b)"
   ]
  },
  {
   "cell_type": "code",
   "execution_count": null,
   "id": "96b8c30d",
   "metadata": {},
   "outputs": [],
   "source": []
  }
 ],
 "metadata": {
  "kernelspec": {
   "display_name": "Python 3 (ipykernel)",
   "language": "python",
   "name": "python3"
  },
  "language_info": {
   "codemirror_mode": {
    "name": "ipython",
    "version": 3
   },
   "file_extension": ".py",
   "mimetype": "text/x-python",
   "name": "python",
   "nbconvert_exporter": "python",
   "pygments_lexer": "ipython3",
   "version": "3.8.7rc1"
  }
 },
 "nbformat": 4,
 "nbformat_minor": 5
}
