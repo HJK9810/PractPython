{
 "cells": [
  {
   "cell_type": "code",
   "execution_count": 1,
   "id": "09ec0f44",
   "metadata": {},
   "outputs": [],
   "source": [
    " a=[\"a\",\"b\",\"c\",\"d\",\"e\"]"
   ]
  },
  {
   "cell_type": "code",
   "execution_count": 2,
   "id": "ec109008",
   "metadata": {},
   "outputs": [],
   "source": [
    " b={}"
   ]
  },
  {
   "cell_type": "code",
   "execution_count": 3,
   "id": "a45ec387",
   "metadata": {},
   "outputs": [],
   "source": [
    "for i in range (len(a)):\n",
    "    b[i]=a[i] # a는 리스트, b는 딕셔너리"
   ]
  },
  {
   "cell_type": "code",
   "execution_count": 4,
   "id": "01e5e3c2",
   "metadata": {},
   "outputs": [
    {
     "data": {
      "text/plain": [
       "{0: 'a', 1: 'b', 2: 'c', 3: 'd', 4: 'e'}"
      ]
     },
     "execution_count": 4,
     "metadata": {},
     "output_type": "execute_result"
    }
   ],
   "source": [
    "b"
   ]
  },
  {
   "cell_type": "code",
   "execution_count": 5,
   "id": "75e96ba7",
   "metadata": {},
   "outputs": [],
   "source": [
    " a=[\"a\",\"b\",\"c\",\"d\",\"e\"]"
   ]
  },
  {
   "cell_type": "code",
   "execution_count": 6,
   "id": "d7bbeebf",
   "metadata": {},
   "outputs": [],
   "source": [
    " b=enumerate(a) # enumerate() : 요소를 0부터 차례로 숫자 대입"
   ]
  },
  {
   "cell_type": "code",
   "execution_count": 7,
   "id": "6b317a0c",
   "metadata": {},
   "outputs": [
    {
     "data": {
      "text/plain": [
       "<enumerate at 0x1e599bf5240>"
      ]
     },
     "execution_count": 7,
     "metadata": {},
     "output_type": "execute_result"
    }
   ],
   "source": [
    "b"
   ]
  },
  {
   "cell_type": "code",
   "execution_count": 8,
   "id": "b4f80dca",
   "metadata": {},
   "outputs": [],
   "source": [
    " b=dict(enumerate(a)); c=list(enumerate(a)) # b는 딕셔너리, c는 리스트"
   ]
  },
  {
   "cell_type": "code",
   "execution_count": 9,
   "id": "9138903a",
   "metadata": {},
   "outputs": [
    {
     "data": {
      "text/plain": [
       "{0: 'a', 1: 'b', 2: 'c', 3: 'd', 4: 'e'}"
      ]
     },
     "execution_count": 9,
     "metadata": {},
     "output_type": "execute_result"
    }
   ],
   "source": [
    "b"
   ]
  },
  {
   "cell_type": "code",
   "execution_count": 10,
   "id": "f17cbced",
   "metadata": {},
   "outputs": [
    {
     "data": {
      "text/plain": [
       "[(0, 'a'), (1, 'b'), (2, 'c'), (3, 'd'), (4, 'e')]"
      ]
     },
     "execution_count": 10,
     "metadata": {},
     "output_type": "execute_result"
    }
   ],
   "source": [
    "c"
   ]
  },
  {
   "cell_type": "code",
   "execution_count": 11,
   "id": "b31c13b6",
   "metadata": {},
   "outputs": [],
   "source": [
    " a={1,2,3,4,5,6,7,8} #집합a"
   ]
  },
  {
   "cell_type": "code",
   "execution_count": 12,
   "id": "45590443",
   "metadata": {},
   "outputs": [],
   "source": [
    "b={\"a\",\"b\",\"c\",\"d\",\"e\"} #집합b"
   ]
  },
  {
   "cell_type": "code",
   "execution_count": 13,
   "id": "0042d6c1",
   "metadata": {},
   "outputs": [
    {
     "data": {
      "text/plain": [
       "<zip at 0x1e599bec680>"
      ]
     },
     "execution_count": 13,
     "metadata": {},
     "output_type": "execute_result"
    }
   ],
   "source": [
    "zip(a,b) #zip만으로는 단순히 object - 두 컬렉션을 하나씩 대응관계 생성. 단, 서로 개수가 다르면 적은수에 맞춤!"
   ]
  },
  {
   "cell_type": "code",
   "execution_count": 14,
   "id": "93fd5afa",
   "metadata": {},
   "outputs": [],
   "source": [
    "c=dict(zip(a,b));d=list(zip(a,b)) # c는 딕셔너리, d는 리스트 - 튜플을 원소로 가짐"
   ]
  },
  {
   "cell_type": "code",
   "execution_count": 15,
   "id": "5e079589",
   "metadata": {},
   "outputs": [
    {
     "data": {
      "text/plain": [
       "{1: 'e', 2: 'c', 3: 'd', 4: 'a', 5: 'b'}"
      ]
     },
     "execution_count": 15,
     "metadata": {},
     "output_type": "execute_result"
    }
   ],
   "source": [
    "c"
   ]
  },
  {
   "cell_type": "code",
   "execution_count": 16,
   "id": "5ca93154",
   "metadata": {},
   "outputs": [
    {
     "data": {
      "text/plain": [
       "[(1, 'e'), (2, 'c'), (3, 'd'), (4, 'a'), (5, 'b')]"
      ]
     },
     "execution_count": 16,
     "metadata": {},
     "output_type": "execute_result"
    }
   ],
   "source": [
    "d"
   ]
  },
  {
   "cell_type": "code",
   "execution_count": 17,
   "id": "faa24ba1",
   "metadata": {},
   "outputs": [],
   "source": [
    "a=(1,2,3,4,5,6,7,8) #튜플a"
   ]
  },
  {
   "cell_type": "code",
   "execution_count": 18,
   "id": "8f2ad33f",
   "metadata": {},
   "outputs": [],
   "source": [
    "b=[\"a\",\"b\",\"c\",\"d\",\"e\"] #리스트 b"
   ]
  },
  {
   "cell_type": "code",
   "execution_count": 19,
   "id": "e90d83eb",
   "metadata": {},
   "outputs": [],
   "source": [
    " c=dict(zip(a,b));d=list(zip(a,b))"
   ]
  },
  {
   "cell_type": "code",
   "execution_count": 20,
   "id": "5436d76a",
   "metadata": {},
   "outputs": [
    {
     "data": {
      "text/plain": [
       "{1: 'a', 2: 'b', 3: 'c', 4: 'd', 5: 'e'}"
      ]
     },
     "execution_count": 20,
     "metadata": {},
     "output_type": "execute_result"
    }
   ],
   "source": [
    "c"
   ]
  },
  {
   "cell_type": "code",
   "execution_count": 23,
   "id": "26f91b46",
   "metadata": {},
   "outputs": [
    {
     "data": {
      "text/plain": [
       "[(1, 'a'), (2, 'b'), (3, 'c'), (4, 'd'), (5, 'e')]"
      ]
     },
     "execution_count": 23,
     "metadata": {},
     "output_type": "execute_result"
    }
   ],
   "source": [
    "d"
   ]
  },
  {
   "cell_type": "code",
   "execution_count": null,
   "id": "5fd85010",
   "metadata": {},
   "outputs": [],
   "source": []
  }
 ],
 "metadata": {
  "kernelspec": {
   "display_name": "Python 3 (ipykernel)",
   "language": "python",
   "name": "python3"
  },
  "language_info": {
   "codemirror_mode": {
    "name": "ipython",
    "version": 3
   },
   "file_extension": ".py",
   "mimetype": "text/x-python",
   "name": "python",
   "nbconvert_exporter": "python",
   "pygments_lexer": "ipython3",
   "version": "3.8.7rc1"
  }
 },
 "nbformat": 4,
 "nbformat_minor": 5
}
