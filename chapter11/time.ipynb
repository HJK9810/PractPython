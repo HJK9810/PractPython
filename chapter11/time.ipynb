{
 "cells": [
  {
   "cell_type": "code",
   "execution_count": 1,
   "id": "b92de113",
   "metadata": {},
   "outputs": [],
   "source": [
    "import time as t"
   ]
  },
  {
   "cell_type": "code",
   "execution_count": 2,
   "id": "8e4326e3",
   "metadata": {},
   "outputs": [
    {
     "data": {
      "text/plain": [
       "1653395231.0843556"
      ]
     },
     "execution_count": 2,
     "metadata": {},
     "output_type": "execute_result"
    }
   ],
   "source": [
    "a=t.time(); a # 현재시간 구하기"
   ]
  },
  {
   "cell_type": "code",
   "execution_count": 3,
   "id": "a4417a2e",
   "metadata": {},
   "outputs": [
    {
     "data": {
      "text/plain": [
       "'Tue May 24 21:27:11 2022'"
      ]
     },
     "execution_count": 3,
     "metadata": {},
     "output_type": "execute_result"
    }
   ],
   "source": [
    "t.ctime(a) # 초단위 시간을 문자형식 표현"
   ]
  },
  {
   "cell_type": "code",
   "execution_count": 4,
   "id": "00802dd5",
   "metadata": {},
   "outputs": [
    {
     "data": {
      "text/plain": [
       "'Thu Jan  1 09:00:00 1970'"
      ]
     },
     "execution_count": 4,
     "metadata": {},
     "output_type": "execute_result"
    }
   ],
   "source": [
    "t.ctime(0) # 우리나라 기준으로 time=0 -> 1970/1/1 9시 AM 정각"
   ]
  },
  {
   "cell_type": "code",
   "execution_count": 5,
   "id": "b597da7f",
   "metadata": {},
   "outputs": [],
   "source": [
    "import time as t"
   ]
  },
  {
   "cell_type": "code",
   "execution_count": 6,
   "id": "fd795932",
   "metadata": {},
   "outputs": [],
   "source": [
    "a=t.localtime()"
   ]
  },
  {
   "cell_type": "code",
   "execution_count": 7,
   "id": "943f23b3",
   "metadata": {},
   "outputs": [
    {
     "data": {
      "text/plain": [
       "time.struct_time(tm_year=2022, tm_mon=5, tm_mday=24, tm_hour=21, tm_min=28, tm_sec=14, tm_wday=1, tm_yday=144, tm_isdst=0)"
      ]
     },
     "execution_count": 7,
     "metadata": {},
     "output_type": "execute_result"
    }
   ],
   "source": [
    "a"
   ]
  },
  {
   "cell_type": "code",
   "execution_count": 8,
   "id": "f42db887",
   "metadata": {},
   "outputs": [
    {
     "name": "stdout",
     "output_type": "stream",
     "text": [
      "2022년 5월 24일 21시 28분 14초\n"
     ]
    }
   ],
   "source": [
    "print(\"%d년 %d월 %d일 %02d시 %02d분 %02d초\"\n",
    "      %(a.tm_year,a.tm_mon,a.tm_mday,a.tm_hour,a.tm_min,a.tm_sec))"
   ]
  },
  {
   "cell_type": "code",
   "execution_count": 9,
   "id": "860c08e8",
   "metadata": {},
   "outputs": [],
   "source": [
    "import datetime as t"
   ]
  },
  {
   "cell_type": "code",
   "execution_count": 10,
   "id": "f0c42cd6",
   "metadata": {},
   "outputs": [],
   "source": [
    "a=t.datetime.now() # now()함수로 보다 직관적으로 시간출력 가능"
   ]
  },
  {
   "cell_type": "code",
   "execution_count": 11,
   "id": "51c245a6",
   "metadata": {},
   "outputs": [
    {
     "name": "stdout",
     "output_type": "stream",
     "text": [
      "2022년 5월 24일 21시 29분 23초\n"
     ]
    }
   ],
   "source": [
    "print(\"%d년 %d월 %d일 %02d시 %02d분 %02d초\"%(a.year,a.month,a.day,a.hour,a.minute,a.second))"
   ]
  },
  {
   "cell_type": "code",
   "execution_count": 13,
   "id": "6d32a6e7",
   "metadata": {},
   "outputs": [
    {
     "name": "stdout",
     "output_type": "stream",
     "text": [
      "0.000618 초 동안 실행함\n"
     ]
    }
   ],
   "source": [
    "import time as t\n",
    "\n",
    "start=t.time() # 시작시간 초\n",
    "for i in range(10000):\n",
    "    pass\n",
    "end=t.time() # 종료시간 초\n",
    "\n",
    "print(\"%f 초 동안 실행함\"%(end-start)) # 실행시간 구하기"
   ]
  },
  {
   "cell_type": "code",
   "execution_count": 14,
   "id": "54f92678",
   "metadata": {},
   "outputs": [
    {
     "name": "stdout",
     "output_type": "stream",
     "text": [
      "Tue May 24 21:32:05 2022\n",
      "Tue May 24 21:32:08 2022\n",
      "Tue May 24 21:32:11 2022\n",
      "Tue May 24 21:32:14 2022\n",
      "Tue May 24 21:32:17 2022\n",
      "Tue May 24 21:32:20 2022\n",
      "Tue May 24 21:32:23 2022\n",
      "Tue May 24 21:32:26 2022\n",
      "Tue May 24 21:32:29 2022\n",
      "Tue May 24 21:32:32 2022\n"
     ]
    }
   ],
   "source": [
    "import time as t\n",
    "for i in range(10):\n",
    "    print(t.ctime())\n",
    "    t.sleep(3) # n초동안 실행 멈췄다 다시 실행 -> 실행결과를 보면 3초마다 출력됨을 알수있음"
   ]
  },
  {
   "cell_type": "code",
   "execution_count": null,
   "id": "160f740b",
   "metadata": {},
   "outputs": [],
   "source": []
  }
 ],
 "metadata": {
  "kernelspec": {
   "display_name": "Python 3 (ipykernel)",
   "language": "python",
   "name": "python3"
  },
  "language_info": {
   "codemirror_mode": {
    "name": "ipython",
    "version": 3
   },
   "file_extension": ".py",
   "mimetype": "text/x-python",
   "name": "python",
   "nbconvert_exporter": "python",
   "pygments_lexer": "ipython3",
   "version": "3.8.7rc1"
  }
 },
 "nbformat": 4,
 "nbformat_minor": 5
}
