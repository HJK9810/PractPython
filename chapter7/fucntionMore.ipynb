{
 "cells": [
  {
   "cell_type": "code",
   "execution_count": 1,
   "id": "5f78ac76",
   "metadata": {},
   "outputs": [
    {
     "ename": "NameError",
     "evalue": "name 'a' is not defined",
     "output_type": "error",
     "traceback": [
      "\u001b[1;31m---------------------------------------------------------------------------\u001b[0m",
      "\u001b[1;31mNameError\u001b[0m                                 Traceback (most recent call last)",
      "Input \u001b[1;32mIn [1]\u001b[0m, in \u001b[0;36m<cell line: 5>\u001b[1;34m()\u001b[0m\n\u001b[0;32m      2\u001b[0m     a\u001b[38;5;241m=\u001b[39m\u001b[38;5;241m1\u001b[39m \u001b[38;5;66;03m# 지역변수 - 함수 내에서만 영향력\u001b[39;00m\n\u001b[0;32m      4\u001b[0m test()\n\u001b[1;32m----> 5\u001b[0m \u001b[38;5;28mprint\u001b[39m(\u001b[43ma\u001b[49m)\n",
      "\u001b[1;31mNameError\u001b[0m: name 'a' is not defined"
     ]
    }
   ],
   "source": [
    "def test():\n",
    "    a=1 # 지역변수 - 함수 내에서만 영향력\n",
    "\n",
    "test()\n",
    "print(a) # 에러발생 - a가 전역변수(프로그램 전체에서 사용가능)이 아니라 지역변수이기 때문"
   ]
  },
  {
   "cell_type": "code",
   "execution_count": 2,
   "id": "a9954781",
   "metadata": {},
   "outputs": [
    {
     "name": "stdout",
     "output_type": "stream",
     "text": [
      "testf1: 1\n",
      "testf2: 즐거운 실습\n",
      "testf3: 3.141592\n",
      "랄랄라\n"
     ]
    }
   ],
   "source": [
    "# 각각 함수 내에서 선언된 변수 a는 지역변수로 전혀 다른 변수들\n",
    "def testf1():\n",
    "    a=1\n",
    "    print(\"testf1:\",a)\n",
    "    \n",
    "def testf2():\n",
    "    a=\"즐거운 실습\"\n",
    "    print(\"testf2:\",a)\n",
    "    \n",
    "def testf3():\n",
    "    a=3.141592\n",
    "    print(\"testf3:\",a)\n",
    "\n",
    "testf1()\n",
    "testf2()\n",
    "testf3()\n",
    "a=\"랄랄라\" # 전역변수\n",
    "print(a) # 전역변수 출력"
   ]
  },
  {
   "cell_type": "code",
   "execution_count": 3,
   "id": "a4c8d273",
   "metadata": {},
   "outputs": [
    {
     "name": "stdout",
     "output_type": "stream",
     "text": [
      "testf1: 현재 달러환율은 1달러당  1021 원이며\n",
      "testf1: 미화 100달러는  102100 원 입니다\n",
      "testf1: 현재 달러환율은 1달러당  1120 원이며\n",
      "testf1: 미화 100달러는  112000 원 입니다\n",
      "testf2: 현재 달러환율은 1달러당  1011 원이며\n",
      "testf2: 미화 100달러는  101100 원 입니다\n",
      "testf1: 현재 달러환율은 1달러당  1120 원이며\n",
      "testf1: 미화 100달러는  112000 원 입니다\n"
     ]
    }
   ],
   "source": [
    "def testf1(): # 전역변수 출력\n",
    "    print(\"testf1: 현재 달러환율은 1달러당 \",exrate,\"원이며\")\n",
    "    print(\"testf1: 미화 100달러는 \",100*exrate,\"원 입니다\")\n",
    "\n",
    "def testf2(): # 지역변수 선언 & 지역변수 출력\n",
    "    exrate=1011 # 지역변수\n",
    "    print(\"testf2: 현재 달러환율은 1달러당 \",exrate,\"원이며\")\n",
    "    print(\"testf2: 미화 100달러는 \",100*exrate,\"원 입니다\")\n",
    "\n",
    "exrate=1021 #전역변수\n",
    "testf1()\n",
    "exrate=1120 # 전역변수\n",
    "testf1()\n",
    "\n",
    "testf2() #case 1 - 지역변수 출력\n",
    "testf1() #case 2 - 전역변수 출력"
   ]
  },
  {
   "cell_type": "code",
   "execution_count": 6,
   "id": "dfdd40af",
   "metadata": {},
   "outputs": [
    {
     "name": "stdout",
     "output_type": "stream",
     "text": [
      "합: 55\n",
      "Help on function testf1 in module __main__:\n",
      "\n",
      "testf1(n)\n",
      "    이 함수는 홍필두가 최선을 다하여 멋지게 만든 함수\n",
      "    인수 값에 숫자만큼 1부터 해당 값을 더한 값을 출력해 준다\n",
      "\n"
     ]
    }
   ],
   "source": [
    "def testf1(n):\n",
    "# 주석이나 설명을 기입할때 사용\n",
    "    \"\"\" \n",
    "이 함수는 홍필두가 최선을 다하여 멋지게 만든 함수\n",
    "인수 값에 숫자만큼 1부터 해당 값을 더한 값을 출력해 준다\n",
    "\"\"\"\n",
    "    sum=0\n",
    "    for i in range(n+1):\n",
    "        sum+=i\n",
    "    print(\"합:\",sum)\n",
    "\n",
    "# 함수 실행\n",
    "testf1(10)\n",
    "# 프로그램에서(특히 대화식 모드) 해당함수가 궁금할 때\n",
    "help(testf1)"
   ]
  },
  {
   "cell_type": "code",
   "execution_count": null,
   "id": "25eb90fe",
   "metadata": {},
   "outputs": [],
   "source": []
  }
 ],
 "metadata": {
  "kernelspec": {
   "display_name": "Python 3 (ipykernel)",
   "language": "python",
   "name": "python3"
  },
  "language_info": {
   "codemirror_mode": {
    "name": "ipython",
    "version": 3
   },
   "file_extension": ".py",
   "mimetype": "text/x-python",
   "name": "python",
   "nbconvert_exporter": "python",
   "pygments_lexer": "ipython3",
   "version": "3.8.7rc1"
  }
 },
 "nbformat": 4,
 "nbformat_minor": 5
}
