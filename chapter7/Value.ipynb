{
 "cells": [
  {
   "cell_type": "code",
   "execution_count": 1,
   "id": "fac9e0b4",
   "metadata": {},
   "outputs": [
    {
     "name": "stdout",
     "output_type": "stream",
     "text": [
      "case 1: 1\n",
      "case 2: 7\n",
      "case 3: 9505\n"
     ]
    }
   ],
   "source": [
    "def sumsum(*num): # 가변인수 : 인수를 여러개 보낼때 사용 => *변수명\n",
    "    sum=0\n",
    "    for i in num:\n",
    "        sum+=i\n",
    "    return sum\n",
    "\n",
    "print(\"case 1:\", sumsum(1))\n",
    "print(\"case 2:\", sumsum(1,2,4))\n",
    "print(\"case 3:\", sumsum(1,2,34,567,8901))\n",
    "\n",
    "## 에러발생용 가변인수 전달\n",
    "# 1. 함수명(가변인수, 인수)\n",
    "# 2. 함수명(가변인수, 인수*)\n",
    "## 가능한 전달? -> 가변인수가 몇개 전달될지 모르기 떄문 -> 가변인수가 먼저가면 인수또한 가변인수중 하나로 취급됨\n",
    "# 함수명(인수, 가변인수)"
   ]
  },
  {
   "cell_type": "code",
   "execution_count": 2,
   "id": "861f3744",
   "metadata": {},
   "outputs": [
    {
     "name": "stdout",
     "output_type": "stream",
     "text": [
      "case 1: 1\n",
      "case 2: 7\n",
      "case 3: 9505\n"
     ]
    }
   ],
   "source": [
    "def sumsum(num): # 가변인수가 아닌 리스트형으로 인수전달\n",
    "    sum=0\n",
    "    for i in num:\n",
    "        sum+=i\n",
    "    return sum\n",
    "\n",
    "print(\"case 1:\", sumsum([1]))\n",
    "print(\"case 2:\", sumsum([1,2,4]))\n",
    "print(\"case 3:\", sumsum([1,2,34,567,8901]))"
   ]
  },
  {
   "cell_type": "code",
   "execution_count": 3,
   "id": "a1ae6e39",
   "metadata": {},
   "outputs": [
    {
     "name": "stdout",
     "output_type": "stream",
     "text": [
      "case 1: 55\n",
      "case 2: 3825\n",
      "case 3: 495550\n"
     ]
    }
   ],
   "source": [
    "def defaultest (start,end=1000,step=1): # 인수에 디폴트값 지정 -> 인수전달 생략시, 디폴트값으로 계산\n",
    "    sum=0\n",
    "    for i in range(start,end+1,step):\n",
    "        sum+=i\n",
    "    return sum\n",
    "\n",
    "print(\"case 1:\", defaultest(0,10,1)) \n",
    "print(\"case 2:\", defaultest(50,100)) # 인수 하나를 생략시 맨뒤 step값 기본값 = 1\n",
    "print(\"case 3:\", defaultest(100)) # 인수 하나를 생략시 맨뒤 step기본값 : 1, end 기본값 : 1000"
   ]
  },
  {
   "cell_type": "code",
   "execution_count": 4,
   "id": "ffda55c4",
   "metadata": {},
   "outputs": [
    {
     "name": "stdout",
     "output_type": "stream",
     "text": [
      "case 1: 55\n",
      "case 2: 55\n",
      "case 3: 55\n",
      "case 4: 55\n",
      "case 5: 55\n"
     ]
    }
   ],
   "source": [
    "def defaultest (start,end=1000,step=1):\n",
    "    sum=0\n",
    "    for i in range(start,end+1,step):\n",
    "        sum+=i\n",
    "    return sum\n",
    "\n",
    "print(\"case 1:\", defaultest(0,10,1))\n",
    "print(\"case 2:\", defaultest(start=0,end=10,step=1)) # 키워드 인수 : 함수 호출시 인수 이름 명시\n",
    "print(\"case 3:\", defaultest(step=1,end=10,start=0)) # 키워드 지정시 순서가 상관없음 -> 순서변경 가능\n",
    "print(\"case 4:\", defaultest(0,10,step=1)) # 마지막만 키워드 인수를 사용하고 앞은 일반인수\n",
    "print(\"case 5:\", defaultest(0,step=1,end=10)) # 맨앞은 일반인수. 나머지는 키워드 인수\n",
    "\n",
    "## 에러 발생용 코드 \n",
    "# 키워드 인수는 뒤에서부터 사용해야하기에 그렇지 않은 경우 에러발생\n",
    "#print(\"error1:\", defaultest(0,step=1,10)) \n",
    "#print(\"error2:\", defaultest(start=0,step=1,10))"
   ]
  },
  {
   "cell_type": "code",
   "execution_count": 5,
   "id": "654ec3b8",
   "metadata": {},
   "outputs": [
    {
     "name": "stdout",
     "output_type": "stream",
     "text": [
      "case 1: 55\n",
      "case 2: 5005\n"
     ]
    }
   ],
   "source": [
    "def testfunc (**args): # 가변으로 인수받음\n",
    "    start=args[\"start\"] # 키워드 가변\n",
    "    end=args[\"end\"] # 키워드 가변\n",
    "    step=args[\"step\"] # 키워드 가변\n",
    "    sum=0\n",
    "    for i in range(start,end+1,step):\n",
    "        sum+=i\n",
    "    return sum\n",
    "\n",
    "print(\"case 1:\", testfunc(start=0,end=10,step=1)) # 인수 전달을 키워드 인수로 전달\n",
    "print(\"case 2:\", testfunc(end=100,step=1,start=10))"
   ]
  },
  {
   "cell_type": "code",
   "execution_count": 6,
   "id": "7f20a266",
   "metadata": {},
   "outputs": [
    {
     "name": "stdout",
     "output_type": "stream",
     "text": [
      "==============================\n",
      "***********\n",
      "\n",
      "&&&&&&&&&&&\n",
      "\n",
      "===========\n",
      "\n",
      "==============================\n",
      "   ********\n",
      "\n",
      "   ????????\n",
      "\n",
      "   ========\n",
      "\n",
      "   %%%%%%%%\n",
      "\n"
     ]
    }
   ],
   "source": [
    "def testfunc (*s,**args): # 가변인수, 키워드 가변인수 사용\n",
    "    start=args[\"start\"] # 키워드 가변\n",
    "    end=args[\"end\"] # 키워드 가변\n",
    "    step=args[\"step\"] # 키워드 가변\n",
    "    for c in s:\n",
    "        print(\" \"*start,end=\"\")\n",
    "        for i in range(start,end+1,step):\n",
    "            print(c,end=\"\")\n",
    "        print(\"\\n\")\n",
    "\n",
    "print(\"=\"*30)\n",
    "testfunc(\"*\",\"&\",\"=\",start=0,end=10,step=1) # 가변인수 전달 , 키워드 인수 가변으로 전달 -> 두개를 섞어사용 가능\n",
    "print(\"=\"*30)\n",
    "testfunc(\"*\",\"?\",\"=\",\"%\",start=3,end=10,step=1)"
   ]
  },
  {
   "cell_type": "code",
   "execution_count": null,
   "id": "f09691db",
   "metadata": {},
   "outputs": [],
   "source": []
  }
 ],
 "metadata": {
  "kernelspec": {
   "display_name": "Python 3 (ipykernel)",
   "language": "python",
   "name": "python3"
  },
  "language_info": {
   "codemirror_mode": {
    "name": "ipython",
    "version": 3
   },
   "file_extension": ".py",
   "mimetype": "text/x-python",
   "name": "python",
   "nbconvert_exporter": "python",
   "pygments_lexer": "ipython3",
   "version": "3.8.7rc1"
  }
 },
 "nbformat": 4,
 "nbformat_minor": 5
}
