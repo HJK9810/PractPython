{
 "cells": [
  {
   "cell_type": "code",
   "execution_count": 2,
   "id": "2f33f023",
   "metadata": {},
   "outputs": [
    {
     "name": "stdout",
     "output_type": "stream",
     "text": [
      "별10개 찍기\n",
      "**********\n",
      "\n",
      "별3개 찍기\n",
      "***\n",
      "\n",
      "별5개 찍기\n",
      "*****\n",
      "\n"
     ]
    }
   ],
   "source": [
    "print(\"별10개 찍기\")\n",
    "for i in range(10):\n",
    "    print(\"*\",end=\"\")\n",
    "print(\"\\n\")\n",
    "\n",
    "print(\"별3개 찍기\")\n",
    "for i in range(3):\n",
    "    print(\"*\",end=\"\")\n",
    "print(\"\\n\")\n",
    "\n",
    "print(\"별5개 찍기\")\n",
    "for i in range(5):\n",
    "    print(\"*\",end=\"\")\n",
    "print(\"\\n\")"
   ]
  },
  {
   "cell_type": "code",
   "execution_count": 3,
   "id": "75e17bda",
   "metadata": {},
   "outputs": [
    {
     "name": "stdout",
     "output_type": "stream",
     "text": [
      "별10개 찍기\n",
      "**********\n",
      "\n",
      "별3개 찍기\n",
      "***\n",
      "\n",
      "별5개 찍기\n",
      "*****\n",
      "\n"
     ]
    }
   ],
   "source": [
    "def starprint(n): # 함수 선언 -> n : 인수\n",
    "    for i in range(n):\n",
    "        print(\"*\",end=\"\")\n",
    "    print(\"\\n\")\n",
    "    \n",
    "print(\"별10개 찍기\"); starprint(10)\n",
    "print(\"별3개 찍기\"); starprint(3)\n",
    "print(\"별5개 찍기\"); starprint(5)"
   ]
  },
  {
   "cell_type": "code",
   "execution_count": 5,
   "id": "2c0ade38",
   "metadata": {},
   "outputs": [
    {
     "name": "stdout",
     "output_type": "stream",
     "text": [
      "1~10까지의 합: 55\n",
      "1~1000까지의 합: 500500\n",
      "1~10000까지의 합: 50005000\n"
     ]
    }
   ],
   "source": [
    "def intsum(n):\n",
    "    sum=0;\n",
    "    for i in range(1,n+1,1): # 1~n까지의 합\n",
    "        sum+=i\n",
    "    return sum # 원 프로그램에 계산결과를 반환하는 경우 -> return값으로 반환\n",
    "\n",
    "print(\"1~10까지의 합:\",intsum(10))\n",
    "print(\"1~1000까지의 합:\",intsum(1000))\n",
    "print(\"1~10000까지의 합:\",intsum(10000))"
   ]
  },
  {
   "cell_type": "code",
   "execution_count": 6,
   "id": "f0bfd4e8",
   "metadata": {},
   "outputs": [
    {
     "name": "stdout",
     "output_type": "stream",
     "text": [
      "1~10까지의 합: 55\n",
      "100~1000까지의 합: 495550\n",
      "5000~10000까지의 합: 37507500\n"
     ]
    }
   ],
   "source": [
    "def intsum(x,y): # 인수값을 2개 받기\n",
    "    sum=0;\n",
    "    for i in range(x,y+1,1): # x~y까지의 합\n",
    "        sum+=i\n",
    "    return sum # 총 합 반환\n",
    "\n",
    "print(\"1~10까지의 합:\",intsum(1,10))\n",
    "print(\"100~1000까지의 합:\",intsum(100,1000))\n",
    "print(\"5000~10000까지의 합:\",intsum(5000,10000))"
   ]
  },
  {
   "cell_type": "code",
   "execution_count": 7,
   "id": "f096d4ab",
   "metadata": {},
   "outputs": [
    {
     "name": "stdout",
     "output_type": "stream",
     "text": [
      "1~10까지의 합에 5를 더함: 60\n",
      "100~1000까지의 합에 33을 곱함: 16353150\n"
     ]
    }
   ],
   "source": [
    "def intsum(x,y):\n",
    "    sum=0;\n",
    "    for i in range(x,y+1,1):\n",
    "        sum+=i\n",
    "    return sum # 해당 값을 반환\n",
    "\n",
    "print(\"1~10까지의 합에 5를 더함:\",intsum(1,10)+5)\n",
    "i=intsum(100,1000)*33\n",
    "print(\"100~1000까지의 합에 33을 곱함:\",i)"
   ]
  },
  {
   "cell_type": "code",
   "execution_count": 8,
   "id": "a9fefc50",
   "metadata": {},
   "outputs": [
    {
     "name": "stdout",
     "output_type": "stream",
     "text": [
      "함수내부에서 sum값을 출력: 495550\n",
      "100~1000까지의 합: None\n",
      "100~1000까지의 합에 33을 곱함: None\n"
     ]
    }
   ],
   "source": [
    "def intsum(x,y):\n",
    "    sum=0;\n",
    "    for i in range(x,y+1,1):\n",
    "        sum+=i\n",
    "    print(\"함수내부에서 sum값을 출력:\",sum) # return값이 없는경우? None이라는 값이 반환됨\n",
    "    \n",
    "i=intsum(100,1000)\n",
    "print(\"100~1000까지의 합:\",i)\n",
    "print(\"100~1000까지의 합에 33을 곱함:\",i)"
   ]
  },
  {
   "cell_type": "code",
   "execution_count": 9,
   "id": "bff03e92",
   "metadata": {},
   "outputs": [],
   "source": [
    "def titleprint(): # 반환값 X\n",
    "    pass # 아무런 처리가 없는 명령어 - 추후 내용을 채우며 개발할때 용이\n",
    "\n",
    "def itemprint(name,kortotal,engtotal,mathtotal): # 성적처리 -> 성적 출력\n",
    "    pass \n",
    "\n",
    "def tailprint(): # 총점계산 후 출력\n",
    "    pass\n",
    "\n",
    "#데이터\n",
    "cname=[\"나연\",\"정연\",\"모모\",\"사나\",\"지효\",\"미나\",\"다현\",\"채영\",\"쯔위\"]\n",
    "ckor =[ 100,100,90,90,100,80,70,80,100]\n",
    "ceng =[ 90,100,100,80,100,70,60,100,100]\n",
    "cmat =[ 100,80,100,90,100,90,100,90,100]\n",
    "\n",
    "#여기부터 프로그램\n",
    "titleprint()\n",
    "for i in range(9):\n",
    "    itemprint(cname[i],ckor[i],ceng[i],cmat[i])\n",
    "tailprint() "
   ]
  },
  {
   "cell_type": "code",
   "execution_count": 10,
   "id": "04a2ba0b",
   "metadata": {},
   "outputs": [
    {
     "name": "stdout",
     "output_type": "stream",
     "text": [
      "==================================================\n",
      "이름\t국어\t영어\t수학\t총점\t평균\n",
      "==================================================\n"
     ]
    }
   ],
   "source": [
    "def titleprint(): # 반환값 X\n",
    "    print(\"=\"*50) # 구분선\n",
    "    print(\"이름\\t국어\\t영어\\t수학\\t총점\\t평균\") # 카테고리\n",
    "    print(\"=\"*50) # 구분선\n",
    "\n",
    "def itemprint(name,kortotal,engtotal,mathtotal): # 성적처리 -> 성적 출력\n",
    "    pass\n",
    "\n",
    "def tailprint(): # 총점계산 후 출력\n",
    "    pass\n",
    "\n",
    "#데이터\n",
    "cname=[\"나연\",\"정연\",\"모모\",\"사나\",\"지효\",\"미나\",\"다현\",\"채영\",\"쯔위\"]\n",
    "ckor =[ 100,100,90,90,100,80,70,80,100]\n",
    "ceng =[ 90,100,100,80,100,70,60,100,100]\n",
    "cmat =[ 100,80,100,90,100,90,100,90,100]\n",
    "\n",
    "#여기부터 프로그램\n",
    "titleprint()\n",
    "for i in range(9):\n",
    "    itemprint(cname[i],ckor[i],ceng[i],cmat[i])\n",
    "tailprint() "
   ]
  },
  {
   "cell_type": "code",
   "execution_count": 18,
   "id": "076ead13",
   "metadata": {},
   "outputs": [
    {
     "ename": "IndentationError",
     "evalue": "expected an indented block (2941738973.py, line 10)",
     "output_type": "error",
     "traceback": [
      "\u001b[1;36m  Input \u001b[1;32mIn [18]\u001b[1;36m\u001b[0m\n\u001b[1;33m    def tailprint(): # 총점계산 후 출력\u001b[0m\n\u001b[1;37m    ^\u001b[0m\n\u001b[1;31mIndentationError\u001b[0m\u001b[1;31m:\u001b[0m expected an indented block\n"
     ]
    }
   ],
   "source": [
    "# 만약, pass 사용 X라면?\n",
    "def titleprint(): # 반환값 X\n",
    "    print(\"=\"*50) # 구분선\n",
    "    print(\"이름\\t국어\\t영어\\t수학\\t총점\\t평균\") # 카테고리\n",
    "    print(\"=\"*50) # 구분선\n",
    "\n",
    "def itemprint(name,kortotal,engtotal,mathtotal): # 성적처리 -> 성적 출력\n",
    "#     pass\n",
    "\n",
    "def tailprint(): # 총점계산 후 출력\n",
    "    pass\n",
    "\n",
    "#데이터\n",
    "cname=[\"나연\",\"정연\",\"모모\",\"사나\",\"지효\",\"미나\",\"다현\",\"채영\",\"쯔위\"]\n",
    "ckor =[ 100,100,90,90,100,80,70,80,100]\n",
    "ceng =[ 90,100,100,80,100,70,60,100,100]\n",
    "cmat =[ 100,80,100,90,100,90,100,90,100]\n",
    "\n",
    "#여기부터 프로그램\n",
    "titleprint()\n",
    "for i in range(9):\n",
    "    itemprint(cname[i],ckor[i],ceng[i],cmat[i])\n",
    "tailprint() "
   ]
  },
  {
   "cell_type": "code",
   "execution_count": 12,
   "id": "f768b7a0",
   "metadata": {},
   "outputs": [
    {
     "name": "stdout",
     "output_type": "stream",
     "text": [
      "==================================================\n",
      "이름\t국어\t영어\t수학\t총점\t평균\n",
      "==================================================\n",
      "나연 \t 100 \t 90 \t 100 \t 290 \t 96\n",
      "정연 \t 100 \t 100 \t 80 \t 280 \t 93\n",
      "모모 \t 90 \t 100 \t 100 \t 290 \t 96\n",
      "사나 \t 90 \t 80 \t 90 \t 260 \t 86\n",
      "지효 \t 100 \t 100 \t 100 \t 300 \t 100\n",
      "미나 \t 80 \t 70 \t 90 \t 240 \t 80\n",
      "다현 \t 70 \t 60 \t 100 \t 230 \t 76\n",
      "채영 \t 80 \t 100 \t 90 \t 270 \t 90\n",
      "쯔위 \t 100 \t 100 \t 100 \t 300 \t 100\n"
     ]
    }
   ],
   "source": [
    "def titleprint(): # 반환값 X\n",
    "    print(\"=\"*50) # 구분선\n",
    "    print(\"이름\\t국어\\t영어\\t수학\\t총점\\t평균\") # 카테고리\n",
    "    print(\"=\"*50) # 구분선\n",
    "\n",
    "def itemprint(name,kor,eng,mat): # 성적처리 -> 성적 출력\n",
    "    print(name,\"\\t\",kor,\"\\t\",eng,\"\\t\",mat,\"\\t\",kor+eng+mat,\"\\t\",(kor+eng+mat)//3)# 평균값은 정수형! => //사용\n",
    "\n",
    "def tailprint(): # 총점계산 후 출력\n",
    "    pass\n",
    "\n",
    "#데이터\n",
    "cname=[\"나연\",\"정연\",\"모모\",\"사나\",\"지효\",\"미나\",\"다현\",\"채영\",\"쯔위\"]\n",
    "ckor =[ 100,100,90,90,100,80,70,80,100]\n",
    "ceng =[ 90,100,100,80,100,70,60,100,100]\n",
    "cmat =[ 100,80,100,90,100,90,100,90,100]\n",
    "\n",
    "#여기부터 프로그램\n",
    "titleprint()\n",
    "for i in range(9):\n",
    "    itemprint(cname[i],ckor[i],ceng[i],cmat[i])\n",
    "tailprint()"
   ]
  },
  {
   "cell_type": "code",
   "execution_count": 16,
   "id": "eb563ccf",
   "metadata": {},
   "outputs": [
    {
     "name": "stdout",
     "output_type": "stream",
     "text": [
      "==================================================\n",
      "이름\t국어\t영어\t수학\t총점\t평균\n",
      "==================================================\n",
      "나연 \t 100 \t 90 \t 100 \t 290 \t 96\n",
      "정연 \t 100 \t 100 \t 80 \t 280 \t 93\n",
      "모모 \t 90 \t 100 \t 100 \t 290 \t 96\n",
      "사나 \t 90 \t 80 \t 90 \t 260 \t 86\n",
      "지효 \t 100 \t 100 \t 100 \t 300 \t 100\n",
      "미나 \t 80 \t 70 \t 90 \t 240 \t 80\n",
      "다현 \t 70 \t 60 \t 100 \t 230 \t 76\n",
      "채영 \t 80 \t 100 \t 90 \t 270 \t 90\n",
      "쯔위 \t 100 \t 100 \t 100 \t 300 \t 100\n",
      "==================================================\n",
      "반총점\t 810 \t 800 \t 850 \t 273 \t 91.0\n",
      "==================================================\n"
     ]
    }
   ],
   "source": [
    "def titleprint(): # 반환값 X\n",
    "    print(\"=\"*50) # 구분선\n",
    "    print(\"이름\\t국어\\t영어\\t수학\\t총점\\t평균\") # 카테고리\n",
    "    print(\"=\"*50) # 구분선\n",
    "\n",
    "def itemprint(name,kor,eng,mat): # 성적처리 -> 성적 출력\n",
    "    print(name,\"\\t\",kor,\"\\t\",eng,\"\\t\",mat,\"\\t\",kor+eng+mat,\"\\t\",(kor+eng+mat)//3)# 평균값은 정수형! => //사용\n",
    "\n",
    "def tailprint(): # 총점계산 후 출력\n",
    "    totkor=0 # 국어총점용 변수\n",
    "    for i in ckor: # 국어점수 총점계산\n",
    "        totkor+=i # 국어 인덱스 +1\n",
    "    toteng=0 # 영어 총점용 변수\n",
    "    for i in ceng: # 영어점수 총점계산\n",
    "        toteng+=i # 영어 인덱스 +1\n",
    "    totmat=0 # 수학 총점용 변수\n",
    "    for i in cmat: # 수학점수 총점계산\n",
    "        totmat+=i # 수학 인덱스 +1\n",
    "    print(\"=\"*50) # 구분선\n",
    "    print(\"반총점\\t\",totkor,\"\\t\",toteng,\"\\t\",totmat,\"\\t\"\n",
    "          ,(totkor+toteng+totmat)//9,\"\\t\",(totkor+toteng+totmat)/3//9) # 인원이 총 9명이기에 전체 평균은 //9\n",
    "    print(\"=\"*50) # 구분선\n",
    "\n",
    "#데이터\n",
    "cname=[\"나연\",\"정연\",\"모모\",\"사나\",\"지효\",\"미나\",\"다현\",\"채영\",\"쯔위\"]\n",
    "ckor =[ 100,100,90,90,100,80,70,80,100]\n",
    "ceng =[ 90,100,100,80,100,70,60,100,100]\n",
    "cmat =[ 100,80,100,90,100,90,100,90,100]\n",
    "\n",
    "#여기부터 프로그램\n",
    "titleprint() # 카테고리 부분\n",
    "for i in range(9): # 셀렉션 길이만큼 반복\n",
    "    itemprint(cname[i],ckor[i],ceng[i],cmat[i]) # 각 열 출력\n",
    "tailprint() # 마지막 총점 출력"
   ]
  },
  {
   "cell_type": "code",
   "execution_count": null,
   "id": "105eb43b",
   "metadata": {},
   "outputs": [],
   "source": []
  }
 ],
 "metadata": {
  "kernelspec": {
   "display_name": "Python 3 (ipykernel)",
   "language": "python",
   "name": "python3"
  },
  "language_info": {
   "codemirror_mode": {
    "name": "ipython",
    "version": 3
   },
   "file_extension": ".py",
   "mimetype": "text/x-python",
   "name": "python",
   "nbconvert_exporter": "python",
   "pygments_lexer": "ipython3",
   "version": "3.8.7rc1"
  }
 },
 "nbformat": 4,
 "nbformat_minor": 5
}
