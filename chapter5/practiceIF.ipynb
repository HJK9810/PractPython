{
 "cells": [
  {
   "cell_type": "code",
   "execution_count": 1,
   "id": "4f715d45",
   "metadata": {},
   "outputs": [
    {
     "name": "stdout",
     "output_type": "stream",
     "text": [
      "이름이 뭐니?홍길동\n"
     ]
    }
   ],
   "source": [
    "name = input(\"이름이 뭐니?\") #간단한 if문\n",
    "if name == \"홍필두\" :\n",
    "    print(\"주인님 어서오십시요\")"
   ]
  },
  {
   "cell_type": "code",
   "execution_count": 2,
   "id": "6c0731b0",
   "metadata": {},
   "outputs": [
    {
     "name": "stdout",
     "output_type": "stream",
     "text": [
      "이름이 뭐니?홍필두\n",
      "주인님 어서오십시요\n"
     ]
    }
   ],
   "source": [
    "name = input(\"이름이 뭐니?\")\n",
    "if name == \"홍필두\" :\n",
    "    print(\"주인님 어서오십시요\")"
   ]
  },
  {
   "cell_type": "code",
   "execution_count": 4,
   "id": "2305d878",
   "metadata": {},
   "outputs": [
    {
     "name": "stdout",
     "output_type": "stream",
     "text": [
      "성별이 어떻게 되나요?여자\n",
      "립스틱색이 예쁘네요.\n"
     ]
    }
   ],
   "source": [
    "name = input(\"성별이 어떻게 되나요?\") #if-else문\n",
    "if name == \"남자\" :\n",
    "    print(\"넥타이가 멋있습니다.\")\n",
    "else:\n",
    "    print(\"립스틱색이 예쁘네요.\")"
   ]
  },
  {
   "cell_type": "code",
   "execution_count": 5,
   "id": "791a3518",
   "metadata": {},
   "outputs": [
    {
     "name": "stdout",
     "output_type": "stream",
     "text": [
      "성별이 어떻게 되나요?남자\n",
      "넥타이가 멋있습니다.\n"
     ]
    }
   ],
   "source": [
    "name = input(\"성별이 어떻게 되나요?\")\n",
    "if name == \"남자\" :\n",
    "    print(\"넥타이가 멋있습니다.\")\n",
    "else:\n",
    "    print(\"립스틱색이 예쁘네요.\")"
   ]
  },
  {
   "cell_type": "code",
   "execution_count": 6,
   "id": "fa116616",
   "metadata": {},
   "outputs": [
    {
     "name": "stdout",
     "output_type": "stream",
     "text": [
      "성별이 어떻게 되나요?몰라\n",
      "립스틱색이 예쁘네요.\n"
     ]
    }
   ],
   "source": [
    "name = input(\"성별이 어떻게 되나요?\")\n",
    "if name == \"남자\" :\n",
    "    print(\"넥타이가 멋있습니다.\")\n",
    "else:\n",
    "    print(\"립스틱색이 예쁘네요.\")"
   ]
  },
  {
   "cell_type": "code",
   "execution_count": 9,
   "id": "cdc23b8b",
   "metadata": {},
   "outputs": [
    {
     "name": "stdout",
     "output_type": "stream",
     "text": [
      "얼마를 구매하셨나요?1000\n",
      "면세입니다.\n"
     ]
    }
   ],
   "source": [
    "price = int(input(\"얼마를 구매하셨나요?\")) #입력한 값을 정수형으로 변환\n",
    "if price < 10000 :\n",
    "    print(\"면세입니다.\") # 조건 비교\n",
    "else:\n",
    "    print(\"세금은 10%입니다.\")"
   ]
  },
  {
   "cell_type": "code",
   "execution_count": 10,
   "id": "bb82fa53",
   "metadata": {},
   "outputs": [
    {
     "name": "stdout",
     "output_type": "stream",
     "text": [
      "얼마를 구매하셨나요?100000\n",
      "세금은 10%입니다.\n"
     ]
    }
   ],
   "source": [
    "price = int(input(\"얼마를 구매하셨나요?\"))\n",
    "if price < 10000 :\n",
    "    print(\"면세입니다.\")\n",
    "else:\n",
    "    print(\"세금은 10%입니다.\")"
   ]
  },
  {
   "cell_type": "code",
   "execution_count": 12,
   "id": "f1a09869",
   "metadata": {},
   "outputs": [
    {
     "name": "stdout",
     "output_type": "stream",
     "text": [
      "얼마를 구매하셨나요?100원\n"
     ]
    },
    {
     "ename": "ValueError",
     "evalue": "invalid literal for int() with base 10: '100원'",
     "output_type": "error",
     "traceback": [
      "\u001b[1;31m---------------------------------------------------------------------------\u001b[0m",
      "\u001b[1;31mValueError\u001b[0m                                Traceback (most recent call last)",
      "Input \u001b[1;32mIn [12]\u001b[0m, in \u001b[0;36m<cell line: 1>\u001b[1;34m()\u001b[0m\n\u001b[1;32m----> 1\u001b[0m price \u001b[38;5;241m=\u001b[39m \u001b[38;5;28;43mint\u001b[39;49m\u001b[43m(\u001b[49m\u001b[38;5;28;43minput\u001b[39;49m\u001b[43m(\u001b[49m\u001b[38;5;124;43m\"\u001b[39;49m\u001b[38;5;124;43m얼마를 구매하셨나요?\u001b[39;49m\u001b[38;5;124;43m\"\u001b[39;49m\u001b[43m)\u001b[49m\u001b[43m)\u001b[49m\n\u001b[0;32m      2\u001b[0m \u001b[38;5;28;01mif\u001b[39;00m price \u001b[38;5;241m<\u001b[39m \u001b[38;5;241m10000\u001b[39m :\n\u001b[0;32m      3\u001b[0m     \u001b[38;5;28mprint\u001b[39m(\u001b[38;5;124m\"\u001b[39m\u001b[38;5;124m면세입니다.\u001b[39m\u001b[38;5;124m\"\u001b[39m)\n",
      "\u001b[1;31mValueError\u001b[0m: invalid literal for int() with base 10: '100원'"
     ]
    }
   ],
   "source": [
    "price = int(input(\"얼마를 구매하셨나요?\"))\n",
    "if price < 10000 :\n",
    "    print(\"면세입니다.\")\n",
    "else:\n",
    "    print(\"세금은 10%입니다.\")"
   ]
  },
  {
   "cell_type": "code",
   "execution_count": null,
   "id": "870e8ea2",
   "metadata": {},
   "outputs": [],
   "source": []
  }
 ],
 "metadata": {
  "kernelspec": {
   "display_name": "Python 3 (ipykernel)",
   "language": "python",
   "name": "python3"
  },
  "language_info": {
   "codemirror_mode": {
    "name": "ipython",
    "version": 3
   },
   "file_extension": ".py",
   "mimetype": "text/x-python",
   "name": "python",
   "nbconvert_exporter": "python",
   "pygments_lexer": "ipython3",
   "version": "3.8.8rc1"
  }
 },
 "nbformat": 4,
 "nbformat_minor": 5
}
