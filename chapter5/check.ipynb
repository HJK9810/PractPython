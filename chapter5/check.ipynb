{
 "cells": [
  {
   "cell_type": "code",
   "execution_count": 1,
   "id": "1f73615f",
   "metadata": {},
   "outputs": [],
   "source": [
    "a=100 #아래것들은 조건이 참이면 출력"
   ]
  },
  {
   "cell_type": "code",
   "execution_count": 2,
   "id": "57b40199",
   "metadata": {},
   "outputs": [],
   "source": [
    "if (a==99): print(\"a는 99입니다\")"
   ]
  },
  {
   "cell_type": "code",
   "execution_count": 4,
   "id": "1c170605",
   "metadata": {},
   "outputs": [
    {
     "name": "stdout",
     "output_type": "stream",
     "text": [
      "a는 100입니다\n"
     ]
    }
   ],
   "source": [
    "if (a==100): print(\"a는 100입니다\")"
   ]
  },
  {
   "cell_type": "code",
   "execution_count": 5,
   "id": "3b76ea53",
   "metadata": {},
   "outputs": [
    {
     "name": "stdout",
     "output_type": "stream",
     "text": [
      "a는 100이상입니다\n"
     ]
    }
   ],
   "source": [
    " if (a>=100): print(\"a는 100이상입니다\")"
   ]
  },
  {
   "cell_type": "code",
   "execution_count": 6,
   "id": "775483dc",
   "metadata": {},
   "outputs": [],
   "source": [
    "if (a<100): print(\"a는 100미만입니다\")"
   ]
  },
  {
   "cell_type": "code",
   "execution_count": 7,
   "id": "b7479712",
   "metadata": {},
   "outputs": [],
   "source": [
    "a=\"abc\" #아래가 참이면 출력"
   ]
  },
  {
   "cell_type": "code",
   "execution_count": 8,
   "id": "316a10f6",
   "metadata": {},
   "outputs": [
    {
     "name": "stdout",
     "output_type": "stream",
     "text": [
      "abc이다\n"
     ]
    }
   ],
   "source": [
    "if(a == \"abc\"): print(\"abc이다\")"
   ]
  },
  {
   "cell_type": "code",
   "execution_count": 9,
   "id": "15be08da",
   "metadata": {},
   "outputs": [],
   "source": [
    " a=\"abc\""
   ]
  },
  {
   "cell_type": "code",
   "execution_count": 11,
   "id": "40098212",
   "metadata": {},
   "outputs": [],
   "source": [
    "if(a > \"abc\"): print(\"abc보다 큰문자이다\") #정렬시크기에 따라 크기비교 가능"
   ]
  },
  {
   "cell_type": "code",
   "execution_count": 12,
   "id": "6d01d406",
   "metadata": {},
   "outputs": [],
   "source": [
    "a=\"abd\""
   ]
  },
  {
   "cell_type": "code",
   "execution_count": 13,
   "id": "68c30ea9",
   "metadata": {},
   "outputs": [
    {
     "name": "stdout",
     "output_type": "stream",
     "text": [
      "abc보다 큰문자이다\n"
     ]
    }
   ],
   "source": [
    " if(a > \"abc\"): print(\"abc보다 큰문자이다\")"
   ]
  },
  {
   "cell_type": "code",
   "execution_count": 14,
   "id": "b4346cfd",
   "metadata": {},
   "outputs": [],
   "source": [
    " a=\"abb\""
   ]
  },
  {
   "cell_type": "code",
   "execution_count": 16,
   "id": "710d63e1",
   "metadata": {},
   "outputs": [],
   "source": [
    "if(a > \"abc\"): print(\"abc보다 큰문자이다\")"
   ]
  },
  {
   "cell_type": "code",
   "execution_count": 17,
   "id": "1f7c8e7c",
   "metadata": {},
   "outputs": [
    {
     "name": "stdout",
     "output_type": "stream",
     "text": [
      "점수를 입력하셔요?88\n",
      "학점은 B입니다.\n"
     ]
    }
   ],
   "source": [
    "x = int(input(\"점수를 입력하셔요?\")) # 논리연산자는 모두 소문자임을 기억할것!!!\n",
    "if 0 <= x and x < 60 : print(\"학점은 F입니다.\")\n",
    "if 60 <= x and x < 70 : print(\"학점은 D입니다.\")\n",
    "if 70 <= x and x < 80 : print(\"학점은 C입니다.\")\n",
    "if 80 <= x and x < 90 : print(\"학점은 B입니다.\")\n",
    "if 90 <= x and x <= 100 : print(\"학점은 A입니다.\")"
   ]
  },
  {
   "cell_type": "code",
   "execution_count": 18,
   "id": "66b21e1d",
   "metadata": {},
   "outputs": [
    {
     "name": "stdout",
     "output_type": "stream",
     "text": [
      "점수를 입력하셔요?100\n",
      "학점은 A입니다.\n"
     ]
    }
   ],
   "source": [
    "x = int(input(\"점수를 입력하셔요?\"))\n",
    "if 0 <= x and x < 60 : print(\"학점은 F입니다.\")\n",
    "if 60 <= x and x < 70 : print(\"학점은 D입니다.\")\n",
    "if 70 <= x and x < 80 : print(\"학점은 C입니다.\")\n",
    "if 80 <= x and x < 90 : print(\"학점은 B입니다.\")\n",
    "if 90 <= x and x <= 100 : print(\"학점은 A입니다.\")"
   ]
  },
  {
   "cell_type": "code",
   "execution_count": 19,
   "id": "73144e20",
   "metadata": {},
   "outputs": [
    {
     "name": "stdout",
     "output_type": "stream",
     "text": [
      "점수를 입력하셔요?44\n",
      "학점은 F입니다.\n"
     ]
    }
   ],
   "source": [
    "x = int(input(\"점수를 입력하셔요?\"))\n",
    "if 0 <= x and x < 60 : print(\"학점은 F입니다.\")\n",
    "if 60 <= x and x < 70 : print(\"학점은 D입니다.\")\n",
    "if 70 <= x and x < 80 : print(\"학점은 C입니다.\")\n",
    "if 80 <= x and x < 90 : print(\"학점은 B입니다.\")\n",
    "if 90 <= x and x <= 100 : print(\"학점은 A입니다.\")"
   ]
  },
  {
   "cell_type": "code",
   "execution_count": 20,
   "id": "1b2d9dac",
   "metadata": {},
   "outputs": [
    {
     "name": "stdout",
     "output_type": "stream",
     "text": [
      "영문 알파벳 한글자를 입력하셔요?a\n",
      "소문자 입니다.\n"
     ]
    }
   ],
   "source": [
    "x = input(\"영문 알파벳 한글자를 입력하셔요?\")\n",
    "if \"a\" <= x and x <= \"z\" : print(\"소문자 입니다.\")\n",
    "if \"A\" <= x and x <= \"Z\" : print(\"대문자 입니다.\")"
   ]
  },
  {
   "cell_type": "code",
   "execution_count": 21,
   "id": "79b73dca",
   "metadata": {},
   "outputs": [
    {
     "name": "stdout",
     "output_type": "stream",
     "text": [
      "영문 알파벳 한글자를 입력하셔요?A\n",
      "대문자 입니다.\n"
     ]
    }
   ],
   "source": [
    "x = input(\"영문 알파벳 한글자를 입력하셔요?\")\n",
    "if \"a\" <= x and x <= \"z\" : print(\"소문자 입니다.\")\n",
    "if \"A\" <= x and x <= \"Z\" : print(\"대문자 입니다.\")"
   ]
  },
  {
   "cell_type": "code",
   "execution_count": 22,
   "id": "03b548ef",
   "metadata": {},
   "outputs": [
    {
     "name": "stdout",
     "output_type": "stream",
     "text": [
      "영문 알파벳 한글자를 입력하셔요?S\n",
      "대문자 입니다.\n"
     ]
    }
   ],
   "source": [
    "x = input(\"영문 알파벳 한글자를 입력하셔요?\")\n",
    "if \"a\" <= x and x <= \"z\" : print(\"소문자 입니다.\")\n",
    "if \"A\" <= x and x <= \"Z\" : print(\"대문자 입니다.\")"
   ]
  },
  {
   "cell_type": "code",
   "execution_count": null,
   "id": "cf1d23d8",
   "metadata": {},
   "outputs": [],
   "source": []
  }
 ],
 "metadata": {
  "kernelspec": {
   "display_name": "Python 3 (ipykernel)",
   "language": "python",
   "name": "python3"
  },
  "language_info": {
   "codemirror_mode": {
    "name": "ipython",
    "version": 3
   },
   "file_extension": ".py",
   "mimetype": "text/x-python",
   "name": "python",
   "nbconvert_exporter": "python",
   "pygments_lexer": "ipython3",
   "version": "3.8.8rc1"
  }
 },
 "nbformat": 4,
 "nbformat_minor": 5
}
