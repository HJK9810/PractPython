{
 "cells": [
  {
   "cell_type": "code",
   "execution_count": 1,
   "id": "9b453576",
   "metadata": {},
   "outputs": [],
   "source": [
    " a=100"
   ]
  },
  {
   "cell_type": "code",
   "execution_count": 2,
   "id": "b0a8327e",
   "metadata": {},
   "outputs": [
    {
     "ename": "IndentationError",
     "evalue": "unexpected indent (722847035.py, line 3)",
     "output_type": "error",
     "traceback": [
      "\u001b[1;36m  Input \u001b[1;32mIn [2]\u001b[1;36m\u001b[0m\n\u001b[1;33m    a = a - 50\u001b[0m\n\u001b[1;37m    ^\u001b[0m\n\u001b[1;31mIndentationError\u001b[0m\u001b[1;31m:\u001b[0m unexpected indent\n"
     ]
    }
   ],
   "source": [
    "if a>50:\n",
    "    print (\"50보다 큰수는 50을 빼겠습니다.\")\n",
    "        a = a - 50"
   ]
  },
  {
   "cell_type": "code",
   "execution_count": 3,
   "id": "cd14e004",
   "metadata": {},
   "outputs": [
    {
     "name": "stdout",
     "output_type": "stream",
     "text": [
      "50보다 큰수는 50을 빼겠습니다.\n"
     ]
    }
   ],
   "source": [
    "if a>50: # 같은칸을 띄워야 같은 블록내에서 실행\n",
    "    print (\"50보다 큰수는 50을 빼겠습니다.\")\n",
    "    a = a - 50"
   ]
  },
  {
   "cell_type": "code",
   "execution_count": 4,
   "id": "7291b3b3",
   "metadata": {},
   "outputs": [
    {
     "name": "stdout",
     "output_type": "stream",
     "text": [
      "50\n"
     ]
    }
   ],
   "source": [
    "print(a)"
   ]
  },
  {
   "cell_type": "code",
   "execution_count": 5,
   "id": "1188e840",
   "metadata": {},
   "outputs": [
    {
     "name": "stdout",
     "output_type": "stream",
     "text": [
      "점수를 입력하셔요?(0~100)100\n",
      "학점은 A입니다\n"
     ]
    }
   ],
   "source": [
    "x=int(input(\"점수를 입력하셔요?(0~100)\"))\n",
    "if x >= 90 : print (\"학점은 A입니다\")\n",
    "elif x >= 80 : print (\"학점은 B입니다\") # elif == 다른 java나 C에서의 else if문!\n",
    "elif x >= 70 : print (\"학점은 C입니다\")\n",
    "elif x >= 60 : print (\"학점은 D입니다\")\n",
    "else : print (\"학점은 F입니다\")"
   ]
  },
  {
   "cell_type": "code",
   "execution_count": 6,
   "id": "7f0daa8a",
   "metadata": {},
   "outputs": [
    {
     "name": "stdout",
     "output_type": "stream",
     "text": [
      "점수를 입력하셔요?(0~100)44\n",
      "학점은 F입니다\n"
     ]
    }
   ],
   "source": [
    "x=int(input(\"점수를 입력하셔요?(0~100)\"))\n",
    "if x >= 90 : print (\"학점은 A입니다\")\n",
    "elif x >= 80 : print (\"학점은 B입니다\")\n",
    "elif x >= 70 : print (\"학점은 C입니다\")\n",
    "elif x >= 60 : print (\"학점은 D입니다\")\n",
    "else : print (\"학점은 F입니다\")"
   ]
  },
  {
   "cell_type": "code",
   "execution_count": 7,
   "id": "c594aafb",
   "metadata": {},
   "outputs": [
    {
     "name": "stdout",
     "output_type": "stream",
     "text": [
      "점수를 입력하셔요?(0~100)77\n",
      "학점은 C입니다\n"
     ]
    }
   ],
   "source": [
    "x=int(input(\"점수를 입력하셔요?(0~100)\"))\n",
    "if x >= 90 : print (\"학점은 A입니다\")\n",
    "elif x >= 80 : print (\"학점은 B입니다\")\n",
    "elif x >= 70 : print (\"학점은 C입니다\")\n",
    "elif x >= 60 : print (\"학점은 D입니다\")\n",
    "else : print (\"학점은 F입니다\")"
   ]
  },
  {
   "cell_type": "code",
   "execution_count": 8,
   "id": "cec82958",
   "metadata": {},
   "outputs": [
    {
     "name": "stdout",
     "output_type": "stream",
     "text": [
      "숫자를 입력하셔요?12\n",
      "4의 배수인 짝수입니다(당연히 짝수)\n"
     ]
    }
   ],
   "source": [
    "x=int(input(\"숫자를 입력하셔요?\"))\n",
    "if x % 2 == 0 :\n",
    "    if x%4==0:\n",
    "        print(\"4의 배수인 짝수입니다(당연히 짝수)\")\n",
    "    else:\n",
    "        print(\"4의 배수가 아닌 짝수입니다\");\n",
    "elif x%3==0:\n",
    "    print(\"3의 배수인 홀수 입니다\")\n",
    "else:\n",
    "    print (\"3의 배수가 아닌 홀수입니다\")"
   ]
  },
  {
   "cell_type": "code",
   "execution_count": 9,
   "id": "899fb97e",
   "metadata": {},
   "outputs": [
    {
     "name": "stdout",
     "output_type": "stream",
     "text": [
      "숫자를 입력하셔요?22\n",
      "4의 배수가 아닌 짝수입니다\n"
     ]
    }
   ],
   "source": [
    "x=int(input(\"숫자를 입력하셔요?\"))\n",
    "if x % 2 == 0 :\n",
    "    if x%4==0:\n",
    "        print(\"4의 배수인 짝수입니다(당연히 짝수)\")\n",
    "    else:\n",
    "        print(\"4의 배수가 아닌 짝수입니다\");\n",
    "elif x%3==0:\n",
    "    print(\"3의 배수인 홀수 입니다\")\n",
    "else:\n",
    "    print (\"3의 배수가 아닌 홀수입니다\")"
   ]
  },
  {
   "cell_type": "code",
   "execution_count": 10,
   "id": "af15abcf",
   "metadata": {},
   "outputs": [
    {
     "name": "stdout",
     "output_type": "stream",
     "text": [
      "숫자를 입력하셔요?9\n",
      "3의 배수인 홀수 입니다\n"
     ]
    }
   ],
   "source": [
    "x=int(input(\"숫자를 입력하셔요?\"))\n",
    "if x % 2 == 0 :\n",
    "    if x%4==0:\n",
    "        print(\"4의 배수인 짝수입니다(당연히 짝수)\")\n",
    "    else:\n",
    "        print(\"4의 배수가 아닌 짝수입니다\");\n",
    "elif x%3==0:\n",
    "    print(\"3의 배수인 홀수 입니다\")\n",
    "else:\n",
    "    print (\"3의 배수가 아닌 홀수입니다\")"
   ]
  },
  {
   "cell_type": "code",
   "execution_count": 11,
   "id": "65f5d73f",
   "metadata": {},
   "outputs": [
    {
     "name": "stdout",
     "output_type": "stream",
     "text": [
      "숫자를 입력하셔요?11\n",
      "3의 배수가 아닌 홀수입니다\n"
     ]
    }
   ],
   "source": [
    "x=int(input(\"숫자를 입력하셔요?\"))\n",
    "if x % 2 == 0 :\n",
    "    if x%4==0:\n",
    "        print(\"4의 배수인 짝수입니다(당연히 짝수)\")\n",
    "    else:\n",
    "        print(\"4의 배수가 아닌 짝수입니다\");\n",
    "elif x%3==0:\n",
    "    print(\"3의 배수인 홀수 입니다\")\n",
    "else:\n",
    "    print (\"3의 배수가 아닌 홀수입니다\")"
   ]
  },
  {
   "cell_type": "code",
   "execution_count": 12,
   "id": "cb4e776b",
   "metadata": {},
   "outputs": [],
   "source": [
    "myMoney = 1000000; moneyEx = 1010.12; comission = 0.002 #원화, 환율, 환전수수료"
   ]
  },
  {
   "cell_type": "code",
   "execution_count": 13,
   "id": "5502fcbf",
   "metadata": {},
   "outputs": [],
   "source": [
    "comperOne = moneyEx * comission #1달러당 수수료"
   ]
  },
  {
   "cell_type": "code",
   "execution_count": 18,
   "id": "54473207",
   "metadata": {},
   "outputs": [],
   "source": [
    "usd = int(myMoney / (moneyEx + comperOne)) #환전가능 달러 = 바꿀원화 / (달러환율 + 달ㄹ러당 수수료)"
   ]
  },
  {
   "cell_type": "code",
   "execution_count": 19,
   "id": "89efd575",
   "metadata": {},
   "outputs": [],
   "source": [
    "totalcomission = usd * comperOne #총수수료 = 환전다러 * 달러당 수수료"
   ]
  },
  {
   "cell_type": "code",
   "execution_count": 20,
   "id": "5b4af9ab",
   "metadata": {},
   "outputs": [],
   "source": [
    "iTotalCom = 0 #총 수수료가 정수이면 그대로, 아니면 올림해서 출력\n",
    "if(totalcomission == float(int(totalcomission))): \n",
    "    iTotalCom = int(totalcomission)\n",
    "else :\n",
    "    iTotalCom = int(totalcomission) + 1"
   ]
  },
  {
   "cell_type": "code",
   "execution_count": 22,
   "id": "0c4a9eec",
   "metadata": {},
   "outputs": [],
   "source": [
    "remain = int(myMoney - usd * moneyEx - iTotalCom) #한화 거스름돈"
   ]
  },
  {
   "cell_type": "code",
   "execution_count": 35,
   "id": "af93f0e4",
   "metadata": {},
   "outputs": [
    {
     "name": "stdout",
     "output_type": "stream",
     "text": [
      "총급액 : 1000000원  달러환율 : 1010.12달러\n",
      "지급 달러 : 988달러\n",
      "거스름돈 : 5원  은행수수료 : 1996원\n"
     ]
    }
   ],
   "source": [
    "print(\"총급액 : \"+str(myMoney)+\"원  달러환율 : \"+ str(moneyEx)+\"달러\\n\"\n",
    "      \"지급 달러 : \"+str(usd)+\"달러\\n\"\n",
    "      \"거스름돈 : \"+str(remain)+\"원  은행수수료 : \"+str(iTotalCom)+\"원\")"
   ]
  },
  {
   "cell_type": "code",
   "execution_count": null,
   "id": "d7e14cc5",
   "metadata": {},
   "outputs": [],
   "source": []
  }
 ],
 "metadata": {
  "kernelspec": {
   "display_name": "Python 3 (ipykernel)",
   "language": "python",
   "name": "python3"
  },
  "language_info": {
   "codemirror_mode": {
    "name": "ipython",
    "version": 3
   },
   "file_extension": ".py",
   "mimetype": "text/x-python",
   "name": "python",
   "nbconvert_exporter": "python",
   "pygments_lexer": "ipython3",
   "version": "3.8.8rc1"
  }
 },
 "nbformat": 4,
 "nbformat_minor": 5
}
