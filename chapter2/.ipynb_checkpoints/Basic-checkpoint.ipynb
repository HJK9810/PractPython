{
 "cells": [
  {
   "cell_type": "code",
   "execution_count": 4,
   "id": "faaad8e4",
   "metadata": {},
   "outputs": [
    {
     "data": {
      "text/plain": [
       "3"
      ]
     },
     "execution_count": 4,
     "metadata": {},
     "output_type": "execute_result"
    }
   ],
   "source": [
    "1+2"
   ]
  },
  {
   "cell_type": "code",
   "execution_count": 5,
   "id": "a07ac70e",
   "metadata": {},
   "outputs": [
    {
     "data": {
      "text/plain": [
       "3"
      ]
     },
     "execution_count": 5,
     "metadata": {},
     "output_type": "execute_result"
    }
   ],
   "source": [
    "1 + 2"
   ]
  },
  {
   "cell_type": "code",
   "execution_count": 6,
   "id": "5f465fa2",
   "metadata": {},
   "outputs": [
    {
     "data": {
      "text/plain": [
       "3"
      ]
     },
     "execution_count": 6,
     "metadata": {},
     "output_type": "execute_result"
    }
   ],
   "source": [
    " 1+2"
   ]
  },
  {
   "cell_type": "code",
   "execution_count": 8,
   "id": "4b7ec0e4",
   "metadata": {},
   "outputs": [
    {
     "data": {
      "text/plain": [
       "3"
      ]
     },
     "execution_count": 8,
     "metadata": {},
     "output_type": "execute_result"
    }
   ],
   "source": [
    "    1+2"
   ]
  },
  {
   "cell_type": "code",
   "execution_count": 11,
   "id": "dbb93b65",
   "metadata": {},
   "outputs": [
    {
     "name": "stdout",
     "output_type": "stream",
     "text": [
      "스위치 on\n"
     ]
    }
   ],
   "source": [
    "sw = 1\n",
    "if sw == 1:\n",
    "    print(\"스위치 on\")\n",
    "else:\n",
    "    print(\"스위치 off\")"
   ]
  },
  {
   "cell_type": "code",
   "execution_count": 17,
   "id": "abb60232",
   "metadata": {},
   "outputs": [
    {
     "data": {
      "text/plain": [
       "12"
      ]
     },
     "execution_count": 17,
     "metadata": {},
     "output_type": "execute_result"
    }
   ],
   "source": [
    "1+2; 3+4; 5 + 7"
   ]
  },
  {
   "cell_type": "code",
   "execution_count": 14,
   "id": "42cd16c2",
   "metadata": {},
   "outputs": [
    {
     "data": {
      "text/plain": [
       "12"
      ]
     },
     "execution_count": 14,
     "metadata": {},
     "output_type": "execute_result"
    }
   ],
   "source": [
    "1+2\n",
    "3+4\n",
    "5+7"
   ]
  },
  {
   "cell_type": "code",
   "execution_count": 15,
   "id": "819bf356",
   "metadata": {},
   "outputs": [
    {
     "data": {
      "text/plain": [
       "12"
      ]
     },
     "execution_count": 15,
     "metadata": {},
     "output_type": "execute_result"
    }
   ],
   "source": [
    "1+2;\n",
    "3+4;\n",
    "5+7"
   ]
  },
  {
   "cell_type": "code",
   "execution_count": 16,
   "id": "7408be5b",
   "metadata": {},
   "outputs": [
    {
     "data": {
      "text/plain": [
       "12"
      ]
     },
     "execution_count": 16,
     "metadata": {},
     "output_type": "execute_result"
    }
   ],
   "source": [
    " 1+2;3+4; 5+ 7"
   ]
  },
  {
   "cell_type": "code",
   "execution_count": 18,
   "id": "df194487",
   "metadata": {},
   "outputs": [
    {
     "name": "stdout",
     "output_type": "stream",
     "text": [
      "3\n"
     ]
    }
   ],
   "source": [
    "print(1+2)"
   ]
  },
  {
   "cell_type": "code",
   "execution_count": 20,
   "id": "832c4526",
   "metadata": {},
   "outputs": [
    {
     "ename": "NameError",
     "evalue": "name 'Print' is not defined",
     "output_type": "error",
     "traceback": [
      "\u001b[1;31m---------------------------------------------------------------------------\u001b[0m",
      "\u001b[1;31mNameError\u001b[0m                                 Traceback (most recent call last)",
      "Input \u001b[1;32mIn [20]\u001b[0m, in \u001b[0;36m<cell line: 1>\u001b[1;34m()\u001b[0m\n\u001b[1;32m----> 1\u001b[0m \u001b[43mPrint\u001b[49m(\u001b[38;5;241m1\u001b[39m\u001b[38;5;241m+\u001b[39m\u001b[38;5;241m2\u001b[39m)\n",
      "\u001b[1;31mNameError\u001b[0m: name 'Print' is not defined"
     ]
    }
   ],
   "source": [
    "Print(1+2)"
   ]
  },
  {
   "cell_type": "code",
   "execution_count": 21,
   "id": "3c8f3f64",
   "metadata": {},
   "outputs": [
    {
     "ename": "NameError",
     "evalue": "name 'PRINT' is not defined",
     "output_type": "error",
     "traceback": [
      "\u001b[1;31m---------------------------------------------------------------------------\u001b[0m",
      "\u001b[1;31mNameError\u001b[0m                                 Traceback (most recent call last)",
      "Input \u001b[1;32mIn [21]\u001b[0m, in \u001b[0;36m<cell line: 1>\u001b[1;34m()\u001b[0m\n\u001b[1;32m----> 1\u001b[0m \u001b[43mPRINT\u001b[49m(\u001b[38;5;241m1\u001b[39m\u001b[38;5;241m+\u001b[39m\u001b[38;5;241m2\u001b[39m)\n",
      "\u001b[1;31mNameError\u001b[0m: name 'PRINT' is not defined"
     ]
    }
   ],
   "source": [
    "PRINT(1+2)"
   ]
  },
  {
   "cell_type": "code",
   "execution_count": 22,
   "id": "667e720c",
   "metadata": {},
   "outputs": [],
   "source": [
    "abc = 1"
   ]
  },
  {
   "cell_type": "code",
   "execution_count": 23,
   "id": "c455fa2b",
   "metadata": {},
   "outputs": [
    {
     "data": {
      "text/plain": [
       "3"
      ]
     },
     "execution_count": 23,
     "metadata": {},
     "output_type": "execute_result"
    }
   ],
   "source": [
    "1+2"
   ]
  },
  {
   "cell_type": "code",
   "execution_count": 24,
   "id": "fc082fbb",
   "metadata": {},
   "outputs": [
    {
     "data": {
      "text/plain": [
       "1"
      ]
     },
     "execution_count": 24,
     "metadata": {},
     "output_type": "execute_result"
    }
   ],
   "source": [
    "abc"
   ]
  },
  {
   "cell_type": "code",
   "execution_count": 25,
   "id": "2970d517",
   "metadata": {},
   "outputs": [
    {
     "name": "stdout",
     "output_type": "stream",
     "text": [
      "1\n"
     ]
    }
   ],
   "source": [
    "print(abc)"
   ]
  },
  {
   "cell_type": "code",
   "execution_count": 26,
   "id": "f050e684",
   "metadata": {},
   "outputs": [
    {
     "name": "stdout",
     "output_type": "stream",
     "text": [
      "3\n"
     ]
    }
   ],
   "source": [
    "print(1+2)"
   ]
  },
  {
   "cell_type": "code",
   "execution_count": 27,
   "id": "c0c051cb",
   "metadata": {},
   "outputs": [
    {
     "name": "stdout",
     "output_type": "stream",
     "text": [
      "3\n",
      "3\n"
     ]
    }
   ],
   "source": [
    "a=1\n",
    "b=2\n",
    "a+b\n",
    "print(a+b)\n",
    "1+2\n",
    "print(1+2)"
   ]
  },
  {
   "cell_type": "code",
   "execution_count": 28,
   "id": "e3f036b4",
   "metadata": {},
   "outputs": [
    {
     "name": "stdout",
     "output_type": "stream",
     "text": [
      "아침 점심 저녁\n",
      "아침먹고 점심먹고 저녁\n",
      "아침먹고 점심먹고 저녁땡"
     ]
    }
   ],
   "source": [
    "a= \"아침\"\n",
    "b= \"점심\"\n",
    "c= \"저녁\"\n",
    "print(a,b,c)\n",
    "print(a,b,c, sep=\"먹고 \")\n",
    "print(a,b,c, sep=\"먹고 \" ,end =\"땡\")"
   ]
  },
  {
   "cell_type": "code",
   "execution_count": 29,
   "id": "efe859ab",
   "metadata": {},
   "outputs": [
    {
     "name": "stdout",
     "output_type": "stream",
     "text": [
      "아침 점심 저녁\n",
      "아침먹고 점심먹고 저녁\n",
      "아침먹고 점심먹고 저녁아침자고 점심자고 저녁아침먹고 점심먹고 저녁\n",
      "아침자고 점심자고 저녁\n"
     ]
    }
   ],
   "source": [
    "a= \"아침\"\n",
    "b= \"점심\"\n",
    "c= \"저녁\"\n",
    "print(a,b,c)\n",
    "print(a,b,c, sep=\"먹고 \")\n",
    "print(a,b,c, sep=\"먹고 \" ,end =\"\")\n",
    "print(a,b,c, sep=\"자고 \" ,end =\"\")\n",
    "print(a,b,c, sep=\"먹고 \" ,end =\"\\n\")\n",
    "print(a,b,c, sep=\"자고 \" ,end =\"\\n\")"
   ]
  },
  {
   "cell_type": "code",
   "execution_count": 30,
   "id": "4738065b",
   "metadata": {},
   "outputs": [
    {
     "name": "stdout",
     "output_type": "stream",
     "text": [
      "22+33=55\n"
     ]
    }
   ],
   "source": [
    "a= 22\n",
    "b= 33\n",
    "print(a,b, sep=\"+\" ,end=\"=\")\n",
    "print(a+b)"
   ]
  },
  {
   "cell_type": "code",
   "execution_count": 31,
   "id": "bbe982d9",
   "metadata": {},
   "outputs": [
    {
     "name": "stdout",
     "output_type": "stream",
     "text": [
      "너는 이름이 뭐니?홍길동\n",
      "이름이  홍길동  입니다\n",
      "너는 몇 살이니?12\n",
      "나이가  12 살 입니다\n"
     ]
    }
   ],
   "source": [
    "a= input(\"너는 이름이 뭐니?\")\n",
    "print(\"이름이 \",a,\" 입니다\")\n",
    "b= input(\"너는 몇 살이니?\")\n",
    "print(\"나이가 \",b,\"살 입니다\")"
   ]
  },
  {
   "cell_type": "code",
   "execution_count": 3,
   "id": "00342260",
   "metadata": {},
   "outputs": [
    {
     "name": "stdout",
     "output_type": "stream",
     "text": [
      "a값을 입력하셔요?1\n",
      "b값을 입력하셔요?2\n",
      "1+2=12\n",
      "수치 계산 : 1+2=3\n"
     ]
    }
   ],
   "source": [
    "a= input(\"a값을 입력하셔요?\")\n",
    "b= input(\"b값을 입력하셔요?\")\n",
    "print(a,b, sep=\"+\" ,end=\"=\")\n",
    "print(a+b)\n",
    "print(\"수치 계산\", end =\" : \")\n",
    "print(a,b, sep=\"+\" ,end=\"=\")\n",
    "print(int(a)+int(b))"
   ]
  },
  {
   "cell_type": "code",
   "execution_count": 34,
   "id": "3136f877",
   "metadata": {},
   "outputs": [
    {
     "name": "stdout",
     "output_type": "stream",
     "text": [
      "품목?초코파이\n",
      "수량?23\n",
      "단가?1326\n",
      "초코파이  :  23 개 *  1326 원 = 총  30498 원\n"
     ]
    }
   ],
   "source": [
    "a= input(\"품목?\")\n",
    "b=int(input(\"수량?\"))\n",
    "c=int(input(\"단가?\"))\n",
    "print(a, \" : \",b,\"개 * \",c,\"원 = 총 \", b*c, \"원\")"
   ]
  },
  {
   "cell_type": "code",
   "execution_count": 1,
   "id": "216d2551",
   "metadata": {},
   "outputs": [],
   "source": [
    "a=1"
   ]
  },
  {
   "cell_type": "code",
   "execution_count": 4,
   "id": "f3d17cd9",
   "metadata": {},
   "outputs": [
    {
     "name": "stdout",
     "output_type": "stream",
     "text": [
      "1\n"
     ]
    }
   ],
   "source": [
    "print(a)"
   ]
  },
  {
   "cell_type": "code",
   "execution_count": 5,
   "id": "041c831f",
   "metadata": {},
   "outputs": [],
   "source": [
    "a=2"
   ]
  },
  {
   "cell_type": "code",
   "execution_count": 6,
   "id": "07d9d5f6",
   "metadata": {},
   "outputs": [
    {
     "name": "stdout",
     "output_type": "stream",
     "text": [
      "2\n"
     ]
    }
   ],
   "source": [
    "print(a) # 최종적으로 a에 저장된 값은 2"
   ]
  },
  {
   "cell_type": "code",
   "execution_count": 7,
   "id": "de0f6b05",
   "metadata": {},
   "outputs": [],
   "source": [
    "b=3"
   ]
  },
  {
   "cell_type": "code",
   "execution_count": 8,
   "id": "dfc58398",
   "metadata": {},
   "outputs": [
    {
     "name": "stdout",
     "output_type": "stream",
     "text": [
      "3\n"
     ]
    }
   ],
   "source": [
    "print(b)"
   ]
  },
  {
   "cell_type": "code",
   "execution_count": 9,
   "id": "3493a378",
   "metadata": {},
   "outputs": [
    {
     "name": "stdout",
     "output_type": "stream",
     "text": [
      "2\n"
     ]
    }
   ],
   "source": [
    "print(a) #앞의 저장된 a의 값 2 출력"
   ]
  },
  {
   "cell_type": "code",
   "execution_count": 10,
   "id": "4f6d8a4b",
   "metadata": {},
   "outputs": [
    {
     "name": "stdout",
     "output_type": "stream",
     "text": [
      "1122\n"
     ]
    },
    {
     "data": {
      "text/plain": [
       "int"
      ]
     },
     "execution_count": 10,
     "metadata": {},
     "output_type": "execute_result"
    }
   ],
   "source": [
    "a=1122;print(a);type(a)"
   ]
  },
  {
   "cell_type": "code",
   "execution_count": 11,
   "id": "2eab2d07",
   "metadata": {},
   "outputs": [
    {
     "name": "stdout",
     "output_type": "stream",
     "text": [
      "hello\n"
     ]
    },
    {
     "data": {
      "text/plain": [
       "str"
      ]
     },
     "execution_count": 11,
     "metadata": {},
     "output_type": "execute_result"
    }
   ],
   "source": [
    "b=\"hello\";print(b);type(b) # => 파이썬의 특징! 변수에 값을 지정할때 형태결정!"
   ]
  },
  {
   "cell_type": "code",
   "execution_count": 12,
   "id": "4e6389ea",
   "metadata": {},
   "outputs": [],
   "source": [
    "b=12"
   ]
  },
  {
   "cell_type": "code",
   "execution_count": 13,
   "id": "5ad65bbe",
   "metadata": {},
   "outputs": [
    {
     "data": {
      "text/plain": [
       "int"
      ]
     },
     "execution_count": 13,
     "metadata": {},
     "output_type": "execute_result"
    }
   ],
   "source": [
    "type(b) # type() == 변수의 형태를 나타냄"
   ]
  },
  {
   "cell_type": "code",
   "execution_count": 1,
   "id": "50a34f8b",
   "metadata": {},
   "outputs": [
    {
     "name": "stdout",
     "output_type": "stream",
     "text": [
      "1122\n"
     ]
    },
    {
     "data": {
      "text/plain": [
       "int"
      ]
     },
     "execution_count": 1,
     "metadata": {},
     "output_type": "execute_result"
    }
   ],
   "source": [
    "a=1122;print(a);type(a)"
   ]
  },
  {
   "cell_type": "code",
   "execution_count": 2,
   "id": "fd0e00dc",
   "metadata": {},
   "outputs": [
    {
     "name": "stdout",
     "output_type": "stream",
     "text": [
      "11\n"
     ]
    }
   ],
   "source": [
    "a=11;print(a)"
   ]
  },
  {
   "cell_type": "code",
   "execution_count": 3,
   "id": "0f9b3689",
   "metadata": {},
   "outputs": [],
   "source": [
    "del a # 변수를 더이상 사용하지 않을때 메모리 반환 == 변수제거"
   ]
  },
  {
   "cell_type": "code",
   "execution_count": 4,
   "id": "b3d5d33b",
   "metadata": {},
   "outputs": [
    {
     "ename": "NameError",
     "evalue": "name 'a' is not defined",
     "output_type": "error",
     "traceback": [
      "\u001b[1;31m---------------------------------------------------------------------------\u001b[0m",
      "\u001b[1;31mNameError\u001b[0m                                 Traceback (most recent call last)",
      "Input \u001b[1;32mIn [4]\u001b[0m, in \u001b[0;36m<cell line: 1>\u001b[1;34m()\u001b[0m\n\u001b[1;32m----> 1\u001b[0m \u001b[38;5;28mprint\u001b[39m(\u001b[43ma\u001b[49m)\n",
      "\u001b[1;31mNameError\u001b[0m: name 'a' is not defined"
     ]
    }
   ],
   "source": [
    "print(a)"
   ]
  },
  {
   "cell_type": "code",
   "execution_count": 5,
   "id": "1368b4d8",
   "metadata": {
    "scrolled": false
   },
   "outputs": [
    {
     "name": "stdout",
     "output_type": "stream",
     "text": [
      "\n",
      "Welcome to Python 3.8's help utility!\n",
      "\n",
      "If this is your first time using Python, you should definitely check out\n",
      "the tutorial on the Internet at https://docs.python.org/3.8/tutorial/.\n",
      "\n",
      "Enter the name of any module, keyword, or topic to get help on writing\n",
      "Python programs and using Python modules.  To quit this help utility and\n",
      "return to the interpreter, just type \"quit\".\n",
      "\n",
      "To get a list of available modules, keywords, symbols, or topics, type\n",
      "\"modules\", \"keywords\", \"symbols\", or \"topics\".  Each module also comes\n",
      "with a one-line summary of what it does; to list the modules whose name\n",
      "or summary contain a given string such as \"spam\", type \"modules spam\".\n",
      "\n",
      "help> keyworkds\n",
      "No Python documentation found for 'keyworkds'.\n",
      "Use help() to get the interactive help utility.\n",
      "Use help(str) for help on the str class.\n",
      "\n",
      "help> keywords\n",
      "\n",
      "Here is a list of the Python keywords.  Enter any keyword to get more help.\n",
      "\n",
      "False               class               from                or\n",
      "None                continue            global              pass\n",
      "True                def                 if                  raise\n",
      "and                 del                 import              return\n",
      "as                  elif                in                  try\n",
      "assert              else                is                  while\n",
      "async               except              lambda              with\n",
      "await               finally             nonlocal            yield\n",
      "break               for                 not                 \n",
      "\n",
      "help> \n",
      "\n",
      "You are now leaving help and returning to the Python interpreter.\n",
      "If you want to ask for help on a particular object directly from the\n",
      "interpreter, you can type \"help(object)\".  Executing \"help('string')\"\n",
      "has the same effect as typing a particular string at the help> prompt.\n"
     ]
    }
   ],
   "source": [
    "help()"
   ]
  },
  {
   "cell_type": "code",
   "execution_count": 7,
   "id": "93553cfd",
   "metadata": {
    "scrolled": true
   },
   "outputs": [
    {
     "name": "stdout",
     "output_type": "stream",
     "text": [
      "100000\n"
     ]
    }
   ],
   "source": [
    "net = 100 ; qty = 1000; total =net * qty ;print (total) #변수명을 알기쉽게 작성 & 칸을 띄우면 변수명 불가"
   ]
  },
  {
   "cell_type": "code",
   "execution_count": 8,
   "id": "22d677c9",
   "metadata": {},
   "outputs": [
    {
     "name": "stdout",
     "output_type": "stream",
     "text": [
      "100000\n"
     ]
    }
   ],
   "source": [
    "단가=100; 수량 =1000; 총합= 단가 * 수량; print (총합) # 한글 변수명도 사용가능\n",
    "# 다만, 관습적으로 이렇게는 사용 안 함"
   ]
  },
  {
   "cell_type": "code",
   "execution_count": null,
   "id": "045d0e6f",
   "metadata": {},
   "outputs": [],
   "source": []
  }
 ],
 "metadata": {
  "kernelspec": {
   "display_name": "Python 3 (ipykernel)",
   "language": "python",
   "name": "python3"
  },
  "language_info": {
   "codemirror_mode": {
    "name": "ipython",
    "version": 3
   },
   "file_extension": ".py",
   "mimetype": "text/x-python",
   "name": "python",
   "nbconvert_exporter": "python",
   "pygments_lexer": "ipython3",
   "version": "3.8.8rc1"
  }
 },
 "nbformat": 4,
 "nbformat_minor": 5
}
