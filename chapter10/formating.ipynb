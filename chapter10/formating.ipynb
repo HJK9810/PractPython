{
 "cells": [
  {
   "cell_type": "code",
   "execution_count": 1,
   "id": "9613f717",
   "metadata": {},
   "outputs": [
    {
     "name": "stdout",
     "output_type": "stream",
     "text": [
      "case1\n",
      "품목: 오징어땅콩  단가: 1000 원 수량: 10 개 합계: 10000 원\n",
      "case2\n",
      "품목:오징어땅콩 단가:1000원 수량:10개 합계:10000원\n",
      "case3\n",
      "품목:오징어땅콩 단가:1000원 수량:10개 합계:10000원\n",
      "case4\n",
      "품목:오징어땅콩      단가:01000원 수량:0x0a개 합계: 10000.000원\n"
     ]
    }
   ],
   "source": [
    "item=\"오징어땅콩\" # 품목\n",
    "unit=1000 # 단가\n",
    "qty=10 # 수량 \n",
    "tot=unit*qty # 합계\n",
    "\n",
    "print(\"case1\") # 지금까지 사용한 print방법, 칸이 띄어서 출력\n",
    "print(\"품목:\",item,\" 단가:\",unit,\"원 수량:\",qty,\"개 합계:\",tot,\"원\")\n",
    "\n",
    "print(\"case2\") # 하나의 긴 문자열을 만들어 출력하면 공백없이 출력가능\n",
    "print(\"품목:\"+item+\" 단가:\"+str(unit)+\"원 수량:\"+str(qty)+\"개 합계:\"+str(tot)+\"원\")\n",
    "\n",
    "print(\"case3\") # 출력포멧을 지정하여 원하는 포멧으로 출력이 가능\n",
    "print(\"품목:%s 단가:%d원 수량:%d개 합계:%d원\"%(item,unit,qty,tot))\n",
    "\n",
    "print(\"case4\") # 포멧팅 예시\n",
    "print(\"품목:%-10s 단가:%05d원 수량:0x%02x개 합계:%10.3f원\"%(item,unit,qty,tot))\n"
   ]
  },
  {
   "cell_type": "code",
   "execution_count": 1,
   "id": "930ca65a",
   "metadata": {},
   "outputs": [
    {
     "name": "stdout",
     "output_type": "stream",
     "text": [
      "[ 1000][1000 ][01000]\n",
      "[   땅콩][땅콩   ][   땅콩]\n",
      "[1000]=[3e8][0x3e8][1750]\n",
      "[ 1000%]\n",
      "[a][b][c]\n"
     ]
    }
   ],
   "source": [
    "item=\"땅콩\" # 문자\n",
    "unit=1000 # 숫자\n",
    "\n",
    "# %5d : 5칸으로 숫자를 채우되, 공란은 공백으로, %05d : %5d와 같으나 0으로 공백채우기. %-5d : 왼쪽부터 채우고, 5칸 오버시 컷\n",
    "# N.nf : N칸으로 숫자를 채우되, 소숫점 아래는 n칸만 표시\n",
    "print(\"[%5d][%-5d][%05d]\"%(unit,unit,unit)) \n",
    "print(\"[%5s][%-5s][%05s]\"%(item,item,item)) # 문자열 출력\n",
    "print(\"[%d]=[%x][%#x][%o]\"%(unit,unit,unit,unit)) # %x : 16진법 표기, %o : 8진법 표기\n",
    "print(\"[%5d%%]\"%unit) # %% : %기호 붙여서 출력\n",
    "\n",
    "# 한글은 2byte이기에 1byte로 자르면 에러\n",
    "# print(\"[%c][%c][%c]\"%(item[0],item[1])) -> 에러코드\n",
    "a=\"abcd\"\n",
    "print(\"[%c][%c][%c]\"%(a[0],a[1],a[2]))"
   ]
  },
  {
   "cell_type": "code",
   "execution_count": 2,
   "id": "2affbd5e",
   "metadata": {},
   "outputs": [
    {
     "name": "stdout",
     "output_type": "stream",
     "text": [
      "-1,234,567,890.123\n"
     ]
    }
   ],
   "source": [
    "import locale # locale라이브러리를 임포트 함, 설치필요 X\n",
    "locale.setlocale(locale.LC_ALL, \"\") # 시스템 기본 로케일 사용\n",
    "n = -1234567890.123\n",
    "s = locale.format_string(\"%.3f\", n, 1) # 숫자 3자리마다 , 찍기\n",
    "print(s)"
   ]
  },
  {
   "cell_type": "code",
   "execution_count": 3,
   "id": "c1e7e1a2",
   "metadata": {},
   "outputs": [
    {
     "name": "stdout",
     "output_type": "stream",
     "text": [
      "***************************************************\n",
      "총금액:    1,000,000원 \t달러환율: $1,010       \n",
      "지급달러: $988         \n",
      "거스름돈:      5원 \t은행수수료:  1,996원\n",
      "***************************************************\n"
     ]
    }
   ],
   "source": [
    "import locale # locale라이브러리를 임포트 함, 설치는 필요없음\n",
    "locale.setlocale(locale.LC_ALL, \"\") # 시스템 기본 로케일 사용\n",
    "\n",
    "myMoney = 1000000; moneyEx = 1010.12; comission = 0.002 #원화, 환율, 환전수수료\n",
    "comperOne = moneyEx * comission #1달러당 수수료\n",
    "usd = int(myMoney / (moneyEx + comperOne)) #환전가능 달러 = 바꿀원화 / (달러환율 + 달ㄹ러당 수수료)\n",
    "totalcomission = usd * comperOne #총수수료 = 환전다러 * 달러당 수수료\n",
    "\n",
    "iTotalCom = 0 #총 수수료가 정수이면 그대로, 아니면 올림해서 출력\n",
    "if(totalcomission == float(int(totalcomission))): \n",
    "    iTotalCom = int(totalcomission)\n",
    "else :\n",
    "    iTotalCom = int(totalcomission) + 1\n",
    "    \n",
    "remain = int(myMoney - usd * moneyEx - iTotalCom) #한화 거스름돈\n",
    "\n",
    "print(\"***************************************************\")\n",
    "print(\"총금액: %s원 \\t달러환율: $%s\"%( \\\n",
    "    locale.format_string(\"%12d\", myMoney, 1), \\\n",
    "    locale.format_string(\"%-12d\", moneyEx, 1)) )\n",
    "\n",
    "print(\"지급달러: $%s\"% locale.format_string(\"%-12d\", usd, 1))\n",
    "print(\"거스름돈: %s원 \\t은행수수료: %s원\"%( \\\n",
    "    locale.format_string(\"%6d\", remain, 1), \\\n",
    "    locale.format_string(\"%6d\", iTotalCom, 1)) )\n",
    "print(\"***************************************************\")"
   ]
  },
  {
   "cell_type": "code",
   "execution_count": 4,
   "id": "cf177d0f",
   "metadata": {},
   "outputs": [
    {
     "name": "stdout",
     "output_type": "stream",
     "text": [
      "***************************************************\n",
      "총금액:    1,000,000원 \t달러환율: $1,010       \n",
      "지급달러: $988         \n",
      "거스름돈:      5원 \t은행수수료:  1,996원\n",
      "***************************************************\n"
     ]
    }
   ],
   "source": [
    "import locale #locale라이브러리를 임포트 함, 설치는 필요없음\n",
    "locale.setlocale(locale.LC_ALL, \"\") # 시스템 기본 로케일 사용\n",
    "\n",
    "myWon=1000000 #100만원\n",
    "moneyEx=1010.12 # 달러환율\n",
    "commission_rate=0.002 # 은행 수수료 율\n",
    "a = moneyEx + moneyEx*commission_rate #1달러당 환율금액 과 해당금액에 대한 수수료의 합\n",
    "usd = int (myWon / a) # 나의 돈을 위의 금액으로 나오면 소수점이 나오기 때문에 소수점 아래는 버린다\n",
    "remain = int(myWon - usd * a) # 거스름돈 계산 =100만원 - 달러액*(환율+달러당 수수료) -> 소수점 아래는 버린다.\n",
    "commission = usd * moneyEx * commission_rate # 환전 수수료총액 계산, 이 금액은 소수점이하 올림처리\n",
    "if(commission != float(int(commission))) : # 이 비교문은 소수점이 있는지 체크\n",
    "    commission = int(commission) +1 # 소수점이 있다면 올려서 은행이 처리\n",
    "else:\n",
    "    commission = int(commission) # 소수점 아래 숫자가 없다면 단순 정수형 처리\n",
    "    \n",
    "print(\"***************************************************\")\n",
    "print(\"총금액: %s원 \\t달러환율: $%s\"%( \\\n",
    "    locale.format_string(\"%12d\", myWon, 1), \\\n",
    "    locale.format_string(\"%-12d\", moneyEx, 1)) )\n",
    "\n",
    "print(\"지급달러: $%s\"% locale.format_string(\"%-12d\", usd, 1))\n",
    "print(\"거스름돈: %s원 \\t은행수수료: %s원\"%( \\\n",
    "    locale.format_string(\"%6d\", remain, 1), \\\n",
    "    locale.format_string(\"%6d\", commission, 1)) )\n",
    "print(\"***************************************************\")"
   ]
  },
  {
   "cell_type": "code",
   "execution_count": null,
   "id": "bab37449",
   "metadata": {},
   "outputs": [],
   "source": []
  }
 ],
 "metadata": {
  "kernelspec": {
   "display_name": "Python 3 (ipykernel)",
   "language": "python",
   "name": "python3"
  },
  "language_info": {
   "codemirror_mode": {
    "name": "ipython",
    "version": 3
   },
   "file_extension": ".py",
   "mimetype": "text/x-python",
   "name": "python",
   "nbconvert_exporter": "python",
   "pygments_lexer": "ipython3",
   "version": "3.8.7rc1"
  }
 },
 "nbformat": 4,
 "nbformat_minor": 5
}
