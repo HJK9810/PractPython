{
 "cells": [
  {
   "cell_type": "code",
   "execution_count": 1,
   "id": "6db99aeb",
   "metadata": {},
   "outputs": [],
   "source": [
    "a=\"abcdefghijklmabcdefgh\""
   ]
  },
  {
   "cell_type": "code",
   "execution_count": 2,
   "id": "671a7bb9",
   "metadata": {},
   "outputs": [
    {
     "data": {
      "text/plain": [
       "5"
      ]
     },
     "execution_count": 2,
     "metadata": {},
     "output_type": "execute_result"
    }
   ],
   "source": [
    " a.find(\"f\") # 앞에서 부터 찾음, 찾은 값의 index 출력"
   ]
  },
  {
   "cell_type": "code",
   "execution_count": 3,
   "id": "d2f70515",
   "metadata": {},
   "outputs": [
    {
     "data": {
      "text/plain": [
       "18"
      ]
     },
     "execution_count": 3,
     "metadata": {},
     "output_type": "execute_result"
    }
   ],
   "source": [
    "a.rfind(\"f\") # 뒤에서 부터 찾음"
   ]
  },
  {
   "cell_type": "code",
   "execution_count": 4,
   "id": "5da075b2",
   "metadata": {},
   "outputs": [
    {
     "data": {
      "text/plain": [
       "(8, 8)"
      ]
     },
     "execution_count": 4,
     "metadata": {},
     "output_type": "execute_result"
    }
   ],
   "source": [
    " a.find(\"i\"),a.rfind(\"i\") # 만일 찾는 문자가 하나라면 결과는 동일"
   ]
  },
  {
   "cell_type": "code",
   "execution_count": 5,
   "id": "74132beb",
   "metadata": {},
   "outputs": [
    {
     "data": {
      "text/plain": [
       "(1, 14)"
      ]
     },
     "execution_count": 5,
     "metadata": {},
     "output_type": "execute_result"
    }
   ],
   "source": [
    "a.index(\"b\"),a.rindex(\"b\") # index함수도 결과는 동일"
   ]
  },
  {
   "cell_type": "code",
   "execution_count": 6,
   "id": "4f710d52",
   "metadata": {},
   "outputs": [
    {
     "ename": "ValueError",
     "evalue": "substring not found",
     "output_type": "error",
     "traceback": [
      "\u001b[1;31m---------------------------------------------------------------------------\u001b[0m",
      "\u001b[1;31mValueError\u001b[0m                                Traceback (most recent call last)",
      "Input \u001b[1;32mIn [6]\u001b[0m, in \u001b[0;36m<cell line: 1>\u001b[1;34m()\u001b[0m\n\u001b[1;32m----> 1\u001b[0m \u001b[43ma\u001b[49m\u001b[38;5;241;43m.\u001b[39;49m\u001b[43mrindex\u001b[49m\u001b[43m(\u001b[49m\u001b[38;5;124;43m\"\u001b[39;49m\u001b[38;5;124;43mz\u001b[39;49m\u001b[38;5;124;43m\"\u001b[39;49m\u001b[43m)\u001b[49m\n",
      "\u001b[1;31mValueError\u001b[0m: substring not found"
     ]
    }
   ],
   "source": [
    "a.rindex(\"z\") # 하지만 찾는 문자가 없으면 에러발생"
   ]
  },
  {
   "cell_type": "code",
   "execution_count": 7,
   "id": "47a87ea7",
   "metadata": {},
   "outputs": [
    {
     "data": {
      "text/plain": [
       "2"
      ]
     },
     "execution_count": 7,
     "metadata": {},
     "output_type": "execute_result"
    }
   ],
   "source": [
    " a.count(\"f\") # 해당 문자의 개수를 출력 ** 문자열 길이반환? lan(문자열)"
   ]
  },
  {
   "cell_type": "code",
   "execution_count": 8,
   "id": "19b28ac8",
   "metadata": {},
   "outputs": [
    {
     "data": {
      "text/plain": [
       "13"
      ]
     },
     "execution_count": 8,
     "metadata": {},
     "output_type": "execute_result"
    }
   ],
   "source": [
    "a.rfind(\"abc\") # 문자열을 넣어도 ok"
   ]
  },
  {
   "cell_type": "code",
   "execution_count": 9,
   "id": "25e8b09f",
   "metadata": {},
   "outputs": [],
   "source": [
    " a=\"abcdfegabcdfeg\""
   ]
  },
  {
   "cell_type": "code",
   "execution_count": 10,
   "id": "994115cb",
   "metadata": {},
   "outputs": [
    {
     "name": "stdout",
     "output_type": "stream",
     "text": [
      "a가 들어 있음\n"
     ]
    }
   ],
   "source": [
    "if a.find(\"f\") > 0:\n",
    "    print (\"a가 들어 있음\")"
   ]
  },
  {
   "cell_type": "code",
   "execution_count": 11,
   "id": "b9f2a8e7",
   "metadata": {},
   "outputs": [
    {
     "name": "stdout",
     "output_type": "stream",
     "text": [
      "a가 들어 있음\n"
     ]
    }
   ],
   "source": [
    "if \"f\" in a : # 만일 \"f\"가 a안에 있다면? 의 자연적 영어표현 => 포함문자 in 문자열 의 검색형태!\n",
    "    print (\"a가 들어 있음\")"
   ]
  },
  {
   "cell_type": "code",
   "execution_count": 12,
   "id": "8f711e4b",
   "metadata": {},
   "outputs": [],
   "source": [
    "a=\"abcDefGh\""
   ]
  },
  {
   "cell_type": "code",
   "execution_count": 13,
   "id": "181ac387",
   "metadata": {},
   "outputs": [
    {
     "data": {
      "text/plain": [
       "'ABCDEFGH'"
      ]
     },
     "execution_count": 13,
     "metadata": {},
     "output_type": "execute_result"
    }
   ],
   "source": [
    "a.upper() # 문자열 모두 대문자 전환"
   ]
  },
  {
   "cell_type": "code",
   "execution_count": 14,
   "id": "9fbee971",
   "metadata": {},
   "outputs": [],
   "source": [
    "a=\"abcDefGh\""
   ]
  },
  {
   "cell_type": "code",
   "execution_count": 15,
   "id": "722db859",
   "metadata": {},
   "outputs": [
    {
     "data": {
      "text/plain": [
       "'abcdefgh'"
      ]
     },
     "execution_count": 15,
     "metadata": {},
     "output_type": "execute_result"
    }
   ],
   "source": [
    "a.lower() # 문자열 모두 소문자 전환"
   ]
  },
  {
   "cell_type": "code",
   "execution_count": 24,
   "id": "d9c19054",
   "metadata": {},
   "outputs": [],
   "source": [
    "a=\"   abc    def   hij       \""
   ]
  },
  {
   "cell_type": "code",
   "execution_count": 25,
   "id": "4b33f9d9",
   "metadata": {},
   "outputs": [
    {
     "data": {
      "text/plain": [
       "'abc    def   hij       '"
      ]
     },
     "execution_count": 25,
     "metadata": {},
     "output_type": "execute_result"
    }
   ],
   "source": [
    "a.lstrip() # 문자열 왼쪽끝의 모든 공백 제거"
   ]
  },
  {
   "cell_type": "code",
   "execution_count": 26,
   "id": "85c0581e",
   "metadata": {},
   "outputs": [],
   "source": [
    "a=\"   abc    def   hij       \""
   ]
  },
  {
   "cell_type": "code",
   "execution_count": 27,
   "id": "64a0664a",
   "metadata": {},
   "outputs": [
    {
     "data": {
      "text/plain": [
       "'   abc    def   hij'"
      ]
     },
     "execution_count": 27,
     "metadata": {},
     "output_type": "execute_result"
    }
   ],
   "source": [
    "a.rstrip() # 문자열 오른쪽 끝의 모든 공백 제거"
   ]
  },
  {
   "cell_type": "code",
   "execution_count": 28,
   "id": "ef70512c",
   "metadata": {},
   "outputs": [],
   "source": [
    "a=\"   abc    def   hij       \""
   ]
  },
  {
   "cell_type": "code",
   "execution_count": 29,
   "id": "a9a11086",
   "metadata": {},
   "outputs": [
    {
     "data": {
      "text/plain": [
       "'abc    def   hij'"
      ]
     },
     "execution_count": 29,
     "metadata": {},
     "output_type": "execute_result"
    }
   ],
   "source": [
    "a.strip() # 문자열 양 끝의 모든 공백 제거"
   ]
  },
  {
   "cell_type": "code",
   "execution_count": 30,
   "id": "ba4f44c8",
   "metadata": {},
   "outputs": [],
   "source": [
    "a=\"   abc    def   hij       \""
   ]
  },
  {
   "cell_type": "code",
   "execution_count": 31,
   "id": "266d2ce2",
   "metadata": {},
   "outputs": [
    {
     "data": {
      "text/plain": [
       "'abcdefhij'"
      ]
     },
     "execution_count": 31,
     "metadata": {},
     "output_type": "execute_result"
    }
   ],
   "source": [
    "a.replace(\" \",\"\") # 모든 공백 제거 => str.replace(이전문자열, 바꿀문자열) : 이전문자열을 바꿀 문자열로 변경"
   ]
  },
  {
   "cell_type": "code",
   "execution_count": 32,
   "id": "54744b75",
   "metadata": {},
   "outputs": [
    {
     "name": "stdout",
     "output_type": "stream",
     "text": [
      "==========\n",
      "이름:  홍길동\n",
      "국어:  100\n",
      "영어:  95\n",
      "수학:  88\n",
      "==========\n"
     ]
    }
   ],
   "source": [
    "rec=\"홍길동,100,95,88\"\n",
    "\n",
    "item=rec.split(\",\") # 해당 구분자로 나눠 item이라는 리스트로 반환\n",
    "print(\"=\"*10)\n",
    "print(\"이름: \", item[0])\n",
    "print(\"국어: \", item[1])\n",
    "print(\"영어: \", item[2])\n",
    "print(\"수학: \", item[3])\n",
    "print(\"=\"*10)"
   ]
  },
  {
   "cell_type": "code",
   "execution_count": 33,
   "id": "3a1fa219",
   "metadata": {
    "scrolled": true
   },
   "outputs": [
    {
     "name": "stdout",
     "output_type": "stream",
     "text": [
      "==========\n",
      "0 ==> 본\n",
      "1 ==> 예제는\n",
      "2 ==> 빈칸으로\n",
      "3 ==> 구분되어\n",
      "4 ==> 있는\n",
      "5 ==> 한\n",
      "6 ==> 줄의\n",
      "7 ==> 데이터를\n",
      "8 ==> 빈칸을\n",
      "9 ==> \n",
      "10 ==> \n",
      "11 ==> \n",
      "12 ==> \n",
      "13 ==> 구분하여\n",
      "14 ==> 나누어\n",
      "15 ==> 줌\n",
      "==========\n"
     ]
    }
   ],
   "source": [
    "rec=\"본 예제는 빈칸으로 구분되어 있는 한 줄의 데이터를 빈칸을     구분하여 나누어 줌\"\n",
    "item=rec.split(\" \") # 빈칸이 여러개? 각 빈칸 하나를 데이터 하나로 인식!\n",
    "\n",
    "print(\"=\"*10)\n",
    "i=0\n",
    "for s in item:\n",
    "    print(i,\"==>\", s)\n",
    "    i+=1\n",
    "print(\"=\"*10)"
   ]
  },
  {
   "cell_type": "code",
   "execution_count": 6,
   "id": "c105c8a9",
   "metadata": {},
   "outputs": [
    {
     "name": "stdout",
     "output_type": "stream",
     "text": [
      "[['나연', 100, 90, 100], ['정연', 90, 90, 100], ['모모', 80, 70, 90], ['사나', 90, 90, 80], ['지효', 100, 80, 80], ['미나', 50, 90, 90], ['다현', 80, 60, 100], ['채영', 70, 80, 90], ['쯔위', 100, 90, 90]]\n"
     ]
    }
   ],
   "source": [
    "dili_score=[\"나연,100,90,100\",\n",
    "    \"정연,90,90,100\",\n",
    "    \"모모,80,70,90\",\n",
    "    \"사나,90,90,80\",\n",
    "    \"지효,100,80,80\",\n",
    "    \"미나,50,90,90\",\n",
    "    \"다현,80,60,100\",\n",
    "    \"채영,70,80,90\",\n",
    "    \"쯔위,100,90,90\"]\n",
    "\n",
    "score=[]\n",
    "for one_rec in dili_score:\n",
    "    one_score=one_rec.split(\",\")\n",
    "    one_score[1]=int(one_score[1]) #국어점수 숫자형 변환\n",
    "    one_score[2]=int(one_score[2]) #영어점수 숫자형 변환\n",
    "    one_score[3]=int(one_score[3]) #수학점수 숫자형 변환\n",
    "    score.append(one_score.copy()) # copy에 주의할 것..값 복사\n",
    "print(score)\n"
   ]
  },
  {
   "cell_type": "code",
   "execution_count": 5,
   "id": "d8a5f8c4",
   "metadata": {},
   "outputs": [
    {
     "name": "stdout",
     "output_type": "stream",
     "text": [
      "==================================================\n",
      "이름\t국어\t영어\t수학\t총점\t평균\n",
      "==================================================\n",
      "나연 \t 100 \t 90 \t 100 \t 290 \t 96\n",
      "정연 \t 90 \t 90 \t 100 \t 280 \t 93\n",
      "모모 \t 80 \t 70 \t 90 \t 240 \t 80\n",
      "사나 \t 90 \t 90 \t 80 \t 260 \t 86\n",
      "지효 \t 100 \t 80 \t 80 \t 260 \t 86\n",
      "미나 \t 50 \t 90 \t 90 \t 230 \t 76\n",
      "다현 \t 80 \t 60 \t 100 \t 240 \t 80\n",
      "채영 \t 70 \t 80 \t 90 \t 240 \t 80\n",
      "쯔위 \t 100 \t 90 \t 90 \t 280 \t 93\n",
      "==================================================\n",
      "반총점\t 760 \t 740 \t 820 \t 257 \t 85.0\n",
      "==================================================\n"
     ]
    }
   ],
   "source": [
    "# 코드는 리스트때 썻던것 그대로\n",
    "def titleprint(): # 카테고리 출력\n",
    "    print(\"=\"*50)\n",
    "    print(\"이름\\t국어\\t영어\\t수학\\t총점\\t평균\")\n",
    "    print(\"=\"*50)\n",
    "    \n",
    "def itemprint(name,kor,eng,mat): # 각 요소들 출력\n",
    "    print(name,\"\\t\",kor,\"\\t\",eng,\"\\t\",mat,\"\\t\",kor+eng+mat,\"\\t\",(kor+eng+mat)//3)\n",
    "    \n",
    "def tailprint(): # 총합 계산 & 출력\n",
    "    totkor=0\n",
    "    toteng=0\n",
    "    totmat=0\n",
    "    for one_student in score:\n",
    "        totkor+=one_student[kor]\n",
    "        toteng+=one_student[eng]\n",
    "        totmat+=one_student[mat]\n",
    "    print(\"=\"*50)\n",
    "    print(\"반총점\\t\",totkor,\"\\t\",toteng,\"\\t\",totmat,\"\\t\",(totkor+toteng+totmat)//9,\"\\t\",(totkor+toteng+totmat)/3//9)\n",
    "    print(\"=\"*50)\n",
    "\n",
    "#데이터 -> 문자열의 리스트로 받기\n",
    "dili_score=[\"나연,100,90,100\",\n",
    "        \"정연,90,90,100\",\n",
    "        \"모모,80,70,90\",\n",
    "        \"사나,90,90,80\",\n",
    "        \"지효,100,80,80\",\n",
    "        \"미나,50,90,90\",\n",
    "        \"다현,80,60,100\",\n",
    "        \"채영,70,80,90\",\n",
    "        \"쯔위,100,90,90\"]\n",
    "#프로그램을 보기 좋게 하려고 상수를 정의\n",
    "name=0;kor=1;eng=2;mat=3 # => 실제로는 리스트의 각 부분의 인덱스\n",
    "\n",
    "#여기부터 프로그램\n",
    "titleprint() # 카테고리\n",
    "score=[]\n",
    "for one_rec in dili_score: # 문자열 받아, 구분자로 분리후 출력\n",
    "    one_score=one_rec.split(\",\")   \n",
    "    one_score[1]=int(one_score[1]) # 국어점수 숫자형 변환\n",
    "    one_score[2]=int(one_score[2]) # 영어점수 숫자형 변환\n",
    "    one_score[3]=int(one_score[3]) # 수학점수 숫자형 변환\n",
    "    score.append(one_score.copy())\n",
    "    itemprint(one_score[name],one_score[kor],one_score[eng],one_score[mat]) \n",
    "    \n",
    "tailprint() # 총합들"
   ]
  },
  {
   "cell_type": "code",
   "execution_count": null,
   "id": "122672d3",
   "metadata": {},
   "outputs": [],
   "source": []
  }
 ],
 "metadata": {
  "kernelspec": {
   "display_name": "Python 3 (ipykernel)",
   "language": "python",
   "name": "python3"
  },
  "language_info": {
   "codemirror_mode": {
    "name": "ipython",
    "version": 3
   },
   "file_extension": ".py",
   "mimetype": "text/x-python",
   "name": "python",
   "nbconvert_exporter": "python",
   "pygments_lexer": "ipython3",
   "version": "3.8.7rc1"
  }
 },
 "nbformat": 4,
 "nbformat_minor": 5
}
