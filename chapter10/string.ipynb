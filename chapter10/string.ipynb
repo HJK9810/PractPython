{
 "cells": [
  {
   "cell_type": "code",
   "execution_count": 1,
   "id": "a31bcf5b",
   "metadata": {},
   "outputs": [],
   "source": [
    " a=\"abcde\""
   ]
  },
  {
   "cell_type": "code",
   "execution_count": 2,
   "id": "e3598562",
   "metadata": {},
   "outputs": [
    {
     "data": {
      "text/plain": [
       "('a', 'b', 'c', 'd', 'e')"
      ]
     },
     "execution_count": 2,
     "metadata": {},
     "output_type": "execute_result"
    }
   ],
   "source": [
    "a[0],a[1],a[2],a[3],a[4] # 문자리스트 == 문자열 -> 즉, 컬렉션 리스트와 문자열변수는 비슷한 성격"
   ]
  },
  {
   "cell_type": "code",
   "execution_count": 3,
   "id": "1dd16c8d",
   "metadata": {},
   "outputs": [
    {
     "data": {
      "text/plain": [
       "('e', 'c', 'c', 'b', 'a')"
      ]
     },
     "execution_count": 3,
     "metadata": {},
     "output_type": "execute_result"
    }
   ],
   "source": [
    "a[-1],a[2],a[-3],a[-4],a[-5]"
   ]
  },
  {
   "cell_type": "code",
   "execution_count": 4,
   "id": "d47e1017",
   "metadata": {},
   "outputs": [],
   "source": [
    "a=\"가나다라마\" # 한글은 2byte 하지만 1개의 첨자대응"
   ]
  },
  {
   "cell_type": "code",
   "execution_count": 5,
   "id": "2a680f08",
   "metadata": {},
   "outputs": [
    {
     "data": {
      "text/plain": [
       "('가', '나', '다', '라', '마')"
      ]
     },
     "execution_count": 5,
     "metadata": {},
     "output_type": "execute_result"
    }
   ],
   "source": [
    "a[0],a[1],a[2],a[3],a[4]"
   ]
  },
  {
   "cell_type": "code",
   "execution_count": 6,
   "id": "c18b2813",
   "metadata": {},
   "outputs": [],
   "source": [
    " a=\"abcde\""
   ]
  },
  {
   "cell_type": "code",
   "execution_count": 7,
   "id": "b813ba79",
   "metadata": {},
   "outputs": [
    {
     "data": {
      "text/plain": [
       "'bcde'"
      ]
     },
     "execution_count": 7,
     "metadata": {},
     "output_type": "execute_result"
    }
   ],
   "source": [
    "a[1:5] # 해당변수[시작:끝] -> 시작~ 끝-1 첨자까지 출력할것"
   ]
  },
  {
   "cell_type": "code",
   "execution_count": 8,
   "id": "c694d256",
   "metadata": {},
   "outputs": [
    {
     "data": {
      "text/plain": [
       "'b'"
      ]
     },
     "execution_count": 8,
     "metadata": {},
     "output_type": "execute_result"
    }
   ],
   "source": [
    "a[1:2]"
   ]
  },
  {
   "cell_type": "code",
   "execution_count": 9,
   "id": "4035dbe5",
   "metadata": {},
   "outputs": [
    {
     "data": {
      "text/plain": [
       "'abcde'"
      ]
     },
     "execution_count": 9,
     "metadata": {},
     "output_type": "execute_result"
    }
   ],
   "source": [
    "a[:6] # 시작의 default? 0"
   ]
  },
  {
   "cell_type": "code",
   "execution_count": 10,
   "id": "05ffcede",
   "metadata": {},
   "outputs": [
    {
     "data": {
      "text/plain": [
       "'de'"
      ]
     },
     "execution_count": 10,
     "metadata": {},
     "output_type": "execute_result"
    }
   ],
   "source": [
    "a[3:] # 끝의 default? 길이-1"
   ]
  },
  {
   "cell_type": "code",
   "execution_count": 11,
   "id": "14f0a785",
   "metadata": {},
   "outputs": [
    {
     "data": {
      "text/plain": [
       "'c'"
      ]
     },
     "execution_count": 11,
     "metadata": {},
     "output_type": "execute_result"
    }
   ],
   "source": [
    "a[2:-2] # 음수 첨자에 유의"
   ]
  },
  {
   "cell_type": "code",
   "execution_count": 12,
   "id": "57cd08d0",
   "metadata": {},
   "outputs": [
    {
     "data": {
      "text/plain": [
       "''"
      ]
     },
     "execution_count": 12,
     "metadata": {},
     "output_type": "execute_result"
    }
   ],
   "source": [
    "a[2:-3]"
   ]
  },
  {
   "cell_type": "code",
   "execution_count": 13,
   "id": "a4bff055",
   "metadata": {},
   "outputs": [
    {
     "data": {
      "text/plain": [
       "'bcd'"
      ]
     },
     "execution_count": 13,
     "metadata": {},
     "output_type": "execute_result"
    }
   ],
   "source": [
    "a[1:-1]"
   ]
  },
  {
   "cell_type": "code",
   "execution_count": null,
   "id": "e9a29df7",
   "metadata": {},
   "outputs": [],
   "source": []
  }
 ],
 "metadata": {
  "kernelspec": {
   "display_name": "Python 3 (ipykernel)",
   "language": "python",
   "name": "python3"
  },
  "language_info": {
   "codemirror_mode": {
    "name": "ipython",
    "version": 3
   },
   "file_extension": ".py",
   "mimetype": "text/x-python",
   "name": "python",
   "nbconvert_exporter": "python",
   "pygments_lexer": "ipython3",
   "version": "3.8.7rc1"
  }
 },
 "nbformat": 4,
 "nbformat_minor": 5
}
