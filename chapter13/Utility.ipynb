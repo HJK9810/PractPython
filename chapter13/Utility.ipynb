{
 "cells": [
  {
   "cell_type": "code",
   "execution_count": 1,
   "id": "9ed14fa6",
   "metadata": {},
   "outputs": [
    {
     "name": "stdout",
     "output_type": "stream",
     "text": [
      "9.99999999999998\n"
     ]
    }
   ],
   "source": [
    "sum=0\n",
    "for i in range(100):\n",
    "    sum+=0.1\n",
    "print(sum)"
   ]
  },
  {
   "cell_type": "code",
   "execution_count": 2,
   "id": "7206ea5d",
   "metadata": {},
   "outputs": [
    {
     "name": "stdout",
     "output_type": "stream",
     "text": [
      "0.1 => 9.99999999999998\n",
      "0.1000000000000000055511151231257827021181583404541015625 => 10.00000000000000055511151230\n",
      "0.1 => 10.0\n"
     ]
    }
   ],
   "source": [
    "from decimal import Decimal # 문자형을 숫자형으로 전환\n",
    "\n",
    "a_sum=0;b_sum=0;c_sum=0\n",
    "\n",
    "a=0.1\n",
    "b=Decimal(a)\n",
    "c=Decimal(\"0.1\")\n",
    "\n",
    "for i in range(100):\n",
    "    a_sum+=a\n",
    "    b_sum+=b\n",
    "    c_sum+=c\n",
    "\n",
    "print(a,\"=>\",a_sum)\n",
    "print(b,\"=>\",b_sum)\n",
    "print(c,\"=>\",c_sum)"
   ]
  },
  {
   "cell_type": "code",
   "execution_count": 3,
   "id": "5ace1236",
   "metadata": {},
   "outputs": [
    {
     "name": "stdout",
     "output_type": "stream",
     "text": [
      "2/3 + 1/2 = 7/6\n",
      "2/3 * 1/2 = 1/3\n",
      "2/3 * 1.5 = 2.1666666666666665\n"
     ]
    }
   ],
   "source": [
    "from fractions import * # 분수를 나타내기 & 분수계산 가능\n",
    "\n",
    "a=Fraction(2,3) # 3분의 2\n",
    "b=Fraction(5,10) # 10분의 5로 약분되어 1/2\n",
    "\n",
    "print(a,\"+\",b,\"=\",a+b)\n",
    "print(a,\"*\",b,\"=\",a*b)\n",
    "print(a,\"*\",1.5,\"=\",a+1.5)"
   ]
  },
  {
   "cell_type": "code",
   "execution_count": null,
   "id": "4033fde2",
   "metadata": {},
   "outputs": [],
   "source": []
  }
 ],
 "metadata": {
  "kernelspec": {
   "display_name": "Python 3 (ipykernel)",
   "language": "python",
   "name": "python3"
  },
  "language_info": {
   "codemirror_mode": {
    "name": "ipython",
    "version": 3
   },
   "file_extension": ".py",
   "mimetype": "text/x-python",
   "name": "python",
   "nbconvert_exporter": "python",
   "pygments_lexer": "ipython3",
   "version": "3.8.8rc1"
  }
 },
 "nbformat": 4,
 "nbformat_minor": 5
}
