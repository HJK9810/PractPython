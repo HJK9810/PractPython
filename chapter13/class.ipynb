{
 "cells": [
  {
   "cell_type": "code",
   "execution_count": 3,
   "id": "974867e4",
   "metadata": {},
   "outputs": [
    {
     "ename": "SyntaxError",
     "evalue": "invalid syntax (507081369.py, line 1)",
     "output_type": "error",
     "traceback": [
      "\u001b[1;36m  Input \u001b[1;32mIn [3]\u001b[1;36m\u001b[0m\n\u001b[1;33m    struct elevator\u001b[0m\n\u001b[1;37m           ^\u001b[0m\n\u001b[1;31mSyntaxError\u001b[0m\u001b[1;31m:\u001b[0m invalid syntax\n"
     ]
    }
   ],
   "source": [
    "struct elevator # 일반적인 구조체\n",
    "{\n",
    "    int limit-up-floor;\n",
    "    int down-floor;\n",
    "    int floor;\n",
    "    char help[100];\n",
    "}"
   ]
  },
  {
   "cell_type": "code",
   "execution_count": 18,
   "id": "953a731e",
   "metadata": {},
   "outputs": [],
   "source": [
    "class elevator: # 클래스 부분 구현\n",
    "    def __init__(self,floor,limit_up_floor,limit_down_floor,msg ):\n",
    "        self.floor=floor\n",
    "        self.limit_up_floor=limit_up_floor\n",
    "        self.limit_down_floor=limit_down_floor\n",
    "        self.msg=msg \n",
    "    def up(self):\n",
    "        if self.floor == self.limit_up_floor:\n",
    "            self.msg=\"최상층 입니다\"\n",
    "        else:\n",
    "            self.floor+=1\n",
    "            self.msg=str(self.floor)+\"층입니다\"\n",
    "        print(self.msg)\n",
    "    def down(self):\n",
    "        if self.floor == self.limit_down_floor:\n",
    "            self.msg=\"최하층 입니다\"\n",
    "        else:\n",
    "            self.floor-=1\n",
    "            self.msg=str(self.floor)+\"층입니다\"\n",
    "        print(self.msg)"
   ]
  },
  {
   "cell_type": "code",
   "execution_count": 6,
   "id": "91d4f400",
   "metadata": {
    "scrolled": true
   },
   "outputs": [
    {
     "name": "stdout",
     "output_type": "stream",
     "text": [
      "2층입니다\n",
      "3층입니다\n",
      "4층입니다\n",
      "5층입니다\n",
      "6층입니다\n",
      "7층입니다\n",
      "8층입니다\n",
      "9층입니다\n",
      "10층입니다\n",
      "11층입니다\n",
      "12층입니다\n",
      "13층입니다\n",
      "14층입니다\n",
      "15층입니다\n",
      "최상층 입니다\n",
      "최상층 입니다\n",
      "최상층 입니다\n",
      "최상층 입니다\n",
      "최상층 입니다\n",
      "최상층 입니다\n",
      "14층입니다\n",
      "13층입니다\n",
      "12층입니다\n",
      "11층입니다\n",
      "10층입니다\n",
      "9층입니다\n",
      "8층입니다\n",
      "7층입니다\n",
      "6층입니다\n",
      "5층입니다\n",
      "4층입니다\n",
      "3층입니다\n",
      "2층입니다\n",
      "1층입니다\n",
      "0층입니다\n",
      "최하층 입니다\n",
      "최하층 입니다\n",
      "최하층 입니다\n",
      "최하층 입니다\n",
      "최하층 입니다\n"
     ]
    }
   ],
   "source": [
    "myclass = elevator(1,15,0,\"\") #(현재1층, 최저0층, 최고15층, 메시지) 값으로 클래스생성\n",
    "\n",
    "# class를 이용한 메인 처리부분\n",
    "for i in range(20): #20번 up()를 실행\n",
    "    myclass.up()\n",
    "for i in range(20): #20번 down()을 실\n",
    "    myclass.down()"
   ]
  },
  {
   "cell_type": "code",
   "execution_count": 7,
   "id": "2fd88c7a",
   "metadata": {
    "scrolled": true
   },
   "outputs": [
    {
     "name": "stdout",
     "output_type": "stream",
     "text": [
      "myclass->2층입니다\n",
      "yourclass->6층입니다\n",
      "myclass->3층입니다\n",
      "yourclass->7층입니다\n",
      "myclass->4층입니다\n",
      "yourclass->8층입니다\n",
      "myclass->5층입니다\n",
      "yourclass->9층입니다\n",
      "myclass->6층입니다\n",
      "yourclass->10층입니다\n",
      "myclass->7층입니다\n",
      "yourclass->최상층 입니다\n",
      "myclass->8층입니다\n",
      "yourclass->최상층 입니다\n",
      "myclass->9층입니다\n",
      "yourclass->최상층 입니다\n",
      "myclass->10층입니다\n",
      "yourclass->최상층 입니다\n",
      "myclass->11층입니다\n",
      "yourclass->최상층 입니다\n",
      "myclass->12층입니다\n",
      "yourclass->최상층 입니다\n",
      "myclass->13층입니다\n",
      "yourclass->최상층 입니다\n",
      "myclass->14층입니다\n",
      "yourclass->최상층 입니다\n",
      "myclass->15층입니다\n",
      "yourclass->최상층 입니다\n",
      "myclass->최상층 입니다\n",
      "yourclass->최상층 입니다\n",
      "myclass->최상층 입니다\n",
      "yourclass->최상층 입니다\n",
      "myclass->최상층 입니다\n",
      "yourclass->최상층 입니다\n",
      "myclass->최상층 입니다\n",
      "yourclass->최상층 입니다\n",
      "myclass->최상층 입니다\n",
      "yourclass->최상층 입니다\n",
      "myclass->최상층 입니다\n",
      "yourclass->최상층 입니다\n",
      "myclass->14층입니다\n",
      "yourclass->9층입니다\n",
      "myclass->13층입니다\n",
      "yourclass->8층입니다\n",
      "myclass->12층입니다\n",
      "yourclass->7층입니다\n",
      "myclass->11층입니다\n",
      "yourclass->6층입니다\n",
      "myclass->10층입니다\n",
      "yourclass->5층입니다\n",
      "myclass->9층입니다\n",
      "yourclass->4층입니다\n",
      "myclass->8층입니다\n",
      "yourclass->3층입니다\n",
      "myclass->7층입니다\n",
      "yourclass->2층입니다\n",
      "myclass->6층입니다\n",
      "yourclass->1층입니다\n",
      "myclass->5층입니다\n",
      "yourclass->0층입니다\n",
      "myclass->4층입니다\n",
      "yourclass->-1층입니다\n",
      "myclass->3층입니다\n",
      "yourclass->최하층 입니다\n",
      "myclass->2층입니다\n",
      "yourclass->최하층 입니다\n",
      "myclass->1층입니다\n",
      "yourclass->최하층 입니다\n",
      "myclass->0층입니다\n",
      "yourclass->최하층 입니다\n",
      "myclass->최하층 입니다\n",
      "yourclass->최하층 입니다\n",
      "myclass->최하층 입니다\n",
      "yourclass->최하층 입니다\n",
      "myclass->최하층 입니다\n",
      "yourclass->최하층 입니다\n",
      "myclass->최하층 입니다\n",
      "yourclass->최하층 입니다\n",
      "myclass->최하층 입니다\n",
      "yourclass->최하층 입니다\n"
     ]
    }
   ],
   "source": [
    "myclass = elevator(1,15,0,\"\") # (현재1층, 최저0층, 최고15층, 메시지)값으로 클래스생성\n",
    "yourclass = elevator(5,10,-1,\"\") # (현재1층, 최저0층, 최고15층, 메시지)값으로 클래스생성\n",
    "\n",
    "for i in range(20): # 20번 up()를 실행\n",
    "    print(\"myclass->\",end=\"\")\n",
    "    myclass.up()\n",
    "    print(\"yourclass->\",end=\"\")\n",
    "    yourclass.up()\n",
    "    \n",
    "for i in range(20): # 20번 down()을 실행\n",
    "    print(\"myclass->\",end=\"\")\n",
    "    myclass.down()\n",
    "    print(\"yourclass->\",end=\"\")\n",
    "    yourclass.down()\n"
   ]
  },
  {
   "cell_type": "code",
   "execution_count": 19,
   "id": "0131cff9",
   "metadata": {},
   "outputs": [],
   "source": [
    "class elevator: # class 선언부분\n",
    "    def __init__(self,floor,limit_up_floor,limit_down_floor,msg):\n",
    "        self.floor=floor\n",
    "        self.limit_up_floor=limit_up_floor\n",
    "        self.limit_down_floor=limit_down_floor\n",
    "        self.msg=msg \n"
   ]
  },
  {
   "cell_type": "code",
   "execution_count": 20,
   "id": "137fa8c5",
   "metadata": {},
   "outputs": [],
   "source": [
    "# class 호출부분\n",
    "# (현재1층, 최저0층, 최고15층, 메시지)값으로 클래스생성\n",
    "myclass = elevator(1,15,0,\"\")\n",
    "\n",
    "# (현재1층, 최저0층, 최고15층, 메시지)값으로 클래스생성\n",
    "yourclass = elevator(5,10,-1,\"\")\n"
   ]
  },
  {
   "cell_type": "code",
   "execution_count": 21,
   "id": "3159cf6a",
   "metadata": {},
   "outputs": [],
   "source": [
    "class s_elevator(elevator):\n",
    "    def __init__(self):\n",
    "        super().__init__(1,15,0,\"\")\n",
    "    def up(self):\n",
    "        super().up()\n",
    "        super().up()\n",
    "    def down(self):\n",
    "        super().down()\n",
    "        super().down()\n"
   ]
  },
  {
   "cell_type": "code",
   "execution_count": 22,
   "id": "97f5ee1d",
   "metadata": {},
   "outputs": [
    {
     "ename": "AttributeError",
     "evalue": "'super' object has no attribute 'up'",
     "output_type": "error",
     "traceback": [
      "\u001b[1;31m---------------------------------------------------------------------------\u001b[0m",
      "\u001b[1;31mAttributeError\u001b[0m                            Traceback (most recent call last)",
      "Input \u001b[1;32mIn [22]\u001b[0m, in \u001b[0;36m<cell line: 4>\u001b[1;34m()\u001b[0m\n\u001b[0;32m      2\u001b[0m myclass \u001b[38;5;241m=\u001b[39m s_elevator()\n\u001b[0;32m      4\u001b[0m \u001b[38;5;28;01mfor\u001b[39;00m i \u001b[38;5;129;01min\u001b[39;00m \u001b[38;5;28mrange\u001b[39m(\u001b[38;5;241m20\u001b[39m): \u001b[38;5;66;03m# 20번 up()를 실행\u001b[39;00m\n\u001b[1;32m----> 5\u001b[0m     \u001b[43mmyclass\u001b[49m\u001b[38;5;241;43m.\u001b[39;49m\u001b[43mup\u001b[49m\u001b[43m(\u001b[49m\u001b[43m)\u001b[49m\n\u001b[0;32m      6\u001b[0m     myclass\u001b[38;5;241m.\u001b[39mdown()\n",
      "Input \u001b[1;32mIn [21]\u001b[0m, in \u001b[0;36ms_elevator.up\u001b[1;34m(self)\u001b[0m\n\u001b[0;32m      4\u001b[0m \u001b[38;5;28;01mdef\u001b[39;00m \u001b[38;5;21mup\u001b[39m(\u001b[38;5;28mself\u001b[39m):\n\u001b[1;32m----> 5\u001b[0m     \u001b[38;5;28;43msuper\u001b[39;49m\u001b[43m(\u001b[49m\u001b[43m)\u001b[49m\u001b[38;5;241;43m.\u001b[39;49m\u001b[43mup\u001b[49m()\n\u001b[0;32m      6\u001b[0m     \u001b[38;5;28msuper\u001b[39m()\u001b[38;5;241m.\u001b[39mup()\n",
      "\u001b[1;31mAttributeError\u001b[0m: 'super' object has no attribute 'up'"
     ]
    }
   ],
   "source": [
    "# myclass = elevator(1,15,0,\"\")\n",
    "myclass = s_elevator()\n",
    "\n",
    "for i in range(20): # 20번 up()를 실행\n",
    "    myclass.up()\n",
    "    myclass.down()"
   ]
  },
  {
   "cell_type": "code",
   "execution_count": 23,
   "id": "6292076e",
   "metadata": {},
   "outputs": [
    {
     "name": "stdout",
     "output_type": "stream",
     "text": [
      "3125\n"
     ]
    }
   ],
   "source": [
    "class multibox: # getter / setter 사용\n",
    "    def __init__(self,multi):\n",
    "        self.multi=multi\n",
    "    def getnumber(self):\n",
    "        return self.num**self.multi\n",
    "    def setnumber(self,num):\n",
    "        self.num=num\n",
    "        \n",
    "        \n",
    "m=multibox(5)\n",
    "m.setnumber(5)\n",
    "print(m.getnumber())"
   ]
  },
  {
   "cell_type": "code",
   "execution_count": 24,
   "id": "35e71300",
   "metadata": {},
   "outputs": [
    {
     "name": "stdout",
     "output_type": "stream",
     "text": [
      "3125\n"
     ]
    }
   ],
   "source": [
    "class multibox: # property 사용\n",
    "    def __init__(self,multi):\n",
    "        self.multi=multi\n",
    "    def getnumber(self):\n",
    "        return self.num**self.multi\n",
    "    def setnumber(self,num):\n",
    "        self.num=num\n",
    "    number=property(getnumber,setnumber)\n",
    "\n",
    "\n",
    "m=multibox(5)\n",
    "m.number=5\n",
    "print(m.number)"
   ]
  },
  {
   "cell_type": "code",
   "execution_count": 25,
   "id": "a9319a43",
   "metadata": {},
   "outputs": [
    {
     "name": "stdout",
     "output_type": "stream",
     "text": [
      "3125\n"
     ]
    }
   ],
   "source": [
    "class multibox:\n",
    "    def __init__(self,multi):\n",
    "        self.multi=multi\n",
    "    @property #데코레이터로 선언\n",
    "    def number(self):\n",
    "        return self.num**self.multi\n",
    "    @number.setter\n",
    "    def number(self,num):\n",
    "        self.num=num\n",
    "\n",
    "\n",
    "m=multibox(5)\n",
    "m.number=5\n",
    "print(m.number)"
   ]
  },
  {
   "cell_type": "code",
   "execution_count": 28,
   "id": "b95a0da7",
   "metadata": {},
   "outputs": [
    {
     "ename": "AttributeError",
     "evalue": "'super' object has no attribute 'up'",
     "output_type": "error",
     "traceback": [
      "\u001b[1;31m---------------------------------------------------------------------------\u001b[0m",
      "\u001b[1;31mAttributeError\u001b[0m                            Traceback (most recent call last)",
      "Input \u001b[1;32mIn [28]\u001b[0m, in \u001b[0;36m<cell line: 44>\u001b[1;34m()\u001b[0m\n\u001b[0;32m     42\u001b[0m myclass \u001b[38;5;241m=\u001b[39m s_elevator()\n\u001b[0;32m     44\u001b[0m \u001b[38;5;28;01mfor\u001b[39;00m i \u001b[38;5;129;01min\u001b[39;00m \u001b[38;5;28mrange\u001b[39m(\u001b[38;5;241m20\u001b[39m): \u001b[38;5;66;03m# 20번 up()를 실행\u001b[39;00m\n\u001b[1;32m---> 45\u001b[0m     \u001b[43mmyclass\u001b[49m\u001b[38;5;241;43m.\u001b[39;49m\u001b[43mup\u001b[49m\u001b[43m(\u001b[49m\u001b[43m)\u001b[49m\n\u001b[0;32m     46\u001b[0m     myclass\u001b[38;5;241m.\u001b[39mdown()\n",
      "Input \u001b[1;32mIn [28]\u001b[0m, in \u001b[0;36ms_elevator.up\u001b[1;34m(self)\u001b[0m\n\u001b[0;32m     33\u001b[0m \u001b[38;5;28;01mdef\u001b[39;00m \u001b[38;5;21mup\u001b[39m(\u001b[38;5;28mself\u001b[39m):\n\u001b[1;32m---> 34\u001b[0m     \u001b[38;5;28;43msuper\u001b[39;49m\u001b[43m(\u001b[49m\u001b[43m)\u001b[49m\u001b[38;5;241;43m.\u001b[39;49m\u001b[43mup\u001b[49m()\n\u001b[0;32m     35\u001b[0m     \u001b[38;5;28msuper\u001b[39m()\u001b[38;5;241m.\u001b[39mup()\n",
      "\u001b[1;31mAttributeError\u001b[0m: 'super' object has no attribute 'up'"
     ]
    }
   ],
   "source": [
    "class elevator: # 클래스 부분 구현\n",
    "    def __init__(self,floor,limit_up_floor,limit_down_floor,msg ):\n",
    "        self.floor=floor\n",
    "        self.limit_up_floor=limit_up_floor\n",
    "        self.limit_down_floor=limit_down_floor\n",
    "        self.msg=msg \n",
    "    def up(self):\n",
    "        if self.floor == self.limit_up_floor:\n",
    "            self.msg=\"최상층 입니다\"\n",
    "        else:\n",
    "            self.floor+=1\n",
    "            self.msg=str(self.floor)+\"층입니다\"\n",
    "        print(self.msg)\n",
    "    def down(self):\n",
    "        if self.floor == self.limit_down_floor:\n",
    "            self.msg=\"최하층 입니다\"\n",
    "        else:\n",
    "            self.floor-=1\n",
    "            self.msg=str(self.floor)+\"층입니다\"\n",
    "        print(self.msg)\n",
    "\n",
    "class elevator: # class 선언부분\n",
    "    def __init__(self,floor,limit_up_floor,limit_down_floor,msg):\n",
    "        self.floor=floor\n",
    "        self.limit_up_floor=limit_up_floor\n",
    "        self.limit_down_floor=limit_down_floor\n",
    "        self.msg=msg \n",
    "        \n",
    "\n",
    "class s_elevator(elevator):\n",
    "    def __init__(self):\n",
    "        super().__init__(1,15,0,\"\")\n",
    "    def up(self):\n",
    "        super().up()\n",
    "        super().up()\n",
    "    def down(self):\n",
    "        super().down()\n",
    "        super().down()\n",
    "        \n",
    "\n",
    "# myclass = elevator(1,15,0,\"\")\n",
    "myclass = s_elevator()\n",
    "\n",
    "for i in range(20): # 20번 up()를 실행\n",
    "    myclass.up()\n",
    "    myclass.down()"
   ]
  },
  {
   "cell_type": "code",
   "execution_count": null,
   "id": "79503261",
   "metadata": {},
   "outputs": [],
   "source": []
  }
 ],
 "metadata": {
  "kernelspec": {
   "display_name": "Python 3 (ipykernel)",
   "language": "python",
   "name": "python3"
  },
  "language_info": {
   "codemirror_mode": {
    "name": "ipython",
    "version": 3
   },
   "file_extension": ".py",
   "mimetype": "text/x-python",
   "name": "python",
   "nbconvert_exporter": "python",
   "pygments_lexer": "ipython3",
   "version": "3.8.8rc1"
  }
 },
 "nbformat": 4,
 "nbformat_minor": 5
}
