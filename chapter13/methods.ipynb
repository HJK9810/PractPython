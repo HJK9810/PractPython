{
 "cells": [
  {
   "cell_type": "code",
   "execution_count": 1,
   "id": "e04d4650",
   "metadata": {},
   "outputs": [
    {
     "name": "stdout",
     "output_type": "stream",
     "text": [
      "클래스 참조횟수는 2 회 입니다\n"
     ]
    }
   ],
   "source": [
    "class myclass: # class 메소드\n",
    "    cnt=0 # self가 없는 myclass에서 사용되는 내부 static변수\n",
    "    def __init__(self): \n",
    "        myclass.cnt+=1 # myclass의 static변수\n",
    "    @classmethod # 클래스 메서드 선언\n",
    "    def refcount(cls): #s elf가 아니라 cls로 정의\n",
    "        print(\"클래스 참조횟수는\",cls.cnt,\"회 입니다\")\n",
    "\n",
    "a=myclass()\n",
    "b=myclass()\n",
    "myclass.refcount()"
   ]
  },
  {
   "cell_type": "code",
   "execution_count": 2,
   "id": "d866edf5",
   "metadata": {},
   "outputs": [
    {
     "name": "stdout",
     "output_type": "stream",
     "text": [
      "이 클래스는 아무런 일도 하지 않는다\n",
      "이 클래스는 아무런 일도 하지 않는다\n"
     ]
    }
   ],
   "source": [
    "class myclass:\n",
    "    cnt=0 \n",
    "    def __init__(self): \n",
    "        myclass.cnt+=1 \n",
    "    @staticmethod # 정적 메소드\n",
    "    def helf():\n",
    "        print(\"이 클래스는 아무런 일도 하지 않는다\")\n",
    "\n",
    "\n",
    "myclass.helf()\n",
    "a=myclass()\n",
    "myclass.helf()"
   ]
  },
  {
   "cell_type": "code",
   "execution_count": 3,
   "id": "dabb0788",
   "metadata": {},
   "outputs": [
    {
     "name": "stdout",
     "output_type": "stream",
     "text": [
      "defabc\n"
     ]
    }
   ],
   "source": [
    "class mystr:\n",
    "    def __init__(self,s):\n",
    "        self.s=s\n",
    "    def __add__(self, other): # 클래스간 +연산자를 정의\n",
    "        return other.s + self.s # 문자간 연산을 반대로 수행\n",
    "\n",
    "\n",
    "a = mystr(\"abc\")\n",
    "b = mystr(\"def\")\n",
    "print(a+b)"
   ]
  },
  {
   "cell_type": "code",
   "execution_count": null,
   "id": "0e146172",
   "metadata": {},
   "outputs": [],
   "source": []
  }
 ],
 "metadata": {
  "kernelspec": {
   "display_name": "Python 3 (ipykernel)",
   "language": "python",
   "name": "python3"
  },
  "language_info": {
   "codemirror_mode": {
    "name": "ipython",
    "version": 3
   },
   "file_extension": ".py",
   "mimetype": "text/x-python",
   "name": "python",
   "nbconvert_exporter": "python",
   "pygments_lexer": "ipython3",
   "version": "3.8.8rc1"
  }
 },
 "nbformat": 4,
 "nbformat_minor": 5
}
