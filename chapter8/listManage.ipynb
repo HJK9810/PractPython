{
 "cells": [
  {
   "cell_type": "code",
   "execution_count": 1,
   "id": "9eb90971",
   "metadata": {},
   "outputs": [],
   "source": [
    "a=[1,2,3,4,5]"
   ]
  },
  {
   "cell_type": "code",
   "execution_count": 2,
   "id": "98cd1e7d",
   "metadata": {},
   "outputs": [
    {
     "data": {
      "text/plain": [
       "[1, 2, 3, 4, 5]"
      ]
     },
     "execution_count": 2,
     "metadata": {},
     "output_type": "execute_result"
    }
   ],
   "source": [
    "a"
   ]
  },
  {
   "cell_type": "code",
   "execution_count": 3,
   "id": "ad869cfd",
   "metadata": {},
   "outputs": [],
   "source": [
    " del a[2] # 2번 리스트요소 제거"
   ]
  },
  {
   "cell_type": "code",
   "execution_count": 4,
   "id": "91140a21",
   "metadata": {},
   "outputs": [
    {
     "data": {
      "text/plain": [
       "[1, 2, 4, 5]"
      ]
     },
     "execution_count": 4,
     "metadata": {},
     "output_type": "execute_result"
    }
   ],
   "source": [
    "a"
   ]
  },
  {
   "cell_type": "code",
   "execution_count": 5,
   "id": "b8284c3b",
   "metadata": {},
   "outputs": [],
   "source": [
    "del a[2]"
   ]
  },
  {
   "cell_type": "code",
   "execution_count": 6,
   "id": "3d8f7bed",
   "metadata": {},
   "outputs": [
    {
     "data": {
      "text/plain": [
       "[1, 2, 5]"
      ]
     },
     "execution_count": 6,
     "metadata": {},
     "output_type": "execute_result"
    }
   ],
   "source": [
    "a"
   ]
  },
  {
   "cell_type": "code",
   "execution_count": 7,
   "id": "18e76c94",
   "metadata": {},
   "outputs": [],
   "source": [
    "a.clear() # 리스트 전부 제거"
   ]
  },
  {
   "cell_type": "code",
   "execution_count": 9,
   "id": "b1347ecd",
   "metadata": {},
   "outputs": [
    {
     "data": {
      "text/plain": [
       "[]"
      ]
     },
     "execution_count": 9,
     "metadata": {},
     "output_type": "execute_result"
    }
   ],
   "source": [
    "a"
   ]
  },
  {
   "cell_type": "code",
   "execution_count": 10,
   "id": "0e3754b0",
   "metadata": {},
   "outputs": [],
   "source": [
    "del a # a 공간마저 제거"
   ]
  },
  {
   "cell_type": "code",
   "execution_count": 11,
   "id": "989433f5",
   "metadata": {},
   "outputs": [
    {
     "ename": "NameError",
     "evalue": "name 'a' is not defined",
     "output_type": "error",
     "traceback": [
      "\u001b[1;31m---------------------------------------------------------------------------\u001b[0m",
      "\u001b[1;31mNameError\u001b[0m                                 Traceback (most recent call last)",
      "Input \u001b[1;32mIn [11]\u001b[0m, in \u001b[0;36m<cell line: 1>\u001b[1;34m()\u001b[0m\n\u001b[1;32m----> 1\u001b[0m \u001b[43ma\u001b[49m\n",
      "\u001b[1;31mNameError\u001b[0m: name 'a' is not defined"
     ]
    }
   ],
   "source": [
    "a"
   ]
  },
  {
   "cell_type": "code",
   "execution_count": 14,
   "id": "f3427b06",
   "metadata": {},
   "outputs": [
    {
     "ename": "NameError",
     "evalue": "name 'a' is not defined",
     "output_type": "error",
     "traceback": [
      "\u001b[1;31m---------------------------------------------------------------------------\u001b[0m",
      "\u001b[1;31mNameError\u001b[0m                                 Traceback (most recent call last)",
      "Input \u001b[1;32mIn [14]\u001b[0m, in \u001b[0;36m<cell line: 1>\u001b[1;34m()\u001b[0m\n\u001b[1;32m----> 1\u001b[0m \u001b[43ma\u001b[49m\u001b[38;5;241m.\u001b[39mappend(\u001b[38;5;241m1\u001b[39m)\n",
      "\u001b[1;31mNameError\u001b[0m: name 'a' is not defined"
     ]
    }
   ],
   "source": [
    "a.append(1) # 리스트가 정의되어있지 않으면 추가 불가"
   ]
  },
  {
   "cell_type": "code",
   "execution_count": 15,
   "id": "740d5596",
   "metadata": {},
   "outputs": [],
   "source": [
    "a=[] # 빈 리스트 정의"
   ]
  },
  {
   "cell_type": "code",
   "execution_count": 16,
   "id": "dfbe248e",
   "metadata": {},
   "outputs": [],
   "source": [
    "a.append(1) # 리스트에 값 1 추가"
   ]
  },
  {
   "cell_type": "code",
   "execution_count": 17,
   "id": "f16745ac",
   "metadata": {},
   "outputs": [],
   "source": [
    "a.append(3)"
   ]
  },
  {
   "cell_type": "code",
   "execution_count": 18,
   "id": "2a30c4b6",
   "metadata": {},
   "outputs": [],
   "source": [
    "a.append(5)"
   ]
  },
  {
   "cell_type": "code",
   "execution_count": 19,
   "id": "9c8f3196",
   "metadata": {},
   "outputs": [
    {
     "data": {
      "text/plain": [
       "[1, 3, 5]"
      ]
     },
     "execution_count": 19,
     "metadata": {},
     "output_type": "execute_result"
    }
   ],
   "source": [
    "a"
   ]
  },
  {
   "cell_type": "code",
   "execution_count": 20,
   "id": "e8ad85b1",
   "metadata": {},
   "outputs": [],
   "source": [
    "a=[4,5,6] # a 재정의"
   ]
  },
  {
   "cell_type": "code",
   "execution_count": 21,
   "id": "cd0a60cf",
   "metadata": {},
   "outputs": [],
   "source": [
    "a.append(10)"
   ]
  },
  {
   "cell_type": "code",
   "execution_count": 22,
   "id": "e2e05e33",
   "metadata": {},
   "outputs": [
    {
     "data": {
      "text/plain": [
       "[4, 5, 6, 10]"
      ]
     },
     "execution_count": 22,
     "metadata": {},
     "output_type": "execute_result"
    }
   ],
   "source": [
    "a"
   ]
  },
  {
   "cell_type": "code",
   "execution_count": 1,
   "id": "b6340f50",
   "metadata": {},
   "outputs": [],
   "source": [
    " a=[1,2,3,4,5]"
   ]
  },
  {
   "cell_type": "code",
   "execution_count": 2,
   "id": "2b9be6fd",
   "metadata": {},
   "outputs": [],
   "source": [
    " a.append(6) # append를 이용해 맨 뒤에 요소 삽입"
   ]
  },
  {
   "cell_type": "code",
   "execution_count": 3,
   "id": "cd30ea0a",
   "metadata": {},
   "outputs": [
    {
     "data": {
      "text/plain": [
       "[1, 2, 3, 4, 5, 6]"
      ]
     },
     "execution_count": 3,
     "metadata": {},
     "output_type": "execute_result"
    }
   ],
   "source": [
    "a"
   ]
  },
  {
   "cell_type": "code",
   "execution_count": 4,
   "id": "dd9388ae",
   "metadata": {},
   "outputs": [],
   "source": [
    " a.insert(3,12) # 리스트.isnert(삽입위치, 삽입내용)"
   ]
  },
  {
   "cell_type": "code",
   "execution_count": 5,
   "id": "4960f5bc",
   "metadata": {},
   "outputs": [
    {
     "data": {
      "text/plain": [
       "[1, 2, 3, 12, 4, 5, 6]"
      ]
     },
     "execution_count": 5,
     "metadata": {},
     "output_type": "execute_result"
    }
   ],
   "source": [
    "a"
   ]
  },
  {
   "cell_type": "code",
   "execution_count": 6,
   "id": "19fc0b81",
   "metadata": {},
   "outputs": [],
   "source": [
    "a.insert(4,15)"
   ]
  },
  {
   "cell_type": "code",
   "execution_count": 7,
   "id": "84b31a41",
   "metadata": {},
   "outputs": [
    {
     "data": {
      "text/plain": [
       "[1, 2, 3, 12, 15, 4, 5, 6]"
      ]
     },
     "execution_count": 7,
     "metadata": {},
     "output_type": "execute_result"
    }
   ],
   "source": [
    "a"
   ]
  },
  {
   "cell_type": "code",
   "execution_count": 8,
   "id": "2471d13e",
   "metadata": {},
   "outputs": [],
   "source": [
    "a.insert(3,1)"
   ]
  },
  {
   "cell_type": "code",
   "execution_count": 9,
   "id": "675136fe",
   "metadata": {},
   "outputs": [
    {
     "data": {
      "text/plain": [
       "[1, 2, 3, 1, 12, 15, 4, 5, 6]"
      ]
     },
     "execution_count": 9,
     "metadata": {},
     "output_type": "execute_result"
    }
   ],
   "source": [
    "a"
   ]
  },
  {
   "cell_type": "code",
   "execution_count": 10,
   "id": "6520e5c9",
   "metadata": {},
   "outputs": [],
   "source": [
    "a=[1, 2, 3, 1, 12, 15, 4, 5, 6]"
   ]
  },
  {
   "cell_type": "code",
   "execution_count": 11,
   "id": "f5ca4206",
   "metadata": {},
   "outputs": [],
   "source": [
    "a[5:5]=[1,2,3,4,5,6] # 5에서 5까지 영역에 해당 리스트 값 삽입"
   ]
  },
  {
   "cell_type": "code",
   "execution_count": 12,
   "id": "20631ad7",
   "metadata": {},
   "outputs": [
    {
     "data": {
      "text/plain": [
       "[1, 2, 3, 1, 12, 1, 2, 3, 4, 5, 6, 15, 4, 5, 6]"
      ]
     },
     "execution_count": 12,
     "metadata": {},
     "output_type": "execute_result"
    }
   ],
   "source": [
    "a"
   ]
  },
  {
   "cell_type": "code",
   "execution_count": 13,
   "id": "773a5db0",
   "metadata": {},
   "outputs": [],
   "source": [
    " a=[1, 2, 3, 1, 12, 15, 4, 5, 6]"
   ]
  },
  {
   "cell_type": "code",
   "execution_count": 14,
   "id": "b4beff1f",
   "metadata": {},
   "outputs": [],
   "source": [
    "a[5]=[1,2,3,4,5,6] #5요소에 이 리스트 '대입'"
   ]
  },
  {
   "cell_type": "code",
   "execution_count": 15,
   "id": "48ff67a4",
   "metadata": {},
   "outputs": [
    {
     "data": {
      "text/plain": [
       "[1, 2, 3, 1, 12, [1, 2, 3, 4, 5, 6], 4, 5, 6]"
      ]
     },
     "execution_count": 15,
     "metadata": {},
     "output_type": "execute_result"
    }
   ],
   "source": [
    "a"
   ]
  },
  {
   "cell_type": "code",
   "execution_count": 16,
   "id": "c5a0c224",
   "metadata": {},
   "outputs": [],
   "source": [
    "a=[1,2,3]"
   ]
  },
  {
   "cell_type": "code",
   "execution_count": 17,
   "id": "49c95e63",
   "metadata": {},
   "outputs": [],
   "source": [
    "b=[4,5,6]"
   ]
  },
  {
   "cell_type": "code",
   "execution_count": 18,
   "id": "472b98b0",
   "metadata": {},
   "outputs": [],
   "source": [
    "a=a+b"
   ]
  },
  {
   "cell_type": "code",
   "execution_count": 19,
   "id": "cc92338c",
   "metadata": {},
   "outputs": [
    {
     "data": {
      "text/plain": [
       "[1, 2, 3, 4, 5, 6]"
      ]
     },
     "execution_count": 19,
     "metadata": {},
     "output_type": "execute_result"
    }
   ],
   "source": [
    "a"
   ]
  },
  {
   "cell_type": "code",
   "execution_count": 20,
   "id": "fc99f0f0",
   "metadata": {},
   "outputs": [],
   "source": [
    "a=[1,2,3]"
   ]
  },
  {
   "cell_type": "code",
   "execution_count": 21,
   "id": "9fc68703",
   "metadata": {},
   "outputs": [],
   "source": [
    "b=[4,5,6]"
   ]
  },
  {
   "cell_type": "code",
   "execution_count": 22,
   "id": "5103e29d",
   "metadata": {},
   "outputs": [],
   "source": [
    "a.extend(b) # 리스트.extend(리스트2) == 리스트 + 리스트2"
   ]
  },
  {
   "cell_type": "code",
   "execution_count": 23,
   "id": "61075aba",
   "metadata": {},
   "outputs": [
    {
     "data": {
      "text/plain": [
       "[1, 2, 3, 4, 5, 6]"
      ]
     },
     "execution_count": 23,
     "metadata": {},
     "output_type": "execute_result"
    }
   ],
   "source": [
    "a"
   ]
  },
  {
   "cell_type": "code",
   "execution_count": 24,
   "id": "a0c9dcdd",
   "metadata": {},
   "outputs": [],
   "source": [
    " a=[1,2,3,3,4,4,5,6,7,7,7,7,8]"
   ]
  },
  {
   "cell_type": "code",
   "execution_count": 25,
   "id": "b95a124b",
   "metadata": {},
   "outputs": [
    {
     "data": {
      "text/plain": [
       "[1, 2, 3, 3, 4, 4, 5, 6, 7, 7, 7, 7, 8]"
      ]
     },
     "execution_count": 25,
     "metadata": {},
     "output_type": "execute_result"
    }
   ],
   "source": [
    "a"
   ]
  },
  {
   "cell_type": "code",
   "execution_count": 26,
   "id": "e496104f",
   "metadata": {},
   "outputs": [],
   "source": [
    " a.remove(7) #첫 번째 7값 delete"
   ]
  },
  {
   "cell_type": "code",
   "execution_count": 27,
   "id": "e56d2b67",
   "metadata": {},
   "outputs": [
    {
     "data": {
      "text/plain": [
       "[1, 2, 3, 3, 4, 4, 5, 6, 7, 7, 7, 8]"
      ]
     },
     "execution_count": 27,
     "metadata": {},
     "output_type": "execute_result"
    }
   ],
   "source": [
    "a"
   ]
  },
  {
   "cell_type": "code",
   "execution_count": 28,
   "id": "3dd1fabb",
   "metadata": {},
   "outputs": [],
   "source": [
    "a.remove(7) #첫 번째 7값 delete"
   ]
  },
  {
   "cell_type": "code",
   "execution_count": 29,
   "id": "43d907db",
   "metadata": {},
   "outputs": [
    {
     "data": {
      "text/plain": [
       "[1, 2, 3, 3, 4, 4, 5, 6, 7, 7, 8]"
      ]
     },
     "execution_count": 29,
     "metadata": {},
     "output_type": "execute_result"
    }
   ],
   "source": [
    "a"
   ]
  },
  {
   "cell_type": "code",
   "execution_count": 30,
   "id": "37f811a8",
   "metadata": {},
   "outputs": [],
   "source": [
    "a[5]=[] # 다섯 번째에 빈 값[]이 들어 있는 리스트 생성(주의: a[5:5]=[]의 경우에는 ''값을 삽입하게 됨)"
   ]
  },
  {
   "cell_type": "code",
   "execution_count": 31,
   "id": "5522cd13",
   "metadata": {},
   "outputs": [
    {
     "data": {
      "text/plain": [
       "[1, 2, 3, 3, 4, [], 5, 6, 7, 7, 8]"
      ]
     },
     "execution_count": 31,
     "metadata": {},
     "output_type": "execute_result"
    }
   ],
   "source": [
    "a"
   ]
  },
  {
   "cell_type": "code",
   "execution_count": 32,
   "id": "7109cdcc",
   "metadata": {},
   "outputs": [],
   "source": [
    "a[2:4]=[]  # 2에서 4영역까지 ''값 삽입 -> 리스트를 빈값으로 대체"
   ]
  },
  {
   "cell_type": "code",
   "execution_count": 33,
   "id": "f3df244c",
   "metadata": {},
   "outputs": [
    {
     "data": {
      "text/plain": [
       "[1, 2, 4, [], 5, 6, 7, 7, 8]"
      ]
     },
     "execution_count": 33,
     "metadata": {},
     "output_type": "execute_result"
    }
   ],
   "source": [
    "a"
   ]
  },
  {
   "cell_type": "code",
   "execution_count": 34,
   "id": "9222d0b2",
   "metadata": {},
   "outputs": [],
   "source": [
    " del(a[4]) # 리스트 4번째 값 제거"
   ]
  },
  {
   "cell_type": "code",
   "execution_count": 35,
   "id": "8849a0de",
   "metadata": {},
   "outputs": [
    {
     "data": {
      "text/plain": [
       "[1, 2, 4, [], 6, 7, 7, 8]"
      ]
     },
     "execution_count": 35,
     "metadata": {},
     "output_type": "execute_result"
    }
   ],
   "source": [
    "a"
   ]
  },
  {
   "cell_type": "code",
   "execution_count": 36,
   "id": "277d60c4",
   "metadata": {},
   "outputs": [],
   "source": [
    "del(a[3])"
   ]
  },
  {
   "cell_type": "code",
   "execution_count": 37,
   "id": "b2bb5ebd",
   "metadata": {},
   "outputs": [
    {
     "data": {
      "text/plain": [
       "[1, 2, 4, 6, 7, 7, 8]"
      ]
     },
     "execution_count": 37,
     "metadata": {},
     "output_type": "execute_result"
    }
   ],
   "source": [
    "a"
   ]
  },
  {
   "cell_type": "code",
   "execution_count": 38,
   "id": "21b12151",
   "metadata": {},
   "outputs": [],
   "source": [
    "a.clear() # 리스트 전체 값 제거"
   ]
  },
  {
   "cell_type": "code",
   "execution_count": 39,
   "id": "146a480d",
   "metadata": {},
   "outputs": [
    {
     "data": {
      "text/plain": [
       "[]"
      ]
     },
     "execution_count": 39,
     "metadata": {},
     "output_type": "execute_result"
    }
   ],
   "source": [
    "a # 단, 빈 리스트 남음"
   ]
  },
  {
   "cell_type": "code",
   "execution_count": 40,
   "id": "d111f86e",
   "metadata": {},
   "outputs": [],
   "source": [
    "del(a) # 리스트 정의까지 제거"
   ]
  },
  {
   "cell_type": "code",
   "execution_count": 41,
   "id": "f67ab843",
   "metadata": {},
   "outputs": [
    {
     "ename": "NameError",
     "evalue": "name 'a' is not defined",
     "output_type": "error",
     "traceback": [
      "\u001b[1;31m---------------------------------------------------------------------------\u001b[0m",
      "\u001b[1;31mNameError\u001b[0m                                 Traceback (most recent call last)",
      "Input \u001b[1;32mIn [41]\u001b[0m, in \u001b[0;36m<cell line: 1>\u001b[1;34m()\u001b[0m\n\u001b[1;32m----> 1\u001b[0m \u001b[43ma\u001b[49m\n",
      "\u001b[1;31mNameError\u001b[0m: name 'a' is not defined"
     ]
    }
   ],
   "source": [
    "a"
   ]
  },
  {
   "cell_type": "code",
   "execution_count": 47,
   "id": "dda99486",
   "metadata": {},
   "outputs": [],
   "source": [
    " a=[1,2,3,3,4,4,5,6,7,7,7,7,8]"
   ]
  },
  {
   "cell_type": "code",
   "execution_count": 48,
   "id": "bce5bcb5",
   "metadata": {},
   "outputs": [
    {
     "data": {
      "text/plain": [
       "8"
      ]
     },
     "execution_count": 48,
     "metadata": {},
     "output_type": "execute_result"
    }
   ],
   "source": [
    "a.pop() # 리스트 마지막값 추출"
   ]
  },
  {
   "cell_type": "code",
   "execution_count": 49,
   "id": "7a5bdc96",
   "metadata": {},
   "outputs": [
    {
     "data": {
      "text/plain": [
       "[1, 2, 3, 3, 4, 4, 5, 6, 7, 7, 7, 7]"
      ]
     },
     "execution_count": 49,
     "metadata": {},
     "output_type": "execute_result"
    }
   ],
   "source": [
    "a"
   ]
  },
  {
   "cell_type": "code",
   "execution_count": 50,
   "id": "6e8b0017",
   "metadata": {},
   "outputs": [
    {
     "data": {
      "text/plain": [
       "7"
      ]
     },
     "execution_count": 50,
     "metadata": {},
     "output_type": "execute_result"
    }
   ],
   "source": [
    "a.pop()"
   ]
  },
  {
   "cell_type": "code",
   "execution_count": 51,
   "id": "25ebeea2",
   "metadata": {},
   "outputs": [
    {
     "data": {
      "text/plain": [
       "3"
      ]
     },
     "execution_count": 51,
     "metadata": {},
     "output_type": "execute_result"
    }
   ],
   "source": [
    "a.pop(3) # 리스트 인덱스 3값 추출"
   ]
  },
  {
   "cell_type": "code",
   "execution_count": 52,
   "id": "bc12e891",
   "metadata": {},
   "outputs": [
    {
     "data": {
      "text/plain": [
       "[1, 2, 3, 4, 4, 5, 6, 7, 7, 7]"
      ]
     },
     "execution_count": 52,
     "metadata": {},
     "output_type": "execute_result"
    }
   ],
   "source": [
    "a"
   ]
  },
  {
   "cell_type": "code",
   "execution_count": 53,
   "id": "e36dbe51",
   "metadata": {},
   "outputs": [
    {
     "data": {
      "text/plain": [
       "6"
      ]
     },
     "execution_count": 53,
     "metadata": {},
     "output_type": "execute_result"
    }
   ],
   "source": [
    "a.pop(6) # 리스트 인덱스 3값 추출"
   ]
  },
  {
   "cell_type": "code",
   "execution_count": 54,
   "id": "cd2b009c",
   "metadata": {},
   "outputs": [
    {
     "data": {
      "text/plain": [
       "[1, 2, 3, 4, 4, 5, 7, 7, 7]"
      ]
     },
     "execution_count": 54,
     "metadata": {},
     "output_type": "execute_result"
    }
   ],
   "source": [
    "a"
   ]
  },
  {
   "cell_type": "code",
   "execution_count": 55,
   "id": "1d9e7c5a",
   "metadata": {},
   "outputs": [
    {
     "data": {
      "text/plain": [
       "7"
      ]
     },
     "execution_count": 55,
     "metadata": {},
     "output_type": "execute_result"
    }
   ],
   "source": [
    "a.pop(6)"
   ]
  },
  {
   "cell_type": "code",
   "execution_count": 56,
   "id": "56de6809",
   "metadata": {},
   "outputs": [
    {
     "data": {
      "text/plain": [
       "1"
      ]
     },
     "execution_count": 56,
     "metadata": {},
     "output_type": "execute_result"
    }
   ],
   "source": [
    "a.pop(0) # 리스트 인덱스 0값 추출"
   ]
  },
  {
   "cell_type": "code",
   "execution_count": 57,
   "id": "84113d4d",
   "metadata": {},
   "outputs": [
    {
     "data": {
      "text/plain": [
       "[2, 3, 4, 4, 5, 7, 7]"
      ]
     },
     "execution_count": 57,
     "metadata": {},
     "output_type": "execute_result"
    }
   ],
   "source": [
    "a"
   ]
  },
  {
   "cell_type": "code",
   "execution_count": 58,
   "id": "ede36b2b",
   "metadata": {},
   "outputs": [],
   "source": [
    "a=[1,2,3,3,4,4,5,6,7,7,7,7,8]"
   ]
  },
  {
   "cell_type": "code",
   "execution_count": 59,
   "id": "afdc0aff",
   "metadata": {},
   "outputs": [
    {
     "data": {
      "text/plain": [
       "8"
      ]
     },
     "execution_count": 59,
     "metadata": {},
     "output_type": "execute_result"
    }
   ],
   "source": [
    "a.index(7) # 값 7의 첫번째 위치"
   ]
  },
  {
   "cell_type": "code",
   "execution_count": 60,
   "id": "198c6fa1",
   "metadata": {},
   "outputs": [
    {
     "data": {
      "text/plain": [
       "12"
      ]
     },
     "execution_count": 60,
     "metadata": {},
     "output_type": "execute_result"
    }
   ],
   "source": [
    "a.index(8) # 값 8의 위치"
   ]
  },
  {
   "cell_type": "code",
   "execution_count": 61,
   "id": "0511cf3f",
   "metadata": {},
   "outputs": [
    {
     "data": {
      "text/plain": [
       "4"
      ]
     },
     "execution_count": 61,
     "metadata": {},
     "output_type": "execute_result"
    }
   ],
   "source": [
    "a.index(4) # 값 4의 첫번째 위치"
   ]
  },
  {
   "cell_type": "code",
   "execution_count": 62,
   "id": "2bb5ad17",
   "metadata": {},
   "outputs": [
    {
     "data": {
      "text/plain": [
       "4"
      ]
     },
     "execution_count": 62,
     "metadata": {},
     "output_type": "execute_result"
    }
   ],
   "source": [
    "a.count(7) # 리스트 안에 들어있는 값 7의 갯수"
   ]
  },
  {
   "cell_type": "code",
   "execution_count": 63,
   "id": "2f32bbbf",
   "metadata": {},
   "outputs": [],
   "source": [
    "a=[1,2,3,3,4,4,5,6,7,7,7,7,8]"
   ]
  },
  {
   "cell_type": "code",
   "execution_count": 64,
   "id": "eeb89b73",
   "metadata": {},
   "outputs": [
    {
     "data": {
      "text/plain": [
       "8"
      ]
     },
     "execution_count": 64,
     "metadata": {},
     "output_type": "execute_result"
    }
   ],
   "source": [
    "max(a) # 리스트 값중 최댓값"
   ]
  },
  {
   "cell_type": "code",
   "execution_count": 65,
   "id": "5f26ada8",
   "metadata": {},
   "outputs": [
    {
     "data": {
      "text/plain": [
       "1"
      ]
     },
     "execution_count": 65,
     "metadata": {},
     "output_type": "execute_result"
    }
   ],
   "source": [
    "min(a) # 리스트 값중 최솟값"
   ]
  },
  {
   "cell_type": "code",
   "execution_count": 66,
   "id": "2d88651e",
   "metadata": {},
   "outputs": [
    {
     "data": {
      "text/plain": [
       "13"
      ]
     },
     "execution_count": 66,
     "metadata": {},
     "output_type": "execute_result"
    }
   ],
   "source": [
    "len(a) # 리스트의 값의 갯수"
   ]
  },
  {
   "cell_type": "code",
   "execution_count": 67,
   "id": "11bf9c4c",
   "metadata": {},
   "outputs": [],
   "source": [
    "a=[1,8,5,6,2,4,5,2,6,9,4]"
   ]
  },
  {
   "cell_type": "code",
   "execution_count": 68,
   "id": "06834b81",
   "metadata": {},
   "outputs": [],
   "source": [
    "a.reverse() # 리스트 내용 뒤집기"
   ]
  },
  {
   "cell_type": "code",
   "execution_count": 69,
   "id": "7f92e0cb",
   "metadata": {},
   "outputs": [
    {
     "data": {
      "text/plain": [
       "[4, 9, 6, 2, 5, 4, 2, 6, 5, 8, 1]"
      ]
     },
     "execution_count": 69,
     "metadata": {},
     "output_type": "execute_result"
    }
   ],
   "source": [
    "a"
   ]
  },
  {
   "cell_type": "code",
   "execution_count": 70,
   "id": "cc85d558",
   "metadata": {},
   "outputs": [],
   "source": [
    "a.sort() # 리스트 내용 오름차순 정렬"
   ]
  },
  {
   "cell_type": "code",
   "execution_count": 71,
   "id": "70218308",
   "metadata": {},
   "outputs": [
    {
     "data": {
      "text/plain": [
       "[1, 2, 2, 4, 4, 5, 5, 6, 6, 8, 9]"
      ]
     },
     "execution_count": 71,
     "metadata": {},
     "output_type": "execute_result"
    }
   ],
   "source": [
    "a"
   ]
  },
  {
   "cell_type": "code",
   "execution_count": 1,
   "id": "4eea8d2a",
   "metadata": {
    "scrolled": false
   },
   "outputs": [
    {
     "name": "stdout",
     "output_type": "stream",
     "text": [
      "==================================================\n",
      "이름\t국어\t영어\t수학\t총점\t평균\n",
      "==================================================\n",
      "name0 \t 67 \t 78 \t 24 \t 169 \t 56\n",
      "name1 \t 38 \t 35 \t 69 \t 142 \t 47\n",
      "name2 \t 45 \t 81 \t 89 \t 215 \t 71\n",
      "name3 \t 54 \t 57 \t 48 \t 159 \t 53\n",
      "name4 \t 89 \t 81 \t 87 \t 257 \t 85\n",
      "name5 \t 83 \t 32 \t 34 \t 149 \t 49\n",
      "name6 \t 18 \t 59 \t 28 \t 105 \t 35\n",
      "name7 \t 42 \t 57 \t 18 \t 117 \t 39\n",
      "name8 \t 83 \t 39 \t 26 \t 148 \t 49\n",
      "name9 \t 87 \t 65 \t 77 \t 229 \t 76\n",
      "name10 \t 99 \t 10 \t 85 \t 194 \t 64\n",
      "name11 \t 30 \t 39 \t 86 \t 155 \t 51\n",
      "name12 \t 23 \t 20 \t 94 \t 137 \t 45\n",
      "name13 \t 97 \t 72 \t 70 \t 239 \t 79\n",
      "name14 \t 23 \t 32 \t 59 \t 114 \t 38\n",
      "name15 \t 87 \t 84 \t 20 \t 191 \t 63\n",
      "name16 \t 68 \t 41 \t 43 \t 152 \t 50\n",
      "name17 \t 80 \t 83 \t 27 \t 190 \t 63\n",
      "name18 \t 81 \t 48 \t 50 \t 179 \t 59\n",
      "name19 \t 28 \t 16 \t 71 \t 115 \t 38\n",
      "name20 \t 86 \t 60 \t 61 \t 207 \t 69\n",
      "name21 \t 28 \t 92 \t 69 \t 189 \t 63\n",
      "name22 \t 82 \t 79 \t 19 \t 180 \t 60\n",
      "name23 \t 22 \t 45 \t 83 \t 150 \t 50\n",
      "name24 \t 31 \t 53 \t 13 \t 97 \t 32\n",
      "name25 \t 11 \t 50 \t 61 \t 122 \t 40\n",
      "name26 \t 95 \t 47 \t 94 \t 236 \t 78\n",
      "name27 \t 63 \t 97 \t 43 \t 203 \t 67\n",
      "name28 \t 55 \t 83 \t 40 \t 178 \t 59\n",
      "name29 \t 74 \t 88 \t 33 \t 195 \t 65\n",
      "name30 \t 63 \t 72 \t 24 \t 159 \t 53\n",
      "name31 \t 24 \t 80 \t 77 \t 181 \t 60\n",
      "name32 \t 58 \t 93 \t 76 \t 227 \t 75\n",
      "name33 \t 68 \t 22 \t 33 \t 123 \t 41\n",
      "name34 \t 49 \t 85 \t 98 \t 232 \t 77\n",
      "name35 \t 59 \t 60 \t 87 \t 206 \t 68\n",
      "name36 \t 17 \t 90 \t 44 \t 151 \t 50\n",
      "name37 \t 68 \t 82 \t 41 \t 191 \t 63\n",
      "name38 \t 89 \t 69 \t 40 \t 198 \t 66\n",
      "name39 \t 46 \t 83 \t 93 \t 222 \t 74\n",
      "name40 \t 39 \t 77 \t 69 \t 185 \t 61\n",
      "name41 \t 25 \t 68 \t 27 \t 120 \t 40\n",
      "name42 \t 63 \t 49 \t 13 \t 125 \t 41\n",
      "name43 \t 70 \t 70 \t 85 \t 225 \t 75\n",
      "name44 \t 80 \t 49 \t 22 \t 151 \t 50\n",
      "name45 \t 87 \t 14 \t 54 \t 155 \t 51\n",
      "name46 \t 53 \t 89 \t 14 \t 156 \t 52\n",
      "name47 \t 95 \t 80 \t 60 \t 235 \t 78\n",
      "name48 \t 41 \t 78 \t 19 \t 138 \t 46\n",
      "name49 \t 24 \t 92 \t 66 \t 182 \t 60\n",
      "name50 \t 83 \t 67 \t 89 \t 239 \t 79\n",
      "name51 \t 48 \t 71 \t 25 \t 144 \t 48\n",
      "name52 \t 10 \t 23 \t 42 \t 75 \t 25\n",
      "name53 \t 58 \t 74 \t 11 \t 143 \t 47\n",
      "name54 \t 17 \t 99 \t 86 \t 202 \t 67\n",
      "name55 \t 88 \t 89 \t 22 \t 199 \t 66\n",
      "name56 \t 78 \t 56 \t 42 \t 176 \t 58\n",
      "name57 \t 85 \t 97 \t 97 \t 279 \t 93\n",
      "name58 \t 37 \t 55 \t 46 \t 138 \t 46\n",
      "name59 \t 11 \t 82 \t 90 \t 183 \t 61\n",
      "name60 \t 58 \t 31 \t 35 \t 124 \t 41\n",
      "name61 \t 96 \t 11 \t 87 \t 194 \t 64\n",
      "name62 \t 36 \t 38 \t 10 \t 84 \t 28\n",
      "name63 \t 76 \t 43 \t 11 \t 130 \t 43\n",
      "name64 \t 13 \t 22 \t 26 \t 61 \t 20\n",
      "name65 \t 27 \t 66 \t 68 \t 161 \t 53\n",
      "name66 \t 74 \t 83 \t 87 \t 244 \t 81\n",
      "name67 \t 26 \t 10 \t 84 \t 120 \t 40\n",
      "name68 \t 11 \t 64 \t 46 \t 121 \t 40\n",
      "name69 \t 63 \t 18 \t 50 \t 131 \t 43\n",
      "name70 \t 43 \t 58 \t 86 \t 187 \t 62\n",
      "name71 \t 46 \t 94 \t 65 \t 205 \t 68\n",
      "name72 \t 67 \t 59 \t 58 \t 184 \t 61\n",
      "name73 \t 83 \t 45 \t 49 \t 177 \t 59\n",
      "name74 \t 74 \t 15 \t 13 \t 102 \t 34\n",
      "name75 \t 73 \t 15 \t 89 \t 177 \t 59\n",
      "name76 \t 55 \t 23 \t 86 \t 164 \t 54\n",
      "name77 \t 70 \t 93 \t 31 \t 194 \t 64\n",
      "name78 \t 74 \t 84 \t 44 \t 202 \t 67\n",
      "name79 \t 11 \t 75 \t 41 \t 127 \t 42\n",
      "name80 \t 33 \t 93 \t 40 \t 166 \t 55\n",
      "name81 \t 20 \t 51 \t 81 \t 152 \t 50\n",
      "name82 \t 78 \t 18 \t 27 \t 123 \t 41\n",
      "name83 \t 80 \t 64 \t 97 \t 241 \t 80\n",
      "name84 \t 39 \t 24 \t 19 \t 82 \t 27\n",
      "name85 \t 35 \t 18 \t 84 \t 137 \t 45\n",
      "name86 \t 55 \t 37 \t 40 \t 132 \t 44\n",
      "name87 \t 82 \t 41 \t 91 \t 214 \t 71\n",
      "name88 \t 68 \t 96 \t 25 \t 189 \t 63\n",
      "name89 \t 56 \t 23 \t 90 \t 169 \t 56\n",
      "name90 \t 73 \t 14 \t 57 \t 144 \t 48\n",
      "name91 \t 11 \t 92 \t 84 \t 187 \t 62\n",
      "name92 \t 19 \t 12 \t 61 \t 92 \t 30\n",
      "name93 \t 66 \t 66 \t 71 \t 203 \t 67\n",
      "name94 \t 78 \t 86 \t 15 \t 179 \t 59\n",
      "name95 \t 34 \t 30 \t 84 \t 148 \t 49\n",
      "name96 \t 47 \t 50 \t 67 \t 164 \t 54\n",
      "name97 \t 62 \t 86 \t 61 \t 209 \t 69\n",
      "name98 \t 69 \t 52 \t 95 \t 216 \t 72\n",
      "name99 \t 57 \t 57 \t 29 \t 143 \t 47\n",
      "==================================================\n",
      "반총점\t 5540 \t 5795 \t 5497 \t 1870 \t 623.0\n",
      "==================================================\n"
     ]
    }
   ],
   "source": [
    "import random as r # r 다음에 오는 random 함수는 random 라이브러리를 가져다 쓰는것\n",
    "def titleprint(): # 카테고리 출력\n",
    "    print(\"=\"*50)\n",
    "    print(\"이름\\t국어\\t영어\\t수학\\t총점\\t평균\")\n",
    "    print(\"=\"*50)\n",
    "    \n",
    "def itemprint(name,kor,eng,mat): # 각 요소들 출력\n",
    "    print(name,\"\\t\",kor,\"\\t\",eng,\"\\t\",mat,\"\\t\",kor+eng+mat,\"\\t\",(kor+eng+mat)//3)\n",
    "    \n",
    "def tailprint(): # 총합 계산 & 출력\n",
    "    totkor=0\n",
    "    toteng=0\n",
    "    totmat=0\n",
    "    for one_student in score:\n",
    "        totkor+=one_student[kor]\n",
    "        toteng+=one_student[eng]\n",
    "        totmat+=one_student[mat]\n",
    "    print(\"=\"*50)\n",
    "    print(\"반총점\\t\",totkor,\"\\t\",toteng,\"\\t\",totmat,\"\\t\",(totkor+toteng+totmat)//9,\"\\t\",(totkor+toteng+totmat)/3//9)\n",
    "    print(\"=\"*50)\n",
    "\n",
    "one_person=[]\n",
    "score=[]\n",
    "for i in range(100):\n",
    "    one_person.append(\"name\"+str(i)) #이름\n",
    "    one_person.append(r.randrange(10,100)) #국어 10부터 100까지 임의에 값을 추출\n",
    "    one_person.append(r.randrange(10,100)) #영어\n",
    "    one_person.append(r.randrange(10,100)) #수학\n",
    "    score.append(one_person[:]) #값을 복사해서 추가함에 주의할 것\n",
    "    one_person.clear()\n",
    "#프로그램을 보기 좋게 하려고 상수를 정의\n",
    "name=0;kor=1;eng=2;mat=3 # => 실제로는 리스트의 각 부분의 인덱스\n",
    "\n",
    "#여기부터 프로그램\n",
    "titleprint() # 카테고리\n",
    "for one_student in score: # 2차원 리스트에서 받아 출력\n",
    "    itemprint(one_student[name],one_student[kor],one_student[eng],one_student[mat])\n",
    "tailprint() # 총합들"
   ]
  },
  {
   "cell_type": "code",
   "execution_count": null,
   "id": "38662481",
   "metadata": {},
   "outputs": [],
   "source": []
  }
 ],
 "metadata": {
  "kernelspec": {
   "display_name": "Python 3 (ipykernel)",
   "language": "python",
   "name": "python3"
  },
  "language_info": {
   "codemirror_mode": {
    "name": "ipython",
    "version": 3
   },
   "file_extension": ".py",
   "mimetype": "text/x-python",
   "name": "python",
   "nbconvert_exporter": "python",
   "pygments_lexer": "ipython3",
   "version": "3.8.7rc1"
  }
 },
 "nbformat": 4,
 "nbformat_minor": 5
}
