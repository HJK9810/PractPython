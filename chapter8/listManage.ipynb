{
 "cells": [
  {
   "cell_type": "code",
   "execution_count": 1,
   "id": "9eb90971",
   "metadata": {},
   "outputs": [],
   "source": [
    "a=[1,2,3,4,5]"
   ]
  },
  {
   "cell_type": "code",
   "execution_count": 2,
   "id": "98cd1e7d",
   "metadata": {},
   "outputs": [
    {
     "data": {
      "text/plain": [
       "[1, 2, 3, 4, 5]"
      ]
     },
     "execution_count": 2,
     "metadata": {},
     "output_type": "execute_result"
    }
   ],
   "source": [
    "a"
   ]
  },
  {
   "cell_type": "code",
   "execution_count": 3,
   "id": "ad869cfd",
   "metadata": {},
   "outputs": [],
   "source": [
    " del a[2] # 2번 리스트요소 제거"
   ]
  },
  {
   "cell_type": "code",
   "execution_count": 4,
   "id": "91140a21",
   "metadata": {},
   "outputs": [
    {
     "data": {
      "text/plain": [
       "[1, 2, 4, 5]"
      ]
     },
     "execution_count": 4,
     "metadata": {},
     "output_type": "execute_result"
    }
   ],
   "source": [
    "a"
   ]
  },
  {
   "cell_type": "code",
   "execution_count": 5,
   "id": "b8284c3b",
   "metadata": {},
   "outputs": [],
   "source": [
    "del a[2]"
   ]
  },
  {
   "cell_type": "code",
   "execution_count": 6,
   "id": "3d8f7bed",
   "metadata": {},
   "outputs": [
    {
     "data": {
      "text/plain": [
       "[1, 2, 5]"
      ]
     },
     "execution_count": 6,
     "metadata": {},
     "output_type": "execute_result"
    }
   ],
   "source": [
    "a"
   ]
  },
  {
   "cell_type": "code",
   "execution_count": 7,
   "id": "18e76c94",
   "metadata": {},
   "outputs": [],
   "source": [
    "a.clear() # 리스트 전부 제거"
   ]
  },
  {
   "cell_type": "code",
   "execution_count": 9,
   "id": "b1347ecd",
   "metadata": {},
   "outputs": [
    {
     "data": {
      "text/plain": [
       "[]"
      ]
     },
     "execution_count": 9,
     "metadata": {},
     "output_type": "execute_result"
    }
   ],
   "source": [
    "a"
   ]
  },
  {
   "cell_type": "code",
   "execution_count": 10,
   "id": "0e3754b0",
   "metadata": {},
   "outputs": [],
   "source": [
    "del a # a 공간마저 제거"
   ]
  },
  {
   "cell_type": "code",
   "execution_count": 11,
   "id": "989433f5",
   "metadata": {},
   "outputs": [
    {
     "ename": "NameError",
     "evalue": "name 'a' is not defined",
     "output_type": "error",
     "traceback": [
      "\u001b[1;31m---------------------------------------------------------------------------\u001b[0m",
      "\u001b[1;31mNameError\u001b[0m                                 Traceback (most recent call last)",
      "Input \u001b[1;32mIn [11]\u001b[0m, in \u001b[0;36m<cell line: 1>\u001b[1;34m()\u001b[0m\n\u001b[1;32m----> 1\u001b[0m \u001b[43ma\u001b[49m\n",
      "\u001b[1;31mNameError\u001b[0m: name 'a' is not defined"
     ]
    }
   ],
   "source": [
    "a"
   ]
  },
  {
   "cell_type": "code",
   "execution_count": 14,
   "id": "f3427b06",
   "metadata": {},
   "outputs": [
    {
     "ename": "NameError",
     "evalue": "name 'a' is not defined",
     "output_type": "error",
     "traceback": [
      "\u001b[1;31m---------------------------------------------------------------------------\u001b[0m",
      "\u001b[1;31mNameError\u001b[0m                                 Traceback (most recent call last)",
      "Input \u001b[1;32mIn [14]\u001b[0m, in \u001b[0;36m<cell line: 1>\u001b[1;34m()\u001b[0m\n\u001b[1;32m----> 1\u001b[0m \u001b[43ma\u001b[49m\u001b[38;5;241m.\u001b[39mappend(\u001b[38;5;241m1\u001b[39m)\n",
      "\u001b[1;31mNameError\u001b[0m: name 'a' is not defined"
     ]
    }
   ],
   "source": [
    "a.append(1) # 리스트가 정의되어있지 않으면 추가 불가"
   ]
  },
  {
   "cell_type": "code",
   "execution_count": 15,
   "id": "740d5596",
   "metadata": {},
   "outputs": [],
   "source": [
    "a=[] # 빈 리스트 정의"
   ]
  },
  {
   "cell_type": "code",
   "execution_count": 16,
   "id": "dfbe248e",
   "metadata": {},
   "outputs": [],
   "source": [
    "a.append(1) # 리스트에 값 1 추가"
   ]
  },
  {
   "cell_type": "code",
   "execution_count": 17,
   "id": "f16745ac",
   "metadata": {},
   "outputs": [],
   "source": [
    "a.append(3)"
   ]
  },
  {
   "cell_type": "code",
   "execution_count": 18,
   "id": "2a30c4b6",
   "metadata": {},
   "outputs": [],
   "source": [
    "a.append(5)"
   ]
  },
  {
   "cell_type": "code",
   "execution_count": 19,
   "id": "9c8f3196",
   "metadata": {},
   "outputs": [
    {
     "data": {
      "text/plain": [
       "[1, 3, 5]"
      ]
     },
     "execution_count": 19,
     "metadata": {},
     "output_type": "execute_result"
    }
   ],
   "source": [
    "a"
   ]
  },
  {
   "cell_type": "code",
   "execution_count": 20,
   "id": "e8ad85b1",
   "metadata": {},
   "outputs": [],
   "source": [
    "a=[4,5,6] # a 재정의"
   ]
  },
  {
   "cell_type": "code",
   "execution_count": 21,
   "id": "cd0a60cf",
   "metadata": {},
   "outputs": [],
   "source": [
    "a.append(10)"
   ]
  },
  {
   "cell_type": "code",
   "execution_count": 22,
   "id": "e2e05e33",
   "metadata": {},
   "outputs": [
    {
     "data": {
      "text/plain": [
       "[4, 5, 6, 10]"
      ]
     },
     "execution_count": 22,
     "metadata": {},
     "output_type": "execute_result"
    }
   ],
   "source": [
    "a"
   ]
  },
  {
   "cell_type": "code",
   "execution_count": 1,
   "id": "b6340f50",
   "metadata": {},
   "outputs": [],
   "source": [
    " a=[1,2,3,4,5]"
   ]
  },
  {
   "cell_type": "code",
   "execution_count": 2,
   "id": "2b9be6fd",
   "metadata": {},
   "outputs": [],
   "source": [
    " a.append(6) # append를 이용해 맨 뒤에 요소 삽입"
   ]
  },
  {
   "cell_type": "code",
   "execution_count": 3,
   "id": "cd30ea0a",
   "metadata": {},
   "outputs": [
    {
     "data": {
      "text/plain": [
       "[1, 2, 3, 4, 5, 6]"
      ]
     },
     "execution_count": 3,
     "metadata": {},
     "output_type": "execute_result"
    }
   ],
   "source": [
    "a"
   ]
  },
  {
   "cell_type": "code",
   "execution_count": 4,
   "id": "dd9388ae",
   "metadata": {},
   "outputs": [],
   "source": [
    " a.insert(3,12) # 리스트.isnert(삽입위치, 삽입내용)"
   ]
  },
  {
   "cell_type": "code",
   "execution_count": 5,
   "id": "4960f5bc",
   "metadata": {},
   "outputs": [
    {
     "data": {
      "text/plain": [
       "[1, 2, 3, 12, 4, 5, 6]"
      ]
     },
     "execution_count": 5,
     "metadata": {},
     "output_type": "execute_result"
    }
   ],
   "source": [
    "a"
   ]
  },
  {
   "cell_type": "code",
   "execution_count": 6,
   "id": "19fc0b81",
   "metadata": {},
   "outputs": [],
   "source": [
    "a.insert(4,15)"
   ]
  },
  {
   "cell_type": "code",
   "execution_count": 7,
   "id": "84b31a41",
   "metadata": {},
   "outputs": [
    {
     "data": {
      "text/plain": [
       "[1, 2, 3, 12, 15, 4, 5, 6]"
      ]
     },
     "execution_count": 7,
     "metadata": {},
     "output_type": "execute_result"
    }
   ],
   "source": [
    "a"
   ]
  },
  {
   "cell_type": "code",
   "execution_count": 8,
   "id": "2471d13e",
   "metadata": {},
   "outputs": [],
   "source": [
    "a.insert(3,1)"
   ]
  },
  {
   "cell_type": "code",
   "execution_count": 9,
   "id": "675136fe",
   "metadata": {},
   "outputs": [
    {
     "data": {
      "text/plain": [
       "[1, 2, 3, 1, 12, 15, 4, 5, 6]"
      ]
     },
     "execution_count": 9,
     "metadata": {},
     "output_type": "execute_result"
    }
   ],
   "source": [
    "a"
   ]
  },
  {
   "cell_type": "code",
   "execution_count": 10,
   "id": "6520e5c9",
   "metadata": {},
   "outputs": [],
   "source": [
    "a=[1, 2, 3, 1, 12, 15, 4, 5, 6]"
   ]
  },
  {
   "cell_type": "code",
   "execution_count": 11,
   "id": "f5ca4206",
   "metadata": {},
   "outputs": [],
   "source": [
    "a[5:5]=[1,2,3,4,5,6] # 5에서 5까지 영역에 해당 리스트 값 삽입"
   ]
  },
  {
   "cell_type": "code",
   "execution_count": 12,
   "id": "20631ad7",
   "metadata": {},
   "outputs": [
    {
     "data": {
      "text/plain": [
       "[1, 2, 3, 1, 12, 1, 2, 3, 4, 5, 6, 15, 4, 5, 6]"
      ]
     },
     "execution_count": 12,
     "metadata": {},
     "output_type": "execute_result"
    }
   ],
   "source": [
    "a"
   ]
  },
  {
   "cell_type": "code",
   "execution_count": 13,
   "id": "773a5db0",
   "metadata": {},
   "outputs": [],
   "source": [
    " a=[1, 2, 3, 1, 12, 15, 4, 5, 6]"
   ]
  },
  {
   "cell_type": "code",
   "execution_count": 14,
   "id": "b4beff1f",
   "metadata": {},
   "outputs": [],
   "source": [
    "a[5]=[1,2,3,4,5,6] #5요소에 이 리스트 '대입'"
   ]
  },
  {
   "cell_type": "code",
   "execution_count": 15,
   "id": "48ff67a4",
   "metadata": {},
   "outputs": [
    {
     "data": {
      "text/plain": [
       "[1, 2, 3, 1, 12, [1, 2, 3, 4, 5, 6], 4, 5, 6]"
      ]
     },
     "execution_count": 15,
     "metadata": {},
     "output_type": "execute_result"
    }
   ],
   "source": [
    "a"
   ]
  },
  {
   "cell_type": "code",
   "execution_count": 16,
   "id": "c5a0c224",
   "metadata": {},
   "outputs": [],
   "source": [
    "a=[1,2,3]"
   ]
  },
  {
   "cell_type": "code",
   "execution_count": 17,
   "id": "49c95e63",
   "metadata": {},
   "outputs": [],
   "source": [
    "b=[4,5,6]"
   ]
  },
  {
   "cell_type": "code",
   "execution_count": 18,
   "id": "472b98b0",
   "metadata": {},
   "outputs": [],
   "source": [
    "a=a+b"
   ]
  },
  {
   "cell_type": "code",
   "execution_count": 19,
   "id": "cc92338c",
   "metadata": {},
   "outputs": [
    {
     "data": {
      "text/plain": [
       "[1, 2, 3, 4, 5, 6]"
      ]
     },
     "execution_count": 19,
     "metadata": {},
     "output_type": "execute_result"
    }
   ],
   "source": [
    "a"
   ]
  },
  {
   "cell_type": "code",
   "execution_count": 20,
   "id": "fc99f0f0",
   "metadata": {},
   "outputs": [],
   "source": [
    "a=[1,2,3]"
   ]
  },
  {
   "cell_type": "code",
   "execution_count": 21,
   "id": "9fc68703",
   "metadata": {},
   "outputs": [],
   "source": [
    "b=[4,5,6]"
   ]
  },
  {
   "cell_type": "code",
   "execution_count": 22,
   "id": "5103e29d",
   "metadata": {},
   "outputs": [],
   "source": [
    "a.extend(b) # 리스트.extend(리스트2) == 리스트 + 리스트2"
   ]
  },
  {
   "cell_type": "code",
   "execution_count": 23,
   "id": "61075aba",
   "metadata": {},
   "outputs": [
    {
     "data": {
      "text/plain": [
       "[1, 2, 3, 4, 5, 6]"
      ]
     },
     "execution_count": 23,
     "metadata": {},
     "output_type": "execute_result"
    }
   ],
   "source": [
    "a"
   ]
  },
  {
   "cell_type": "code",
   "execution_count": 24,
   "id": "a0c9dcdd",
   "metadata": {},
   "outputs": [],
   "source": [
    " a=[1,2,3,3,4,4,5,6,7,7,7,7,8]"
   ]
  },
  {
   "cell_type": "code",
   "execution_count": 25,
   "id": "b95a124b",
   "metadata": {},
   "outputs": [
    {
     "data": {
      "text/plain": [
       "[1, 2, 3, 3, 4, 4, 5, 6, 7, 7, 7, 7, 8]"
      ]
     },
     "execution_count": 25,
     "metadata": {},
     "output_type": "execute_result"
    }
   ],
   "source": [
    "a"
   ]
  },
  {
   "cell_type": "code",
   "execution_count": 26,
   "id": "e496104f",
   "metadata": {},
   "outputs": [],
   "source": [
    " a.remove(7) #첫 번째 7값 delete"
   ]
  },
  {
   "cell_type": "code",
   "execution_count": 27,
   "id": "e56d2b67",
   "metadata": {},
   "outputs": [
    {
     "data": {
      "text/plain": [
       "[1, 2, 3, 3, 4, 4, 5, 6, 7, 7, 7, 8]"
      ]
     },
     "execution_count": 27,
     "metadata": {},
     "output_type": "execute_result"
    }
   ],
   "source": [
    "a"
   ]
  },
  {
   "cell_type": "code",
   "execution_count": 28,
   "id": "3dd1fabb",
   "metadata": {},
   "outputs": [],
   "source": [
    "a.remove(7) #첫 번째 7값 delete"
   ]
  },
  {
   "cell_type": "code",
   "execution_count": 29,
   "id": "43d907db",
   "metadata": {},
   "outputs": [
    {
     "data": {
      "text/plain": [
       "[1, 2, 3, 3, 4, 4, 5, 6, 7, 7, 8]"
      ]
     },
     "execution_count": 29,
     "metadata": {},
     "output_type": "execute_result"
    }
   ],
   "source": [
    "a"
   ]
  },
  {
   "cell_type": "code",
   "execution_count": 30,
   "id": "37f811a8",
   "metadata": {},
   "outputs": [],
   "source": [
    "a[5]=[] # 다섯 번째에 빈 값[]이 들어 있는 리스트 생성(주의: a[5:5]=[]의 경우에는 ''값을 삽입하게 됨)"
   ]
  },
  {
   "cell_type": "code",
   "execution_count": 31,
   "id": "5522cd13",
   "metadata": {},
   "outputs": [
    {
     "data": {
      "text/plain": [
       "[1, 2, 3, 3, 4, [], 5, 6, 7, 7, 8]"
      ]
     },
     "execution_count": 31,
     "metadata": {},
     "output_type": "execute_result"
    }
   ],
   "source": [
    "a"
   ]
  },
  {
   "cell_type": "code",
   "execution_count": 32,
   "id": "7109cdcc",
   "metadata": {},
   "outputs": [],
   "source": [
    "a[2:4]=[]  # 2에서 4영역까지 ''값 삽입 -> 리스트를 빈값으로 대체"
   ]
  },
  {
   "cell_type": "code",
   "execution_count": 33,
   "id": "f3df244c",
   "metadata": {},
   "outputs": [
    {
     "data": {
      "text/plain": [
       "[1, 2, 4, [], 5, 6, 7, 7, 8]"
      ]
     },
     "execution_count": 33,
     "metadata": {},
     "output_type": "execute_result"
    }
   ],
   "source": [
    "a"
   ]
  },
  {
   "cell_type": "code",
   "execution_count": 34,
   "id": "9222d0b2",
   "metadata": {},
   "outputs": [],
   "source": [
    " del(a[4]) # 리스트 4번째 값 제거"
   ]
  },
  {
   "cell_type": "code",
   "execution_count": 35,
   "id": "8849a0de",
   "metadata": {},
   "outputs": [
    {
     "data": {
      "text/plain": [
       "[1, 2, 4, [], 6, 7, 7, 8]"
      ]
     },
     "execution_count": 35,
     "metadata": {},
     "output_type": "execute_result"
    }
   ],
   "source": [
    "a"
   ]
  },
  {
   "cell_type": "code",
   "execution_count": 36,
   "id": "277d60c4",
   "metadata": {},
   "outputs": [],
   "source": [
    "del(a[3])"
   ]
  },
  {
   "cell_type": "code",
   "execution_count": 37,
   "id": "b2bb5ebd",
   "metadata": {},
   "outputs": [
    {
     "data": {
      "text/plain": [
       "[1, 2, 4, 6, 7, 7, 8]"
      ]
     },
     "execution_count": 37,
     "metadata": {},
     "output_type": "execute_result"
    }
   ],
   "source": [
    "a"
   ]
  },
  {
   "cell_type": "code",
   "execution_count": 38,
   "id": "21b12151",
   "metadata": {},
   "outputs": [],
   "source": [
    "a.clear() # 리스트 전체 값 제거"
   ]
  },
  {
   "cell_type": "code",
   "execution_count": 39,
   "id": "146a480d",
   "metadata": {},
   "outputs": [
    {
     "data": {
      "text/plain": [
       "[]"
      ]
     },
     "execution_count": 39,
     "metadata": {},
     "output_type": "execute_result"
    }
   ],
   "source": [
    "a # 단, 빈 리스트 남음"
   ]
  },
  {
   "cell_type": "code",
   "execution_count": 40,
   "id": "d111f86e",
   "metadata": {},
   "outputs": [],
   "source": [
    "del(a) # 리스트 정의까지 제거"
   ]
  },
  {
   "cell_type": "code",
   "execution_count": 41,
   "id": "f67ab843",
   "metadata": {},
   "outputs": [
    {
     "ename": "NameError",
     "evalue": "name 'a' is not defined",
     "output_type": "error",
     "traceback": [
      "\u001b[1;31m---------------------------------------------------------------------------\u001b[0m",
      "\u001b[1;31mNameError\u001b[0m                                 Traceback (most recent call last)",
      "Input \u001b[1;32mIn [41]\u001b[0m, in \u001b[0;36m<cell line: 1>\u001b[1;34m()\u001b[0m\n\u001b[1;32m----> 1\u001b[0m \u001b[43ma\u001b[49m\n",
      "\u001b[1;31mNameError\u001b[0m: name 'a' is not defined"
     ]
    }
   ],
   "source": [
    "a"
   ]
  },
  {
   "cell_type": "code",
   "execution_count": 47,
   "id": "dda99486",
   "metadata": {},
   "outputs": [],
   "source": [
    " a=[1,2,3,3,4,4,5,6,7,7,7,7,8]"
   ]
  },
  {
   "cell_type": "code",
   "execution_count": 48,
   "id": "bce5bcb5",
   "metadata": {},
   "outputs": [
    {
     "data": {
      "text/plain": [
       "8"
      ]
     },
     "execution_count": 48,
     "metadata": {},
     "output_type": "execute_result"
    }
   ],
   "source": [
    "a.pop() # 리스트 마지막값 추출"
   ]
  },
  {
   "cell_type": "code",
   "execution_count": 49,
   "id": "7a5bdc96",
   "metadata": {},
   "outputs": [
    {
     "data": {
      "text/plain": [
       "[1, 2, 3, 3, 4, 4, 5, 6, 7, 7, 7, 7]"
      ]
     },
     "execution_count": 49,
     "metadata": {},
     "output_type": "execute_result"
    }
   ],
   "source": [
    "a"
   ]
  },
  {
   "cell_type": "code",
   "execution_count": 50,
   "id": "6e8b0017",
   "metadata": {},
   "outputs": [
    {
     "data": {
      "text/plain": [
       "7"
      ]
     },
     "execution_count": 50,
     "metadata": {},
     "output_type": "execute_result"
    }
   ],
   "source": [
    "a.pop()"
   ]
  },
  {
   "cell_type": "code",
   "execution_count": 51,
   "id": "25ebeea2",
   "metadata": {},
   "outputs": [
    {
     "data": {
      "text/plain": [
       "3"
      ]
     },
     "execution_count": 51,
     "metadata": {},
     "output_type": "execute_result"
    }
   ],
   "source": [
    "a.pop(3) # 리스트 인덱스 3값 추출"
   ]
  },
  {
   "cell_type": "code",
   "execution_count": 52,
   "id": "bc12e891",
   "metadata": {},
   "outputs": [
    {
     "data": {
      "text/plain": [
       "[1, 2, 3, 4, 4, 5, 6, 7, 7, 7]"
      ]
     },
     "execution_count": 52,
     "metadata": {},
     "output_type": "execute_result"
    }
   ],
   "source": [
    "a"
   ]
  },
  {
   "cell_type": "code",
   "execution_count": 53,
   "id": "e36dbe51",
   "metadata": {},
   "outputs": [
    {
     "data": {
      "text/plain": [
       "6"
      ]
     },
     "execution_count": 53,
     "metadata": {},
     "output_type": "execute_result"
    }
   ],
   "source": [
    "a.pop(6) # 리스트 인덱스 3값 추출"
   ]
  },
  {
   "cell_type": "code",
   "execution_count": 54,
   "id": "cd2b009c",
   "metadata": {},
   "outputs": [
    {
     "data": {
      "text/plain": [
       "[1, 2, 3, 4, 4, 5, 7, 7, 7]"
      ]
     },
     "execution_count": 54,
     "metadata": {},
     "output_type": "execute_result"
    }
   ],
   "source": [
    "a"
   ]
  },
  {
   "cell_type": "code",
   "execution_count": 55,
   "id": "1d9e7c5a",
   "metadata": {},
   "outputs": [
    {
     "data": {
      "text/plain": [
       "7"
      ]
     },
     "execution_count": 55,
     "metadata": {},
     "output_type": "execute_result"
    }
   ],
   "source": [
    "a.pop(6)"
   ]
  },
  {
   "cell_type": "code",
   "execution_count": 56,
   "id": "56de6809",
   "metadata": {},
   "outputs": [
    {
     "data": {
      "text/plain": [
       "1"
      ]
     },
     "execution_count": 56,
     "metadata": {},
     "output_type": "execute_result"
    }
   ],
   "source": [
    "a.pop(0) # 리스트 인덱스 0값 추출"
   ]
  },
  {
   "cell_type": "code",
   "execution_count": 57,
   "id": "84113d4d",
   "metadata": {},
   "outputs": [
    {
     "data": {
      "text/plain": [
       "[2, 3, 4, 4, 5, 7, 7]"
      ]
     },
     "execution_count": 57,
     "metadata": {},
     "output_type": "execute_result"
    }
   ],
   "source": [
    "a"
   ]
  },
  {
   "cell_type": "code",
   "execution_count": 58,
   "id": "ede36b2b",
   "metadata": {},
   "outputs": [],
   "source": [
    "a=[1,2,3,3,4,4,5,6,7,7,7,7,8]"
   ]
  },
  {
   "cell_type": "code",
   "execution_count": 59,
   "id": "afdc0aff",
   "metadata": {},
   "outputs": [
    {
     "data": {
      "text/plain": [
       "8"
      ]
     },
     "execution_count": 59,
     "metadata": {},
     "output_type": "execute_result"
    }
   ],
   "source": [
    "a.index(7) # 값 7의 첫번째 위치"
   ]
  },
  {
   "cell_type": "code",
   "execution_count": 60,
   "id": "198c6fa1",
   "metadata": {},
   "outputs": [
    {
     "data": {
      "text/plain": [
       "12"
      ]
     },
     "execution_count": 60,
     "metadata": {},
     "output_type": "execute_result"
    }
   ],
   "source": [
    "a.index(8) # 값 8의 위치"
   ]
  },
  {
   "cell_type": "code",
   "execution_count": 61,
   "id": "0511cf3f",
   "metadata": {},
   "outputs": [
    {
     "data": {
      "text/plain": [
       "4"
      ]
     },
     "execution_count": 61,
     "metadata": {},
     "output_type": "execute_result"
    }
   ],
   "source": [
    "a.index(4) # 값 4의 첫번째 위치"
   ]
  },
  {
   "cell_type": "code",
   "execution_count": 62,
   "id": "2bb5ad17",
   "metadata": {},
   "outputs": [
    {
     "data": {
      "text/plain": [
       "4"
      ]
     },
     "execution_count": 62,
     "metadata": {},
     "output_type": "execute_result"
    }
   ],
   "source": [
    "a.count(7) # 리스트 안에 들어있는 값 7의 갯수"
   ]
  },
  {
   "cell_type": "code",
   "execution_count": 63,
   "id": "2f32bbbf",
   "metadata": {},
   "outputs": [],
   "source": [
    "a=[1,2,3,3,4,4,5,6,7,7,7,7,8]"
   ]
  },
  {
   "cell_type": "code",
   "execution_count": 64,
   "id": "eeb89b73",
   "metadata": {},
   "outputs": [
    {
     "data": {
      "text/plain": [
       "8"
      ]
     },
     "execution_count": 64,
     "metadata": {},
     "output_type": "execute_result"
    }
   ],
   "source": [
    "max(a) # 리스트 값중 최댓값"
   ]
  },
  {
   "cell_type": "code",
   "execution_count": 65,
   "id": "5f26ada8",
   "metadata": {},
   "outputs": [
    {
     "data": {
      "text/plain": [
       "1"
      ]
     },
     "execution_count": 65,
     "metadata": {},
     "output_type": "execute_result"
    }
   ],
   "source": [
    "min(a) # 리스트 값중 최솟값"
   ]
  },
  {
   "cell_type": "code",
   "execution_count": 66,
   "id": "2d88651e",
   "metadata": {},
   "outputs": [
    {
     "data": {
      "text/plain": [
       "13"
      ]
     },
     "execution_count": 66,
     "metadata": {},
     "output_type": "execute_result"
    }
   ],
   "source": [
    "len(a) # 리스트의 값의 갯수"
   ]
  },
  {
   "cell_type": "code",
   "execution_count": 67,
   "id": "11bf9c4c",
   "metadata": {},
   "outputs": [],
   "source": [
    "a=[1,8,5,6,2,4,5,2,6,9,4]"
   ]
  },
  {
   "cell_type": "code",
   "execution_count": 68,
   "id": "06834b81",
   "metadata": {},
   "outputs": [],
   "source": [
    "a.reverse() # 리스트 내용 뒤집기"
   ]
  },
  {
   "cell_type": "code",
   "execution_count": 69,
   "id": "7f92e0cb",
   "metadata": {},
   "outputs": [
    {
     "data": {
      "text/plain": [
       "[4, 9, 6, 2, 5, 4, 2, 6, 5, 8, 1]"
      ]
     },
     "execution_count": 69,
     "metadata": {},
     "output_type": "execute_result"
    }
   ],
   "source": [
    "a"
   ]
  },
  {
   "cell_type": "code",
   "execution_count": 70,
   "id": "cc85d558",
   "metadata": {},
   "outputs": [],
   "source": [
    "a.sort() # 리스트 내용 오름차순 정렬"
   ]
  },
  {
   "cell_type": "code",
   "execution_count": 71,
   "id": "70218308",
   "metadata": {},
   "outputs": [
    {
     "data": {
      "text/plain": [
       "[1, 2, 2, 4, 4, 5, 5, 6, 6, 8, 9]"
      ]
     },
     "execution_count": 71,
     "metadata": {},
     "output_type": "execute_result"
    }
   ],
   "source": [
    "a"
   ]
  },
  {
   "cell_type": "code",
   "execution_count": null,
   "id": "4eea8d2a",
   "metadata": {},
   "outputs": [],
   "source": []
  }
 ],
 "metadata": {
  "kernelspec": {
   "display_name": "Python 3 (ipykernel)",
   "language": "python",
   "name": "python3"
  },
  "language_info": {
   "codemirror_mode": {
    "name": "ipython",
    "version": 3
   },
   "file_extension": ".py",
   "mimetype": "text/x-python",
   "name": "python",
   "nbconvert_exporter": "python",
   "pygments_lexer": "ipython3",
   "version": "3.8.8rc1"
  }
 },
 "nbformat": 4,
 "nbformat_minor": 5
}
