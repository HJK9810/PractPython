{
 "cells": [
  {
   "cell_type": "code",
   "execution_count": 1,
   "id": "05c37200",
   "metadata": {},
   "outputs": [],
   "source": [
    "a=[1,2,3,4,5] # 리스트 지정"
   ]
  },
  {
   "cell_type": "code",
   "execution_count": 2,
   "id": "54dd29cd",
   "metadata": {},
   "outputs": [
    {
     "data": {
      "text/plain": [
       "(1, 2, 3, 4, 5)"
      ]
     },
     "execution_count": 2,
     "metadata": {},
     "output_type": "execute_result"
    }
   ],
   "source": [
    " a[0],a[1],a[2],a[3],a[4]"
   ]
  },
  {
   "cell_type": "code",
   "execution_count": 3,
   "id": "f662e077",
   "metadata": {},
   "outputs": [],
   "source": [
    " a=[11,\"abc\",12.3333,\"안녕\",2+3j] # 서로 다른 형태 지정가능"
   ]
  },
  {
   "cell_type": "code",
   "execution_count": 4,
   "id": "fc690c67",
   "metadata": {},
   "outputs": [
    {
     "data": {
      "text/plain": [
       "(11, 'abc', 12.3333, '안녕', (2+3j))"
      ]
     },
     "execution_count": 4,
     "metadata": {},
     "output_type": "execute_result"
    }
   ],
   "source": [
    " a[0],a[1],a[2],a[3],a[4]"
   ]
  },
  {
   "cell_type": "code",
   "execution_count": 5,
   "id": "9430a078",
   "metadata": {},
   "outputs": [],
   "source": [
    "a[1]=1234;a[4]=\"홍길동\" # 값 변경 가능"
   ]
  },
  {
   "cell_type": "code",
   "execution_count": 6,
   "id": "622e2068",
   "metadata": {},
   "outputs": [
    {
     "data": {
      "text/plain": [
       "[11, 1234, 12.3333, '안녕', '홍길동']"
      ]
     },
     "execution_count": 6,
     "metadata": {},
     "output_type": "execute_result"
    }
   ],
   "source": [
    "a"
   ]
  },
  {
   "cell_type": "code",
   "execution_count": 7,
   "id": "6515fc99",
   "metadata": {},
   "outputs": [
    {
     "name": "stdout",
     "output_type": "stream",
     "text": [
      "점수( 90 )\n",
      "점수( 80 )\n",
      "점수( 70 )\n",
      "점수( 60 )\n",
      "점수( 30 )\n",
      "총점: 330\n"
     ]
    }
   ],
   "source": [
    "score=[90,80,70,60,30] # 반복문을 통해 출력 & 계산\n",
    "sum=0\n",
    "for s in score:\n",
    "    print(\"점수(\",s,\")\")\n",
    "    sum+=s\n",
    "print(\"총점:\",sum);"
   ]
  },
  {
   "cell_type": "code",
   "execution_count": 8,
   "id": "070eb03e",
   "metadata": {},
   "outputs": [],
   "source": [
    "a=[1,2,3,4,5] # 인덱스는 보통 0~(n-1)이지만, 역방향으로 -n~-1로도 지정가능"
   ]
  },
  {
   "cell_type": "code",
   "execution_count": 9,
   "id": "0dcbae8c",
   "metadata": {},
   "outputs": [
    {
     "data": {
      "text/plain": [
       "(1, 1)"
      ]
     },
     "execution_count": 9,
     "metadata": {},
     "output_type": "execute_result"
    }
   ],
   "source": [
    "a[0],a[-5]"
   ]
  },
  {
   "cell_type": "code",
   "execution_count": 10,
   "id": "a886dafa",
   "metadata": {},
   "outputs": [
    {
     "data": {
      "text/plain": [
       "(2, 2)"
      ]
     },
     "execution_count": 10,
     "metadata": {},
     "output_type": "execute_result"
    }
   ],
   "source": [
    "a[1],a[-4]"
   ]
  },
  {
   "cell_type": "code",
   "execution_count": 11,
   "id": "ea3329ed",
   "metadata": {},
   "outputs": [
    {
     "data": {
      "text/plain": [
       "(3, 3)"
      ]
     },
     "execution_count": 11,
     "metadata": {},
     "output_type": "execute_result"
    }
   ],
   "source": [
    "a[2],a[-3]"
   ]
  },
  {
   "cell_type": "code",
   "execution_count": 12,
   "id": "78ad9453",
   "metadata": {},
   "outputs": [
    {
     "data": {
      "text/plain": [
       "(4, 4)"
      ]
     },
     "execution_count": 12,
     "metadata": {},
     "output_type": "execute_result"
    }
   ],
   "source": [
    " a[3],a[-2]"
   ]
  },
  {
   "cell_type": "code",
   "execution_count": 13,
   "id": "9d440e46",
   "metadata": {},
   "outputs": [
    {
     "data": {
      "text/plain": [
       "(5, 5)"
      ]
     },
     "execution_count": 13,
     "metadata": {},
     "output_type": "execute_result"
    }
   ],
   "source": [
    "a[4],a[-1]"
   ]
  },
  {
   "cell_type": "code",
   "execution_count": 14,
   "id": "d4d80f67",
   "metadata": {},
   "outputs": [],
   "source": [
    "a=[1,2,3,4,5,6,7,8,9,10] # 리스트 첨자 사용 -> [begin:end:step] = [시작인덱스:마지막출력인덱스+1:증가폭]"
   ]
  },
  {
   "cell_type": "code",
   "execution_count": 15,
   "id": "43b63be6",
   "metadata": {},
   "outputs": [
    {
     "data": {
      "text/plain": [
       "[3, 4, 5, 6, 7, 8]"
      ]
     },
     "execution_count": 15,
     "metadata": {},
     "output_type": "execute_result"
    }
   ],
   "source": [
    " a[2:8] # 2부터 8보다 작을 때까지(출력 인덱스 : 2,3,4,5,6,7) => step default값 : 1"
   ]
  },
  {
   "cell_type": "code",
   "execution_count": 16,
   "id": "760d6929",
   "metadata": {},
   "outputs": [
    {
     "data": {
      "text/plain": [
       "[1, 2, 3, 4]"
      ]
     },
     "execution_count": 16,
     "metadata": {},
     "output_type": "execute_result"
    }
   ],
   "source": [
    "a[:4] #처음부터 4보다 작을 때까지(출력 인덱스 : 0,1,2,3 ** 단, a[4]제외 하고 출력) => begin default값 : 0"
   ]
  },
  {
   "cell_type": "code",
   "execution_count": 17,
   "id": "9fa7390c",
   "metadata": {},
   "outputs": [
    {
     "data": {
      "text/plain": [
       "[6, 7, 8, 9, 10]"
      ]
     },
     "execution_count": 17,
     "metadata": {},
     "output_type": "execute_result"
    }
   ],
   "source": [
    "a[5:] #5부터 끝까지 => end defualt값 : 해당 리스트 길이"
   ]
  },
  {
   "cell_type": "code",
   "execution_count": 18,
   "id": "0a3476fb",
   "metadata": {},
   "outputs": [
    {
     "data": {
      "text/plain": [
       "[1, 4]"
      ]
     },
     "execution_count": 18,
     "metadata": {},
     "output_type": "execute_result"
    }
   ],
   "source": [
    "a[0:6:3] #0부터 6보다 작을때 까지(6은 제외 0,3) 3씩 증가하며 출력"
   ]
  },
  {
   "cell_type": "code",
   "execution_count": 19,
   "id": "7283c463",
   "metadata": {},
   "outputs": [],
   "source": [
    "a=[[1,2,3],[4,5,6],[7,8,9]] # 리스트로 구성된 리스트 == C나 java의 다중배열"
   ]
  },
  {
   "cell_type": "code",
   "execution_count": 20,
   "id": "c4cd68a8",
   "metadata": {},
   "outputs": [
    {
     "data": {
      "text/plain": [
       "[7, 8, 9]"
      ]
     },
     "execution_count": 20,
     "metadata": {},
     "output_type": "execute_result"
    }
   ],
   "source": [
    "a[2]"
   ]
  },
  {
   "cell_type": "code",
   "execution_count": 21,
   "id": "034028b6",
   "metadata": {},
   "outputs": [
    {
     "data": {
      "text/plain": [
       "9"
      ]
     },
     "execution_count": 21,
     "metadata": {},
     "output_type": "execute_result"
    }
   ],
   "source": [
    "a[2][2]"
   ]
  },
  {
   "cell_type": "code",
   "execution_count": 22,
   "id": "6ca35d11",
   "metadata": {},
   "outputs": [
    {
     "ename": "IndexError",
     "evalue": "list index out of range",
     "output_type": "error",
     "traceback": [
      "\u001b[1;31m---------------------------------------------------------------------------\u001b[0m",
      "\u001b[1;31mIndexError\u001b[0m                                Traceback (most recent call last)",
      "Input \u001b[1;32mIn [22]\u001b[0m, in \u001b[0;36m<cell line: 1>\u001b[1;34m()\u001b[0m\n\u001b[1;32m----> 1\u001b[0m \u001b[43ma\u001b[49m\u001b[43m[\u001b[49m\u001b[38;5;241;43m1\u001b[39;49m\u001b[43m]\u001b[49m\u001b[43m[\u001b[49m\u001b[38;5;241;43m3\u001b[39;49m\u001b[43m]\u001b[49m\n",
      "\u001b[1;31mIndexError\u001b[0m: list index out of range"
     ]
    }
   ],
   "source": [
    "a[1][3] # 인덱스 범위 오버 => max index는 2이기 때문"
   ]
  },
  {
   "cell_type": "code",
   "execution_count": 23,
   "id": "0a3af923",
   "metadata": {},
   "outputs": [
    {
     "data": {
      "text/plain": [
       "6"
      ]
     },
     "execution_count": 23,
     "metadata": {},
     "output_type": "execute_result"
    }
   ],
   "source": [
    "a[1][2]"
   ]
  },
  {
   "cell_type": "code",
   "execution_count": 24,
   "id": "30bf17cc",
   "metadata": {},
   "outputs": [],
   "source": [
    "a=[[1,2],[3,4,5],6] # 가변 형태의 리스트"
   ]
  },
  {
   "cell_type": "code",
   "execution_count": 25,
   "id": "1e4f0e7a",
   "metadata": {},
   "outputs": [
    {
     "data": {
      "text/plain": [
       "[[1, 2], [3, 4, 5], 6]"
      ]
     },
     "execution_count": 25,
     "metadata": {},
     "output_type": "execute_result"
    }
   ],
   "source": [
    "a"
   ]
  },
  {
   "cell_type": "code",
   "execution_count": 26,
   "id": "917d7a6c",
   "metadata": {},
   "outputs": [
    {
     "data": {
      "text/plain": [
       "6"
      ]
     },
     "execution_count": 26,
     "metadata": {},
     "output_type": "execute_result"
    }
   ],
   "source": [
    "a[2]"
   ]
  },
  {
   "cell_type": "code",
   "execution_count": 27,
   "id": "618a091f",
   "metadata": {},
   "outputs": [
    {
     "data": {
      "text/plain": [
       "[3, 4, 5]"
      ]
     },
     "execution_count": 27,
     "metadata": {},
     "output_type": "execute_result"
    }
   ],
   "source": [
    "a[1]"
   ]
  },
  {
   "cell_type": "code",
   "execution_count": 28,
   "id": "ee1eedc9",
   "metadata": {},
   "outputs": [],
   "source": [
    "a=[ n * 3 for n in range (1,10)] # [요소 for 변수 in (리스트 or range){if 조건}]"
   ]
  },
  {
   "cell_type": "code",
   "execution_count": 29,
   "id": "88d3a3aa",
   "metadata": {},
   "outputs": [
    {
     "data": {
      "text/plain": [
       "[3, 6, 9, 12, 15, 18, 21, 24, 27]"
      ]
     },
     "execution_count": 29,
     "metadata": {},
     "output_type": "execute_result"
    }
   ],
   "source": [
    "a"
   ]
  },
  {
   "cell_type": "code",
   "execution_count": 30,
   "id": "1509c1ec",
   "metadata": {},
   "outputs": [],
   "source": [
    " a=[ n * 3 for n in range (1,10) if n % 2 ==0 ]"
   ]
  },
  {
   "cell_type": "code",
   "execution_count": 31,
   "id": "e0d94450",
   "metadata": {},
   "outputs": [
    {
     "data": {
      "text/plain": [
       "[6, 12, 18, 24]"
      ]
     },
     "execution_count": 31,
     "metadata": {},
     "output_type": "execute_result"
    }
   ],
   "source": [
    "a"
   ]
  },
  {
   "cell_type": "code",
   "execution_count": null,
   "id": "3df7e1d6",
   "metadata": {},
   "outputs": [],
   "source": []
  }
 ],
 "metadata": {
  "kernelspec": {
   "display_name": "Python 3 (ipykernel)",
   "language": "python",
   "name": "python3"
  },
  "language_info": {
   "codemirror_mode": {
    "name": "ipython",
    "version": 3
   },
   "file_extension": ".py",
   "mimetype": "text/x-python",
   "name": "python",
   "nbconvert_exporter": "python",
   "pygments_lexer": "ipython3",
   "version": "3.8.8rc1"
  }
 },
 "nbformat": 4,
 "nbformat_minor": 5
}
