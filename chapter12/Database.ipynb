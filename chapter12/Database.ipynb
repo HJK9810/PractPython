{
 "cells": [
  {
   "cell_type": "code",
   "execution_count": 1,
   "id": "e381ef7d",
   "metadata": {},
   "outputs": [],
   "source": [
    "import sqlite3 as s\n",
    "con=s.connect(\"my01.db\") # 데이터베이스 연결 - default 현 소스 파일 디렉토리\n",
    "cursor = con.cursor() # 데이터베이스 사용공간 생성\n",
    "\n",
    "# cursor.execute(\"drop table examtable;\") # table 삭제\n",
    "con.commit()\n",
    "\n",
    "#table 생성\n",
    "cursor.execute(\"\\\n",
    "create table examtable( name varchar(20),\\\n",
    "    studentid int not null primary key,\\\n",
    "    kor int,\\\n",
    "    eng int,\\\n",
    "    mat int) \\\n",
    "    \")\n",
    "               \n",
    "con.commit() # 버퍼에 처리된 내용을 기록 - commit\n",
    "cursor.close()\n",
    "con.close()"
   ]
  },
  {
   "cell_type": "code",
   "execution_count": 2,
   "id": "9ae0f578",
   "metadata": {},
   "outputs": [],
   "source": [
    "import sqlite3 as s\n",
    "con=s.connect(\"my01.db\") # 데이터베이스 연결\n",
    "cursor = con.cursor()\n",
    "\n",
    "#테이블내 레코드 삽입\n",
    "cursor.execute(\"insert into examtable (name, studentid, kor, eng, mat) values (\\\"나연\\\", 20990001, 95, 100, 95);\")\n",
    "cursor.execute(\"insert into examtable (name, studentid, kor, eng, mat) values (\\\"정연\\\", 20990002, 90, 90, 85);\")\n",
    "cursor.execute(\"insert into examtable (name, studentid, kor, eng, mat) values (\\\"모모\\\", 20990003, 95, 95, 75);\")\n",
    "cursor.execute(\"insert into examtable (name, studentid, kor, eng, mat) values (\\\"사나\\\", 20990004, 85, 90, 90);\")\n",
    "cursor.execute(\"insert into examtable (name, studentid, kor, eng, mat) values (\\\"지효\\\", 20990005, 100, 90, 85);\")\n",
    "cursor.execute(\"insert into examtable (name, studentid, kor, eng, mat) values (\\\"미나\\\", 20990006, 90, 80, 90);\")\n",
    "cursor.execute(\"insert into examtable (name, studentid, kor, eng, mat) values (\\\"다현\\\", 20990007, 75, 90, 100);\")\n",
    "cursor.execute(\"insert into examtable (name, studentid, kor, eng, mat) values (\\\"채영\\\", 20990008, 95, 70, 90);\")\n",
    "cursor.execute(\"insert into examtable (name, studentid, kor, eng, mat) values (\\\"쯔위\\\", 20990009, 85, 90, 90);\")\n",
    "\n",
    "con.commit() # 데이터베이스에 기록\n",
    "cursor.close()\n",
    "con.close()"
   ]
  },
  {
   "cell_type": "code",
   "execution_count": 3,
   "id": "817044d0",
   "metadata": {},
   "outputs": [
    {
     "name": "stdout",
     "output_type": "stream",
     "text": [
      "이름:나연 학번:20990001 국어: 95 영어:100 수학: 95 총점:290    평균: 96\n",
      "이름:정연 학번:20990002 국어: 90 영어: 90 수학: 85 총점:265    평균: 88\n",
      "이름:모모 학번:20990003 국어: 95 영어: 95 수학: 75 총점:265    평균: 88\n",
      "이름:사나 학번:20990004 국어: 85 영어: 90 수학: 90 총점:265    평균: 88\n",
      "이름:지효 학번:20990005 국어:100 영어: 90 수학: 85 총점:275    평균: 91\n",
      "이름:미나 학번:20990006 국어: 90 영어: 80 수학: 90 총점:260    평균: 86\n",
      "이름:다현 학번:20990007 국어: 75 영어: 90 수학:100 총점:265    평균: 88\n",
      "이름:채영 학번:20990008 국어: 95 영어: 70 수학: 90 총점:255    평균: 85\n",
      "이름:쯔위 학번:20990009 국어: 85 영어: 90 수학: 90 총점:265    평균: 88\n"
     ]
    }
   ],
   "source": [
    "import sqlite3 as s\n",
    "con=s.connect(\"my01.db\")\n",
    "cursor = con.cursor()\n",
    "\n",
    "cursor.execute(\"select * from examtable\")\n",
    "\n",
    "one_rec=cursor.fetchall() # 해당 데이터를 전부 가져옴\n",
    "\n",
    "for field in one_rec: # 해당 데이터를 반복문을 통해 하나씩 처리\n",
    "    kor=field[2]\n",
    "    eng=field[3]\n",
    "    mat=field[4]\n",
    "    print(\"이름:%s 학번:%s 국어:%3d 영어:%3d 수학:%3d 총점:%3d\\\n",
    "    평균:%3d\"%(field[0],field[1],kor,eng,mat,kor+eng+mat,int((kor+eng+mat)/3))) # 데이터 출력\n",
    "      \n",
    "cursor.close()\n",
    "con.close()"
   ]
  },
  {
   "cell_type": "code",
   "execution_count": null,
   "id": "cd4ac6fd",
   "metadata": {},
   "outputs": [],
   "source": []
  }
 ],
 "metadata": {
  "kernelspec": {
   "display_name": "Python 3 (ipykernel)",
   "language": "python",
   "name": "python3"
  },
  "language_info": {
   "codemirror_mode": {
    "name": "ipython",
    "version": 3
   },
   "file_extension": ".py",
   "mimetype": "text/x-python",
   "name": "python",
   "nbconvert_exporter": "python",
   "pygments_lexer": "ipython3",
   "version": "3.8.7rc1"
  }
 },
 "nbformat": 4,
 "nbformat_minor": 5
}
