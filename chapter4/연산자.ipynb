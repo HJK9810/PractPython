{
 "cells": [
  {
   "cell_type": "code",
   "execution_count": 1,
   "id": "dc389a5e",
   "metadata": {},
   "outputs": [],
   "source": [
    "a=3 # 단순대입연산자 = 변수의 값을 집어넣는 형태"
   ]
  },
  {
   "cell_type": "code",
   "execution_count": 2,
   "id": "a7cc53aa",
   "metadata": {},
   "outputs": [],
   "source": [
    "b=4 # 변수 = 값 => 가능"
   ]
  },
  {
   "cell_type": "code",
   "execution_count": 3,
   "id": "9d7816c3",
   "metadata": {},
   "outputs": [],
   "source": [
    "c=123+456*6 # 변수 = 수식 => 가능"
   ]
  },
  {
   "cell_type": "code",
   "execution_count": 4,
   "id": "e2d499c6",
   "metadata": {},
   "outputs": [
    {
     "data": {
      "text/plain": [
       "(3, 4, 2859)"
      ]
     },
     "execution_count": 4,
     "metadata": {},
     "output_type": "execute_result"
    }
   ],
   "source": [
    "a,b,c"
   ]
  },
  {
   "cell_type": "code",
   "execution_count": 5,
   "id": "20c365ae",
   "metadata": {},
   "outputs": [
    {
     "ename": "SyntaxError",
     "evalue": "cannot assign to operator (1001618493.py, line 1)",
     "output_type": "error",
     "traceback": [
      "\u001b[1;36m  Input \u001b[1;32mIn [5]\u001b[1;36m\u001b[0m\n\u001b[1;33m    a+b=c\u001b[0m\n\u001b[1;37m    ^\u001b[0m\n\u001b[1;31mSyntaxError\u001b[0m\u001b[1;31m:\u001b[0m cannot assign to operator\n"
     ]
    }
   ],
   "source": [
    "a+b=c # 수식 = 변수 => 불가능"
   ]
  },
  {
   "cell_type": "code",
   "execution_count": 6,
   "id": "635a10f5",
   "metadata": {},
   "outputs": [
    {
     "ename": "SyntaxError",
     "evalue": "cannot assign to operator (1236383597.py, line 1)",
     "output_type": "error",
     "traceback": [
      "\u001b[1;36m  Input \u001b[1;32mIn [6]\u001b[1;36m\u001b[0m\n\u001b[1;33m    123+456=a\u001b[0m\n\u001b[1;37m    ^\u001b[0m\n\u001b[1;31mSyntaxError\u001b[0m\u001b[1;31m:\u001b[0m cannot assign to operator\n"
     ]
    }
   ],
   "source": [
    "123+456=a"
   ]
  },
  {
   "cell_type": "code",
   "execution_count": 7,
   "id": "e8fb615b",
   "metadata": {},
   "outputs": [],
   "source": [
    "a = 1 # 변수의 값을 집어넣는 순간 변수의 자료형 결정 -> 자료형 결정후에는 자료형 형태로 사용해야함"
   ]
  },
  {
   "cell_type": "code",
   "execution_count": 9,
   "id": "754a05db",
   "metadata": {
    "scrolled": true
   },
   "outputs": [
    {
     "ename": "TypeError",
     "evalue": "unsupported operand type(s) for +: 'int' and 'str'",
     "output_type": "error",
     "traceback": [
      "\u001b[1;31m---------------------------------------------------------------------------\u001b[0m",
      "\u001b[1;31mTypeError\u001b[0m                                 Traceback (most recent call last)",
      "Input \u001b[1;32mIn [9]\u001b[0m, in \u001b[0;36m<cell line: 1>\u001b[1;34m()\u001b[0m\n\u001b[1;32m----> 1\u001b[0m a \u001b[38;5;241m=\u001b[39m \u001b[43ma\u001b[49m\u001b[38;5;241;43m+\u001b[39;49m\u001b[43m \u001b[49m\u001b[38;5;124;43m\"\u001b[39;49m\u001b[38;5;124;43m안녕\u001b[39;49m\u001b[38;5;124;43m\"\u001b[39;49m\n",
      "\u001b[1;31mTypeError\u001b[0m: unsupported operand type(s) for +: 'int' and 'str'"
     ]
    }
   ],
   "source": [
    "a = a+ \"안녕\" # a는 수치형"
   ]
  },
  {
   "cell_type": "code",
   "execution_count": 10,
   "id": "a9c6f2df",
   "metadata": {},
   "outputs": [],
   "source": [
    " a=\"abc\" #a에 다시 문자를 대입하는 순간 a는 문자형으로 전환"
   ]
  },
  {
   "cell_type": "code",
   "execution_count": 11,
   "id": "97ed6c09",
   "metadata": {},
   "outputs": [],
   "source": [
    " a=a+\"안녕\" # 문자열 + 문자열이라 사용 가능"
   ]
  },
  {
   "cell_type": "code",
   "execution_count": 12,
   "id": "bd5f2f94",
   "metadata": {},
   "outputs": [
    {
     "data": {
      "text/plain": [
       "'abc안녕'"
      ]
     },
     "execution_count": 12,
     "metadata": {},
     "output_type": "execute_result"
    }
   ],
   "source": [
    "a"
   ]
  },
  {
   "cell_type": "code",
   "execution_count": 18,
   "id": "86938dd2",
   "metadata": {},
   "outputs": [],
   "source": [
    "a=1"
   ]
  },
  {
   "cell_type": "code",
   "execution_count": 19,
   "id": "21e83b37",
   "metadata": {},
   "outputs": [],
   "source": [
    "b=2"
   ]
  },
  {
   "cell_type": "code",
   "execution_count": 20,
   "id": "4ac6551b",
   "metadata": {},
   "outputs": [
    {
     "data": {
      "text/plain": [
       "(1, 2)"
      ]
     },
     "execution_count": 20,
     "metadata": {},
     "output_type": "execute_result"
    }
   ],
   "source": [
    "a, b"
   ]
  },
  {
   "cell_type": "code",
   "execution_count": 21,
   "id": "110588bc",
   "metadata": {},
   "outputs": [],
   "source": [
    "a, b = b, a # a,b=b,a로 a, b의 변수값을 서로 바꾸는것이 가능"
   ]
  },
  {
   "cell_type": "code",
   "execution_count": 22,
   "id": "2c82c398",
   "metadata": {},
   "outputs": [
    {
     "data": {
      "text/plain": [
       "(2, 1)"
      ]
     },
     "execution_count": 22,
     "metadata": {},
     "output_type": "execute_result"
    }
   ],
   "source": [
    "a, b"
   ]
  },
  {
   "cell_type": "code",
   "execution_count": 23,
   "id": "838ee0ed",
   "metadata": {},
   "outputs": [],
   "source": [
    " a,b,c,d,e,f=1,2,\"안녕\",\"하셔요\",3,4 # 여러변수 한꺼번에 대입"
   ]
  },
  {
   "cell_type": "code",
   "execution_count": 24,
   "id": "36f53925",
   "metadata": {},
   "outputs": [
    {
     "data": {
      "text/plain": [
       "(1, 2, '안녕', '하셔요', 3, 4)"
      ]
     },
     "execution_count": 24,
     "metadata": {},
     "output_type": "execute_result"
    }
   ],
   "source": [
    " a,b,c,d,e,f"
   ]
  },
  {
   "cell_type": "code",
   "execution_count": 25,
   "id": "436810ee",
   "metadata": {},
   "outputs": [],
   "source": [
    "a=b=1 # 단순변수 : 값을 '대입', 컬렉션 : 같은 변수를 '공유'"
   ]
  },
  {
   "cell_type": "code",
   "execution_count": 26,
   "id": "d8aea5f3",
   "metadata": {},
   "outputs": [
    {
     "data": {
      "text/plain": [
       "(1, 1)"
      ]
     },
     "execution_count": 26,
     "metadata": {},
     "output_type": "execute_result"
    }
   ],
   "source": [
    "a ,b"
   ]
  },
  {
   "cell_type": "code",
   "execution_count": 27,
   "id": "f0687b83",
   "metadata": {},
   "outputs": [],
   "source": [
    " b=2"
   ]
  },
  {
   "cell_type": "code",
   "execution_count": 28,
   "id": "1610b511",
   "metadata": {},
   "outputs": [
    {
     "data": {
      "text/plain": [
       "(1, 2)"
      ]
     },
     "execution_count": 28,
     "metadata": {},
     "output_type": "execute_result"
    }
   ],
   "source": [
    "a ,b"
   ]
  },
  {
   "cell_type": "code",
   "execution_count": 29,
   "id": "a3957933",
   "metadata": {},
   "outputs": [],
   "source": [
    "a=b=[1,2,3]"
   ]
  },
  {
   "cell_type": "code",
   "execution_count": 30,
   "id": "15061440",
   "metadata": {},
   "outputs": [
    {
     "data": {
      "text/plain": [
       "([1, 2, 3], [1, 2, 3])"
      ]
     },
     "execution_count": 30,
     "metadata": {},
     "output_type": "execute_result"
    }
   ],
   "source": [
    "a, b"
   ]
  },
  {
   "cell_type": "code",
   "execution_count": 31,
   "id": "859c47b9",
   "metadata": {},
   "outputs": [],
   "source": [
    "a[1]=4"
   ]
  },
  {
   "cell_type": "code",
   "execution_count": 32,
   "id": "033c2df9",
   "metadata": {},
   "outputs": [
    {
     "data": {
      "text/plain": [
       "([1, 4, 3], [1, 4, 3])"
      ]
     },
     "execution_count": 32,
     "metadata": {},
     "output_type": "execute_result"
    }
   ],
   "source": [
    "a, b"
   ]
  },
  {
   "cell_type": "code",
   "execution_count": 33,
   "id": "290bc21e",
   "metadata": {},
   "outputs": [],
   "source": [
    "#컬랙션에 값 복사\n",
    "a=[1,2,3,4,5]"
   ]
  },
  {
   "cell_type": "code",
   "execution_count": 34,
   "id": "9fd5fd3c",
   "metadata": {},
   "outputs": [],
   "source": [
    "b=a[:]"
   ]
  },
  {
   "cell_type": "code",
   "execution_count": 35,
   "id": "51932442",
   "metadata": {},
   "outputs": [
    {
     "data": {
      "text/plain": [
       "([1, 2, 3, 4, 5], [1, 2, 3, 4, 5])"
      ]
     },
     "execution_count": 35,
     "metadata": {},
     "output_type": "execute_result"
    }
   ],
   "source": [
    "a,b"
   ]
  },
  {
   "cell_type": "code",
   "execution_count": 36,
   "id": "7c12b224",
   "metadata": {},
   "outputs": [],
   "source": [
    " a[2]=5"
   ]
  },
  {
   "cell_type": "code",
   "execution_count": 37,
   "id": "0e7d5b47",
   "metadata": {},
   "outputs": [
    {
     "data": {
      "text/plain": [
       "([1, 2, 5, 4, 5], [1, 2, 3, 4, 5])"
      ]
     },
     "execution_count": 37,
     "metadata": {},
     "output_type": "execute_result"
    }
   ],
   "source": [
    "a,b"
   ]
  },
  {
   "cell_type": "code",
   "execution_count": 38,
   "id": "fc982368",
   "metadata": {},
   "outputs": [],
   "source": [
    "import sys"
   ]
  },
  {
   "cell_type": "code",
   "execution_count": 39,
   "id": "68e6a4bd",
   "metadata": {},
   "outputs": [],
   "source": [
    " a=123 # a값 정의"
   ]
  },
  {
   "cell_type": "code",
   "execution_count": 40,
   "id": "61ba3ca7",
   "metadata": {},
   "outputs": [
    {
     "data": {
      "text/plain": [
       "73"
      ]
     },
     "execution_count": 40,
     "metadata": {},
     "output_type": "execute_result"
    }
   ],
   "source": [
    " sys.getrefcount(123) # 어느 공간에 만든후 참조"
   ]
  },
  {
   "cell_type": "code",
   "execution_count": 41,
   "id": "d6cdb8e6",
   "metadata": {},
   "outputs": [
    {
     "data": {
      "text/plain": [
       "75"
      ]
     },
     "execution_count": 41,
     "metadata": {},
     "output_type": "execute_result"
    }
   ],
   "source": [
    "b=123;sys.getrefcount(123) # b가 해당 값을 만났기에 참조횟수 증가"
   ]
  },
  {
   "cell_type": "code",
   "execution_count": 42,
   "id": "6dbd62b7",
   "metadata": {},
   "outputs": [
    {
     "data": {
      "text/plain": [
       "76"
      ]
     },
     "execution_count": 42,
     "metadata": {},
     "output_type": "execute_result"
    }
   ],
   "source": [
    " c=123;sys.getrefcount(123)"
   ]
  },
  {
   "cell_type": "code",
   "execution_count": null,
   "id": "25b32ac1",
   "metadata": {},
   "outputs": [],
   "source": []
  }
 ],
 "metadata": {
  "kernelspec": {
   "display_name": "Python 3 (ipykernel)",
   "language": "python",
   "name": "python3"
  },
  "language_info": {
   "codemirror_mode": {
    "name": "ipython",
    "version": 3
   },
   "file_extension": ".py",
   "mimetype": "text/x-python",
   "name": "python",
   "nbconvert_exporter": "python",
   "pygments_lexer": "ipython3",
   "version": "3.8.8rc1"
  }
 },
 "nbformat": 4,
 "nbformat_minor": 5
}
