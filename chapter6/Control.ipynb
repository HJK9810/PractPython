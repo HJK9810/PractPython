{
 "cells": [
  {
   "cell_type": "code",
   "execution_count": 1,
   "id": "795ce1b3",
   "metadata": {},
   "outputs": [
    {
     "name": "stdout",
     "output_type": "stream",
     "text": [
      "0 ,1 ,2 ,"
     ]
    }
   ],
   "source": [
    "for i in range(10):\n",
    "    if(i==3):\n",
    "        break # 루프탈출\n",
    "    print(i,\",\",end=\"\")"
   ]
  },
  {
   "cell_type": "code",
   "execution_count": 2,
   "id": "dd63819a",
   "metadata": {},
   "outputs": [
    {
     "name": "stdout",
     "output_type": "stream",
     "text": [
      "0 ,1 ,2 ,4 ,5 ,6 ,7 ,8 ,9 ,"
     ]
    }
   ],
   "source": [
    "for i in range(10):\n",
    "    if(i==3):\n",
    "        continue # 조건 만족시 실행하지 않고 넘어가기\n",
    "    print(i,\",\",end=\"\")"
   ]
  },
  {
   "cell_type": "code",
   "execution_count": 3,
   "id": "792ee031",
   "metadata": {},
   "outputs": [],
   "source": [
    "i=0;sum=0"
   ]
  },
  {
   "cell_type": "code",
   "execution_count": 4,
   "id": "1b6967e4",
   "metadata": {},
   "outputs": [],
   "source": [
    " while True: # 무한루프 실행\n",
    "    i+=1\n",
    "    sum+=i\n",
    "    if(i==100): break # 만족시 루프탈출"
   ]
  },
  {
   "cell_type": "code",
   "execution_count": 5,
   "id": "6936580a",
   "metadata": {},
   "outputs": [
    {
     "name": "stdout",
     "output_type": "stream",
     "text": [
      "i= 100 sum= 5050\n"
     ]
    }
   ],
   "source": [
    "print(\"i=\",i,\"sum=\",sum) # 최종 i값과 총 합 출력"
   ]
  },
  {
   "cell_type": "code",
   "execution_count": 6,
   "id": "95db80f5",
   "metadata": {},
   "outputs": [
    {
     "name": "stdout",
     "output_type": "stream",
     "text": [
      "******************************\n",
      "******************************\n",
      "******************************\n",
      "******************************\n"
     ]
    }
   ],
   "source": [
    "for i in range(1,121): # 1 ~ 121까지 반복 -> 0부터 시작이 아닌이유? \n",
    "    print(\"*\",end=\"\") # 띄어쓰기나 줄바꿈 없이 붙여 쓰기\n",
    "    if(i%30==0): print(end=\"\\n\") # 0 % 30은 0이 되기에 if문에 걸려 우선 한줄 띄우고 시작하게됨"
   ]
  },
  {
   "cell_type": "code",
   "execution_count": null,
   "id": "4f8cba9f",
   "metadata": {},
   "outputs": [],
   "source": []
  }
 ],
 "metadata": {
  "kernelspec": {
   "display_name": "Python 3 (ipykernel)",
   "language": "python",
   "name": "python3"
  },
  "language_info": {
   "codemirror_mode": {
    "name": "ipython",
    "version": 3
   },
   "file_extension": ".py",
   "mimetype": "text/x-python",
   "name": "python",
   "nbconvert_exporter": "python",
   "pygments_lexer": "ipython3",
   "version": "3.8.7rc1"
  }
 },
 "nbformat": 4,
 "nbformat_minor": 5
}
