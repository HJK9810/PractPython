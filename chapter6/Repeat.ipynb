{
 "cells": [
  {
   "cell_type": "code",
   "execution_count": 1,
   "id": "3c54f470",
   "metadata": {},
   "outputs": [
    {
     "name": "stdout",
     "output_type": "stream",
     "text": [
      "sum= 5050\n"
     ]
    }
   ],
   "source": [
    "# 기본구조\n",
    "i=0      # 반복 카운터용변수 초기화\n",
    "sum=0    # 누적할 변수, 초기화\n",
    "while i <100 : # 0부터 99까지 실행,만일 실행횟수는 100회\n",
    "    i+=1 # i는 1씩 증가\n",
    "    sum = sum + i # sum은 더한 값 누적\n",
    "print(\"sum=\",sum) # while 반복을 빠져 나와서 출력"
   ]
  },
  {
   "cell_type": "code",
   "execution_count": 2,
   "id": "968b671b",
   "metadata": {},
   "outputs": [
    {
     "name": "stdout",
     "output_type": "stream",
     "text": [
      "sum= 5050\n"
     ]
    }
   ],
   "source": [
    "# 1. 카운터 증가후 누적\n",
    "i=0\n",
    "sum=0\n",
    "while i <100 : # i를 0부터 99까지 실행\n",
    "    i+=1 # 우선 i 1증가\n",
    "    sum = sum + i # sum에 i값 누적\n",
    "print(\"sum=\",sum) # 1~100까지 합 출력"
   ]
  },
  {
   "cell_type": "code",
   "execution_count": 3,
   "id": "b67c518b",
   "metadata": {},
   "outputs": [
    {
     "name": "stdout",
     "output_type": "stream",
     "text": [
      "sum= 4950\n"
     ]
    }
   ],
   "source": [
    "# 2. 누적 후 카운터 증가\n",
    "i=0\n",
    "sum=0\n",
    "while i <100 : # i를 0~99까지 실행\n",
    "    sum = sum + i # sum에 i값 누적 -> 최초값 0부터++\n",
    "    i+=1 # i에 1증가\n",
    "print(\"sum=\",sum) # -> 0~99까지의 합 출력"
   ]
  },
  {
   "cell_type": "code",
   "execution_count": 4,
   "id": "ef165da2",
   "metadata": {},
   "outputs": [
    {
     "name": "stdout",
     "output_type": "stream",
     "text": [
      "sum= 5050\n"
     ]
    }
   ],
   "source": [
    "# 3. 누적 후 카운터 증가 -> 단, 범위 늘리기\n",
    "i=0\n",
    "sum=0\n",
    "while i <101 : # i를 0~100까지 실행\n",
    "    sum = sum + i # sum에 i값 누적 -> 최초값 0부터++\n",
    "    i+=1 # i에 1증가\n",
    "print(\"sum=\",sum) # -> 0~100까지의 합 출력"
   ]
  },
  {
   "cell_type": "code",
   "execution_count": 5,
   "id": "bf70d399",
   "metadata": {},
   "outputs": [],
   "source": [
    "i = 0 # 반복용 카운터 겸 인덱스값"
   ]
  },
  {
   "cell_type": "code",
   "execution_count": 6,
   "id": "68bcfa8f",
   "metadata": {},
   "outputs": [
    {
     "name": "stdout",
     "output_type": "stream",
     "text": [
      "a[ 0 ] 자료형: <class 'str'>  값: 1\n",
      "a[ 1 ] 자료형: <class 'int'>  값: 2\n",
      "a[ 2 ] 자료형: <class 'str'>  값: 3\n",
      "a[ 3 ] 자료형: <class 'int'>  값: 55\n"
     ]
    }
   ],
   "source": [
    "# for 변수 in 컬랙션: -> 다음줄에 명령블록\n",
    "for a in [\"1\",2,\"3\",55]:\n",
    "    print(\"a[\",i,\"] 자료형:\",type(a),\" 값:\",a)\n",
    "    i+=1"
   ]
  },
  {
   "cell_type": "code",
   "execution_count": 7,
   "id": "0c945aeb",
   "metadata": {},
   "outputs": [
    {
     "name": "stdout",
     "output_type": "stream",
     "text": [
      "1 ,2 ,3 ,4 ,5 ,6 ,7 ,8 ,9 ,"
     ]
    }
   ],
   "source": [
    "# range(시작, 끝, 증가폭) -> 시작과 증가폭은 생략가능 ==> 시작 기본값 : 0. 증가폭 기본값 : 1\n",
    "for i in range(1,10,1):\n",
    "    print(i,\",\",end=\"\")"
   ]
  },
  {
   "cell_type": "code",
   "execution_count": 8,
   "id": "6eda5f05",
   "metadata": {},
   "outputs": [
    {
     "name": "stdout",
     "output_type": "stream",
     "text": [
      "0 ,1 ,2 ,3 ,4 ,5 ,6 ,7 ,8 ,9 ,"
     ]
    }
   ],
   "source": [
    "# 사용사례 1-1\n",
    "for i in range(10):\n",
    "    print(i,\",\",end=\"\")"
   ]
  },
  {
   "cell_type": "code",
   "execution_count": 9,
   "id": "98b0fe0b",
   "metadata": {},
   "outputs": [
    {
     "name": "stdout",
     "output_type": "stream",
     "text": [
      "1 ,2 ,3 ,4 ,5 ,6 ,7 ,8 ,9 ,"
     ]
    }
   ],
   "source": [
    "# 사용사례 1-2\n",
    "for i in range(1,10):\n",
    "    print(i,\",\",end=\"\")"
   ]
  },
  {
   "cell_type": "code",
   "execution_count": 10,
   "id": "0fca99e6",
   "metadata": {},
   "outputs": [
    {
     "name": "stdout",
     "output_type": "stream",
     "text": [
      "1 ,3 ,5 ,7 ,9 ,"
     ]
    }
   ],
   "source": [
    "# 사용사례 2-1\n",
    "for i in range(1,10,2):\n",
    "    print(i,\",\",end=\"\")"
   ]
  },
  {
   "cell_type": "code",
   "execution_count": 11,
   "id": "dbb8a9c1",
   "metadata": {},
   "outputs": [
    {
     "name": "stdout",
     "output_type": "stream",
     "text": [
      "10 ,9 ,8 ,7 ,6 ,5 ,4 ,3 ,2 ,1 ,"
     ]
    }
   ],
   "source": [
    "# 사용사례 2-2\n",
    "for i in range(10,0,-1):\n",
    "    print(i,\",\",end=\"\")"
   ]
  },
  {
   "cell_type": "code",
   "execution_count": null,
   "id": "73aef9b4",
   "metadata": {},
   "outputs": [],
   "source": []
  }
 ],
 "metadata": {
  "kernelspec": {
   "display_name": "Python 3 (ipykernel)",
   "language": "python",
   "name": "python3"
  },
  "language_info": {
   "codemirror_mode": {
    "name": "ipython",
    "version": 3
   },
   "file_extension": ".py",
   "mimetype": "text/x-python",
   "name": "python",
   "nbconvert_exporter": "python",
   "pygments_lexer": "ipython3",
   "version": "3.8.7rc1"
  }
 },
 "nbformat": 4,
 "nbformat_minor": 5
}
