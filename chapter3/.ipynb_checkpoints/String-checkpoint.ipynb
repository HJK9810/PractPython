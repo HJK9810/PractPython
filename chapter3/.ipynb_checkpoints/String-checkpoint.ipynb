{
 "cells": [
  {
   "cell_type": "code",
   "execution_count": 1,
   "id": "d32cb198",
   "metadata": {},
   "outputs": [],
   "source": [
    "a=\"aaa\""
   ]
  },
  {
   "cell_type": "code",
   "execution_count": 2,
   "id": "e09b8710",
   "metadata": {},
   "outputs": [],
   "source": [
    "b=\"bbb\""
   ]
  },
  {
   "cell_type": "code",
   "execution_count": 3,
   "id": "769c7879",
   "metadata": {},
   "outputs": [
    {
     "data": {
      "text/plain": [
       "'aaabbb'"
      ]
     },
     "execution_count": 3,
     "metadata": {},
     "output_type": "execute_result"
    }
   ],
   "source": [
    "a+b # 문자열 + 문자열 == 첫번째문자열 작성후 두번째문자열 이어쓰기"
   ]
  },
  {
   "cell_type": "code",
   "execution_count": 4,
   "id": "0de4831a",
   "metadata": {},
   "outputs": [
    {
     "ename": "TypeError",
     "evalue": "can't multiply sequence by non-int of type 'str'",
     "output_type": "error",
     "traceback": [
      "\u001b[1;31m---------------------------------------------------------------------------\u001b[0m",
      "\u001b[1;31mTypeError\u001b[0m                                 Traceback (most recent call last)",
      "Input \u001b[1;32mIn [4]\u001b[0m, in \u001b[0;36m<cell line: 1>\u001b[1;34m()\u001b[0m\n\u001b[1;32m----> 1\u001b[0m \u001b[43ma\u001b[49m\u001b[38;5;241;43m*\u001b[39;49m\u001b[43mb\u001b[49m\n",
      "\u001b[1;31mTypeError\u001b[0m: can't multiply sequence by non-int of type 'str'"
     ]
    }
   ],
   "source": [
    "a*b # 문자열 * 문자열은 불가"
   ]
  },
  {
   "cell_type": "code",
   "execution_count": 5,
   "id": "26361736",
   "metadata": {},
   "outputs": [
    {
     "data": {
      "text/plain": [
       "'aaaaaaaaa'"
      ]
     },
     "execution_count": 5,
     "metadata": {},
     "output_type": "execute_result"
    }
   ],
   "source": [
    "a*3 # 문자열 * 숫자 == 해당 문자열을 숫자만큼 반복"
   ]
  },
  {
   "cell_type": "code",
   "execution_count": 6,
   "id": "839bb0dd",
   "metadata": {},
   "outputs": [
    {
     "data": {
      "text/plain": [
       "'bbbbbbbbbbbbbbb'"
      ]
     },
     "execution_count": 6,
     "metadata": {},
     "output_type": "execute_result"
    }
   ],
   "source": [
    "b*5"
   ]
  },
  {
   "cell_type": "code",
   "execution_count": 7,
   "id": "6248fbb2",
   "metadata": {},
   "outputs": [],
   "source": [
    "# 호랑이가 \"떡하나 주면 안잡아 먹지\" 라고 말했습니다"
   ]
  },
  {
   "cell_type": "code",
   "execution_count": 10,
   "id": "78f20b5e",
   "metadata": {},
   "outputs": [
    {
     "name": "stdout",
     "output_type": "stream",
     "text": [
      "호랑이가 \"떡하나 주면 안잡아 먹지\" 라고 말했습니다.\n"
     ]
    }
   ],
   "source": [
    "print ('호랑이가 \"떡하나 주면 안잡아 먹지\" 라고 말했습니다.') #따옴표 안에 쌍따옴표 하는것은 가능"
   ]
  },
  {
   "cell_type": "code",
   "execution_count": 11,
   "id": "800443ab",
   "metadata": {},
   "outputs": [
    {
     "name": "stdout",
     "output_type": "stream",
     "text": [
      " 호랑이가 \"떡하나 주면 안잡아 먹지\" 라고 말했습니다.\n"
     ]
    }
   ],
   "source": [
    "print (\" 호랑이가 \\\"떡하나 주면 안잡아 먹지\\\" 라고 말했습니다.\") #같은 따옴표 사용시 \\사용 필수"
   ]
  },
  {
   "cell_type": "code",
   "execution_count": 12,
   "id": "f7301e31",
   "metadata": {},
   "outputs": [],
   "source": [
    " #I say \" I Love You\""
   ]
  },
  {
   "cell_type": "code",
   "execution_count": 13,
   "id": "ff98bc81",
   "metadata": {},
   "outputs": [
    {
     "name": "stdout",
     "output_type": "stream",
     "text": [
      "I say \"I Love You\"\n"
     ]
    }
   ],
   "source": [
    "print (\"I say \\\"I Love You\\\"\")"
   ]
  },
  {
   "cell_type": "code",
   "execution_count": 14,
   "id": "93d87a07",
   "metadata": {},
   "outputs": [
    {
     "ename": "SyntaxError",
     "evalue": "invalid syntax (832799594.py, line 1)",
     "output_type": "error",
     "traceback": [
      "\u001b[1;36m  Input \u001b[1;32mIn [14]\u001b[1;36m\u001b[0m\n\u001b[1;33m    print (\"I say \"I Love You\"\")\u001b[0m\n\u001b[1;37m                   ^\u001b[0m\n\u001b[1;31mSyntaxError\u001b[0m\u001b[1;31m:\u001b[0m invalid syntax\n"
     ]
    }
   ],
   "source": [
    "print (\"I say \"I Love You\"\")"
   ]
  },
  {
   "cell_type": "code",
   "execution_count": 15,
   "id": "e5d30f97",
   "metadata": {},
   "outputs": [],
   "source": [
    "# 확장문자 종료\n",
    "# 1. \\n : 개행문자\n",
    "# 2. \\t : 탭 처리\n",
    "# 3. \\\" : 따옴표 처리\n",
    "# 4. \\' : 홀따옴표 처리\n",
    "# 5. \\\\ : 역슬래시 처리"
   ]
  },
  {
   "cell_type": "code",
   "execution_count": 16,
   "id": "0092635d",
   "metadata": {},
   "outputs": [
    {
     "name": "stdout",
     "output_type": "stream",
     "text": [
      "오늘 열심히 파이썬을 공부했습니다. \n",
      "내일도 열심히 파이썬을 공부할 것입니다. \n",
      "그래서 일등할 것입니다\n"
     ]
    }
   ],
   "source": [
    "print(\"\"\"오늘 열심히 파이썬을 공부했습니다. \n",
    "내일도 열심히 파이썬을 공부할 것입니다. \n",
    "그래서 일등할 것입니다\"\"\")\n",
    "# \"\"\"사용시 다음\"\"\"가 나올때까지 줄을 바꾸어 사용 가능 -> 줄바꿈시 그대로 출력"
   ]
  },
  {
   "cell_type": "code",
   "execution_count": 17,
   "id": "9164ef59",
   "metadata": {},
   "outputs": [
    {
     "name": "stdout",
     "output_type": "stream",
     "text": [
      "오늘 열심히 파이썬을 공부했습니다. 내일도 열심히 파이썬을 공부할 것입니다. 그래서 일등할 것입니다\n"
     ]
    }
   ],
   "source": [
    "print(\"오늘 열심히 파이썬을 공부했습니다. \\\n",
    "내일도 열심히 파이썬을 공부할 것입니다. \\\n",
    "그래서 일등할 것입니다\")\n",
    "# \\나 +를 사용해서 출력 가능 -> 줄바꿈은 표현 안됨"
   ]
  },
  {
   "cell_type": "code",
   "execution_count": 18,
   "id": "8a9ffe5a",
   "metadata": {},
   "outputs": [],
   "source": [
    "a = \"오늘은\" \"즐거운\" \"일요일\""
   ]
  },
  {
   "cell_type": "code",
   "execution_count": 19,
   "id": "718e55b1",
   "metadata": {},
   "outputs": [
    {
     "name": "stdout",
     "output_type": "stream",
     "text": [
      "오늘은즐거운일요일\n"
     ]
    }
   ],
   "source": [
    "print (a) # 변수에 작은 문자열 나열후 출력"
   ]
  },
  {
   "cell_type": "code",
   "execution_count": 20,
   "id": "4a4e93d7",
   "metadata": {},
   "outputs": [
    {
     "name": "stdout",
     "output_type": "stream",
     "text": [
      "오늘 열심히 파이썬을 공부했습니다. \n",
      "내일도 열심히 파이썬을 공부할 것입니다. \n",
      "그래서 일등할 것입니다\n"
     ]
    }
   ],
   "source": [
    " print(\"오늘 열심히 파이썬을 공부했습니다. \\n\"\n",
    "\"내일도 열심히 파이썬을 공부할 것입니다. \\n\"\n",
    "\"그래서 일등할 것입니다\")"
   ]
  },
  {
   "cell_type": "code",
   "execution_count": null,
   "id": "de5ab33d",
   "metadata": {},
   "outputs": [],
   "source": []
  }
 ],
 "metadata": {
  "kernelspec": {
   "display_name": "Python 3 (ipykernel)",
   "language": "python",
   "name": "python3"
  },
  "language_info": {
   "codemirror_mode": {
    "name": "ipython",
    "version": 3
   },
   "file_extension": ".py",
   "mimetype": "text/x-python",
   "name": "python",
   "nbconvert_exporter": "python",
   "pygments_lexer": "ipython3",
   "version": "3.8.8rc1"
  }
 },
 "nbformat": 4,
 "nbformat_minor": 5
}
