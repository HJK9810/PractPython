{
 "cells": [
  {
   "cell_type": "code",
   "execution_count": 1,
   "id": "65f45a8e",
   "metadata": {},
   "outputs": [],
   "source": [
    "a=10"
   ]
  },
  {
   "cell_type": "code",
   "execution_count": 2,
   "id": "e731e2fe",
   "metadata": {},
   "outputs": [],
   "source": [
    "b=1200"
   ]
  },
  {
   "cell_type": "code",
   "execution_count": 4,
   "id": "42124f7b",
   "metadata": {},
   "outputs": [],
   "source": [
    "c=+1200"
   ]
  },
  {
   "cell_type": "code",
   "execution_count": 5,
   "id": "f8af51c7",
   "metadata": {},
   "outputs": [],
   "source": [
    "d=-1234"
   ]
  },
  {
   "cell_type": "code",
   "execution_count": 6,
   "id": "8fe0263b",
   "metadata": {},
   "outputs": [
    {
     "name": "stdout",
     "output_type": "stream",
     "text": [
      "a= 10  b= 1200  c= 1200  d= -1234\n"
     ]
    }
   ],
   "source": [
    "print(\"a=\",a ,\" b=\",b ,\" c=\",c, \" d=\",d)"
   ]
  },
  {
   "cell_type": "code",
   "execution_count": 7,
   "id": "3e758849",
   "metadata": {},
   "outputs": [],
   "source": [
    " a=21098134232408921340891340984312089423089341208943120934120894312089"
   ]
  },
  {
   "cell_type": "code",
   "execution_count": 8,
   "id": "7d45c248",
   "metadata": {},
   "outputs": [],
   "source": [
    " b=234412307893421789078903455107893412093412089341208934120894320893421"
   ]
  },
  {
   "cell_type": "code",
   "execution_count": 9,
   "id": "94466c66",
   "metadata": {},
   "outputs": [
    {
     "name": "stdout",
     "output_type": "stream",
     "text": [
      "a+b= 255510442125830710419794796092205501516501430550152055055015215205510\n"
     ]
    }
   ],
   "source": [
    "print(\"a+b=\", a+b) # overflow 없이 상당히 큰 숫자 사용가능"
   ]
  },
  {
   "cell_type": "code",
   "execution_count": 10,
   "id": "16981d9e",
   "metadata": {
    "scrolled": true
   },
   "outputs": [
    {
     "name": "stdout",
     "output_type": "stream",
     "text": [
      "a*b= 4945662337664182251045508647662854964228779292407290431545377548887919021506299614458775856747962183641984855519033366861090951680866469\n"
     ]
    }
   ],
   "source": [
    "print(\"a*b=\", a*b)"
   ]
  },
  {
   "cell_type": "code",
   "execution_count": 11,
   "id": "903dbc6f",
   "metadata": {},
   "outputs": [
    {
     "data": {
      "text/plain": [
       "10"
      ]
     },
     "execution_count": 11,
     "metadata": {},
     "output_type": "execute_result"
    }
   ],
   "source": [
    "0b1010"
   ]
  },
  {
   "cell_type": "code",
   "execution_count": 12,
   "id": "0221a276",
   "metadata": {
    "scrolled": true
   },
   "outputs": [
    {
     "data": {
      "text/plain": [
       "15"
      ]
     },
     "execution_count": 12,
     "metadata": {},
     "output_type": "execute_result"
    }
   ],
   "source": [
    "0b1111"
   ]
  },
  {
   "cell_type": "code",
   "execution_count": 13,
   "id": "db51291f",
   "metadata": {},
   "outputs": [
    {
     "data": {
      "text/plain": [
       "1"
      ]
     },
     "execution_count": 13,
     "metadata": {},
     "output_type": "execute_result"
    }
   ],
   "source": [
    "0b0001"
   ]
  },
  {
   "cell_type": "code",
   "execution_count": 19,
   "id": "59640aa1",
   "metadata": {},
   "outputs": [
    {
     "ename": "SyntaxError",
     "evalue": "invalid digit '2' in binary literal (1242682852.py, line 1)",
     "output_type": "error",
     "traceback": [
      "\u001b[1;36m  Input \u001b[1;32mIn [19]\u001b[1;36m\u001b[0m\n\u001b[1;33m    0b0201 # 2진수를 써야해서 2 사용불가\u001b[0m\n\u001b[1;37m       ^\u001b[0m\n\u001b[1;31mSyntaxError\u001b[0m\u001b[1;31m:\u001b[0m invalid digit '2' in binary literal\n"
     ]
    }
   ],
   "source": [
    "0b0201 # 2진수를 써야해서 2 사용불가"
   ]
  },
  {
   "cell_type": "code",
   "execution_count": 15,
   "id": "93d1ec37",
   "metadata": {},
   "outputs": [
    {
     "data": {
      "text/plain": [
       "16"
      ]
     },
     "execution_count": 15,
     "metadata": {},
     "output_type": "execute_result"
    }
   ],
   "source": [
    "0x10"
   ]
  },
  {
   "cell_type": "code",
   "execution_count": 16,
   "id": "63cba541",
   "metadata": {},
   "outputs": [
    {
     "data": {
      "text/plain": [
       "26"
      ]
     },
     "execution_count": 16,
     "metadata": {},
     "output_type": "execute_result"
    }
   ],
   "source": [
    "0x1a"
   ]
  },
  {
   "cell_type": "code",
   "execution_count": 17,
   "id": "fab5b50f",
   "metadata": {},
   "outputs": [
    {
     "data": {
      "text/plain": [
       "47"
      ]
     },
     "execution_count": 17,
     "metadata": {},
     "output_type": "execute_result"
    }
   ],
   "source": [
    "0x2f"
   ]
  },
  {
   "cell_type": "code",
   "execution_count": 18,
   "id": "34ea5f01",
   "metadata": {},
   "outputs": [
    {
     "ename": "SyntaxError",
     "evalue": "invalid syntax (4098235423.py, line 1)",
     "output_type": "error",
     "traceback": [
      "\u001b[1;36m  Input \u001b[1;32mIn [18]\u001b[1;36m\u001b[0m\n\u001b[1;33m    0x3z # 16진수에서 사용되는 알파벳은 a~f까지\u001b[0m\n\u001b[1;37m       ^\u001b[0m\n\u001b[1;31mSyntaxError\u001b[0m\u001b[1;31m:\u001b[0m invalid syntax\n"
     ]
    }
   ],
   "source": [
    "0x3z # 16진수에서 사용되는 알파벳은 a~f까지"
   ]
  },
  {
   "cell_type": "code",
   "execution_count": 20,
   "id": "1678b203",
   "metadata": {},
   "outputs": [
    {
     "name": "stdout",
     "output_type": "stream",
     "text": [
      "0xc\n",
      "0o26\n",
      "0b100001\n"
     ]
    }
   ],
   "source": [
    "print(hex(12));print(oct(22));print(bin(33))\n",
    "# hex() : 16진수 변환\n",
    "# bin() : 2진수 변환\n",
    "#oct() : 8진수 변환"
   ]
  },
  {
   "cell_type": "code",
   "execution_count": 1,
   "id": "82bb241f",
   "metadata": {},
   "outputs": [
    {
     "data": {
      "text/plain": [
       "9460000000000.0"
      ]
     },
     "execution_count": 1,
     "metadata": {},
     "output_type": "execute_result"
    }
   ],
   "source": [
    " 9.46e12 #eN == 10 ^ N"
   ]
  },
  {
   "cell_type": "code",
   "execution_count": 2,
   "id": "4ee50346",
   "metadata": {},
   "outputs": [
    {
     "data": {
      "text/plain": [
       "1.2131232417683412e+32"
      ]
     },
     "execution_count": 2,
     "metadata": {},
     "output_type": "execute_result"
    }
   ],
   "source": [
    " 9.46e12 + 121312324176834127678963412341298"
   ]
  },
  {
   "cell_type": "code",
   "execution_count": 3,
   "id": "a658193e",
   "metadata": {
    "scrolled": true
   },
   "outputs": [
    {
     "ename": "SyntaxError",
     "evalue": "invalid syntax (1681953706.py, line 1)",
     "output_type": "error",
     "traceback": [
      "\u001b[1;36m  Input \u001b[1;32mIn [3]\u001b[1;36m\u001b[0m\n\u001b[1;33m    a=1+2i\u001b[0m\n\u001b[1;37m         ^\u001b[0m\n\u001b[1;31mSyntaxError\u001b[0m\u001b[1;31m:\u001b[0m invalid syntax\n"
     ]
    }
   ],
   "source": [
    "a=1+2i"
   ]
  },
  {
   "cell_type": "code",
   "execution_count": 4,
   "id": "5ff3115e",
   "metadata": {},
   "outputs": [],
   "source": [
    " a=1+2j # 파이썬에서 복소수는 i가 아니라 j를 사용!"
   ]
  },
  {
   "cell_type": "code",
   "execution_count": 5,
   "id": "c7122b68",
   "metadata": {},
   "outputs": [],
   "source": [
    "b=1-2j"
   ]
  },
  {
   "cell_type": "code",
   "execution_count": 6,
   "id": "4398ba72",
   "metadata": {},
   "outputs": [
    {
     "name": "stdout",
     "output_type": "stream",
     "text": [
      "(2+0j) (5+0j)\n"
     ]
    }
   ],
   "source": [
    "print(a+b, a*b)"
   ]
  },
  {
   "cell_type": "code",
   "execution_count": null,
   "id": "3da96e96",
   "metadata": {},
   "outputs": [],
   "source": []
  }
 ],
 "metadata": {
  "kernelspec": {
   "display_name": "Python 3 (ipykernel)",
   "language": "python",
   "name": "python3"
  },
  "language_info": {
   "codemirror_mode": {
    "name": "ipython",
    "version": 3
   },
   "file_extension": ".py",
   "mimetype": "text/x-python",
   "name": "python",
   "nbconvert_exporter": "python",
   "pygments_lexer": "ipython3",
   "version": "3.8.8rc1"
  }
 },
 "nbformat": 4,
 "nbformat_minor": 5
}
