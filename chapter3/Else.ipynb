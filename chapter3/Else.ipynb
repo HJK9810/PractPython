{
 "cells": [
  {
   "cell_type": "code",
   "execution_count": 1,
   "id": "8177ed4a",
   "metadata": {},
   "outputs": [],
   "source": [
    "#boolean형 => True == 참, False == 거짓 >>> 대소문자 주의!!!"
   ]
  },
  {
   "cell_type": "code",
   "execution_count": 2,
   "id": "fa4fecd8",
   "metadata": {},
   "outputs": [],
   "source": [
    "a = True"
   ]
  },
  {
   "cell_type": "code",
   "execution_count": 3,
   "id": "67f7a70d",
   "metadata": {},
   "outputs": [],
   "source": [
    "b = False"
   ]
  },
  {
   "cell_type": "code",
   "execution_count": 4,
   "id": "18671ead",
   "metadata": {},
   "outputs": [
    {
     "data": {
      "text/plain": [
       "False"
      ]
     },
     "execution_count": 4,
     "metadata": {},
     "output_type": "execute_result"
    }
   ],
   "source": [
    "a and b # && 연산자"
   ]
  },
  {
   "cell_type": "code",
   "execution_count": 5,
   "id": "5d170e87",
   "metadata": {},
   "outputs": [
    {
     "data": {
      "text/plain": [
       "True"
      ]
     },
     "execution_count": 5,
     "metadata": {},
     "output_type": "execute_result"
    }
   ],
   "source": [
    "a or b # || 연산자"
   ]
  },
  {
   "cell_type": "code",
   "execution_count": 6,
   "id": "9dd41e7e",
   "metadata": {},
   "outputs": [
    {
     "data": {
      "text/plain": [
       "True"
      ]
     },
     "execution_count": 6,
     "metadata": {},
     "output_type": "execute_result"
    }
   ],
   "source": [
    "a and not b # != 연산자"
   ]
  },
  {
   "cell_type": "code",
   "execution_count": 7,
   "id": "097702a1",
   "metadata": {},
   "outputs": [],
   "source": [
    "a = 0"
   ]
  },
  {
   "cell_type": "code",
   "execution_count": 8,
   "id": "1beb0a86",
   "metadata": {},
   "outputs": [],
   "source": [
    "b = a==0 # b의 값 == a는 0과 같다의 답"
   ]
  },
  {
   "cell_type": "code",
   "execution_count": 9,
   "id": "02b3df52",
   "metadata": {},
   "outputs": [
    {
     "data": {
      "text/plain": [
       "True"
      ]
     },
     "execution_count": 9,
     "metadata": {},
     "output_type": "execute_result"
    }
   ],
   "source": [
    "b"
   ]
  },
  {
   "cell_type": "code",
   "execution_count": 10,
   "id": "002480f2",
   "metadata": {},
   "outputs": [],
   "source": [
    "a = True"
   ]
  },
  {
   "cell_type": "code",
   "execution_count": 11,
   "id": "2fa4d248",
   "metadata": {},
   "outputs": [],
   "source": [
    "b = False"
   ]
  },
  {
   "cell_type": "code",
   "execution_count": 13,
   "id": "b3acfcb2",
   "metadata": {},
   "outputs": [
    {
     "name": "stdout",
     "output_type": "stream",
     "text": [
      "참\n"
     ]
    }
   ],
   "source": [
    "# 비교문의 기본적 형태\n",
    "if 1 > 2 and a and b or b or a:\n",
    "    print (\"참\")\n",
    "else:\n",
    "    print (\"거짓\")"
   ]
  },
  {
   "cell_type": "code",
   "execution_count": 14,
   "id": "a49addad",
   "metadata": {},
   "outputs": [],
   "source": [
    "rainbow = [\"빨\",\"주\",\"노\",\"초\",\"파\",\"남\",\"보\"]"
   ]
  },
  {
   "cell_type": "code",
   "execution_count": 15,
   "id": "c3d918dd",
   "metadata": {},
   "outputs": [
    {
     "name": "stdout",
     "output_type": "stream",
     "text": [
      "['빨', '주', '노', '초', '파', '남', '보']\n"
     ]
    }
   ],
   "source": [
    " print(rainbow) # 배열, 구조체와 유사한것. 여러개의 값을 모아 저장하는 형태. 리스트는 []안에 값 나열하는 형식"
   ]
  },
  {
   "cell_type": "code",
   "execution_count": 16,
   "id": "5d9a0fd9",
   "metadata": {},
   "outputs": [],
   "source": [
    "rainbow = [\"빨강\",\"주황\",\"노랑\",\"초록\",\"파랑\",\"남색\",\"보라\"] # 반복문으로 처리 가능"
   ]
  },
  {
   "cell_type": "code",
   "execution_count": 17,
   "id": "8d244061",
   "metadata": {},
   "outputs": [
    {
     "name": "stdout",
     "output_type": "stream",
     "text": [
      "빨강 색\n",
      "주황 색\n",
      "노랑 색\n",
      "초록 색\n",
      "파랑 색\n",
      "남색 색\n",
      "보라 색\n"
     ]
    }
   ],
   "source": [
    "for color in rainbow :\n",
    "    print ( color, \"색\")"
   ]
  },
  {
   "cell_type": "code",
   "execution_count": 18,
   "id": "837872b7",
   "metadata": {},
   "outputs": [],
   "source": [
    "rainbow = (\"빨강\",\"주황\",\"노랑\",\"초록\",\"파랑\",\"남색\",\"보라\") # 튜플\n",
    "# 컬랙션과 다르게 내용 바꿀수 없음. -> []가 아니라 ()를 사용!"
   ]
  },
  {
   "cell_type": "code",
   "execution_count": 19,
   "id": "0f0c964e",
   "metadata": {},
   "outputs": [
    {
     "name": "stdout",
     "output_type": "stream",
     "text": [
      "빨강 색\n",
      "주황 색\n",
      "노랑 색\n",
      "초록 색\n",
      "파랑 색\n",
      "남색 색\n",
      "보라 색\n"
     ]
    }
   ],
   "source": [
    "for color in rainbow :\n",
    "    print ( color, \"색\")"
   ]
  },
  {
   "cell_type": "code",
   "execution_count": null,
   "id": "57d0609f",
   "metadata": {},
   "outputs": [],
   "source": []
  }
 ],
 "metadata": {
  "kernelspec": {
   "display_name": "Python 3 (ipykernel)",
   "language": "python",
   "name": "python3"
  },
  "language_info": {
   "codemirror_mode": {
    "name": "ipython",
    "version": 3
   },
   "file_extension": ".py",
   "mimetype": "text/x-python",
   "name": "python",
   "nbconvert_exporter": "python",
   "pygments_lexer": "ipython3",
   "version": "3.8.8rc1"
  }
 },
 "nbformat": 4,
 "nbformat_minor": 5
}
